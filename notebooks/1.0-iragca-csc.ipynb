{
 "cells": [
  {
   "cell_type": "markdown",
   "id": "617af833",
   "metadata": {},
   "source": [
    "# What is this notebook? \n",
    "\n",
    "This is just a notebook for testing libraries and functions that will eventually be turned into a script."
   ]
  },
  {
   "cell_type": "code",
   "execution_count": 4,
   "id": "0f808455",
   "metadata": {},
   "outputs": [],
   "source": [
    "import duckdb\n",
    "import polars as pl\n",
    "\n",
    "from ml_final_project.config import RAW_DATA_DIR, PROCESSED_DATA_DIR, INTERIM_DATA_DIR"
   ]
  },
  {
   "cell_type": "code",
   "execution_count": 2,
   "id": "1429bff1",
   "metadata": {},
   "outputs": [],
   "source": [
    "dbPath = RAW_DATA_DIR / \"CivilServiceCommission\" / \"civilservicecommission.duckdb\"\n",
    "\n",
    "db = duckdb.connect(dbPath, read_only=True)"
   ]
  },
  {
   "cell_type": "code",
   "execution_count": 10,
   "id": "46fbc75c",
   "metadata": {},
   "outputs": [
    {
     "data": {
      "text/html": [
       "<div><style>\n",
       ".dataframe > thead > tr,\n",
       ".dataframe > tbody > tr {\n",
       "  text-align: right;\n",
       "  white-space: pre-wrap;\n",
       "}\n",
       "</style>\n",
       "<small>shape: (110_248, 7)</small><table border=\"1\" class=\"dataframe\"><thead><tr><th>Agency</th><th>Region</th><th>Position Title</th><th>Plantilla Item No.</th><th>Posting Date</th><th>Closing Date</th><th>Action</th></tr><tr><td>str</td><td>str</td><td>str</td><td>str</td><td>str</td><td>str</td><td>i32</td></tr></thead><tbody><tr><td>&quot;DEPARTMENT OF EDUCATION&quot;</td><td>&quot;Region XI&quot;</td><td>&quot;Administrative Assistant II (A…</td><td>&quot;OSEC-DECSB-ADAS2-750035-2016&quot;</td><td>&quot;08 Jan 2025&quot;</td><td>&quot;20 Jan 2025&quot;</td><td>4266888</td></tr><tr><td>&quot;DEPARTMENT OF EDUCATION&quot;</td><td>&quot;Region VI&quot;</td><td>&quot;TEACHER III&quot;</td><td>&quot;OSEC-DECSB-TCH3-420004-2009&quot;</td><td>&quot;04 Feb 2025&quot;</td><td>&quot;17 Feb 2025&quot;</td><td>4320062</td></tr><tr><td>&quot;DEPARTMENT OF EDUCATION&quot;</td><td>&quot;Region VI&quot;</td><td>&quot;Teacher III (Elementary)&quot;</td><td>&quot;OSEC-DECSB-TCH3-420848-2015&quot;</td><td>&quot;09 Dec 2024&quot;</td><td>&quot;20 Dec 2024&quot;</td><td>4237574</td></tr><tr><td>&quot;DEPARTMENT OF EDUCATION&quot;</td><td>&quot;Region III&quot;</td><td>&quot;Master Teacher I&quot;</td><td>&quot;OSEC-DECSB-MTCHR1-151363-1998&quot;</td><td>&quot;06 Jan 2025&quot;</td><td>&quot;16 Jan 2025&quot;</td><td>4269105</td></tr><tr><td>&quot;MOUNTAIN PROVINCE STATE POLYTE…</td><td>&quot;CAR&quot;</td><td>&quot;Administrative Officer III (Re…</td><td>&quot;MTPSPCB-ADOF3-31-2023&quot;</td><td>&quot;03 Dec 2024&quot;</td><td>&quot;17 Dec 2024&quot;</td><td>4230051</td></tr><tr><td>&hellip;</td><td>&hellip;</td><td>&hellip;</td><td>&hellip;</td><td>&hellip;</td><td>&hellip;</td><td>&hellip;</td></tr><tr><td>&quot;PUBLIC ATTORNEY S OFFICE&quot;</td><td>&quot;NCR&quot;</td><td>&quot;PUBLIC ATTORNEY I&quot;</td><td>&quot;PATTY1-68-2009&quot;</td><td>&quot;02 Jan 2025&quot;</td><td>&quot;13 Jan 2025&quot;</td><td>4259663</td></tr><tr><td>&quot;MANILA, NCR&quot;</td><td>&quot;NCR&quot;</td><td>&quot;ARCHITECT IV&quot;</td><td>&quot;263&quot;</td><td>&quot;10 Mar 2025&quot;</td><td>&quot;25 Mar 2025&quot;</td><td>4378032</td></tr><tr><td>&quot;VICENTE SOTTO MEMORIAL MEDICAL…</td><td>&quot;Region VII&quot;</td><td>&quot;NURSE I&quot;</td><td>&quot;OSEC-DOHB-NUR1-510473-2021&quot;</td><td>&quot;06 Mar 2025&quot;</td><td>&quot;16 Mar 2025&quot;</td><td>4371019</td></tr><tr><td>&quot;BUREAU OF INTERNAL REVENUE&quot;</td><td>&quot;NCR&quot;</td><td>&quot;REVENUE OFFICER II&quot;</td><td>&quot;BIRB-REVO2-280-2000&quot;</td><td>&quot;20 Dec 2024&quot;</td><td>&quot;30 Dec 2024&quot;</td><td>4251528</td></tr><tr><td>&quot;TECHNICAL EDUCATION AND SKILLS…</td><td>&quot;CAR&quot;</td><td>&quot;Supervising Technical Educatio…</td><td>&quot;TESDAB-SVTESDS-69-2017&quot;</td><td>&quot;17 Feb 2025&quot;</td><td>&quot;28 Feb 2025&quot;</td><td>4340363</td></tr></tbody></table></div>"
      ],
      "text/plain": [
       "shape: (110_248, 7)\n",
       "┌───────────────┬────────────┬──────────────┬──────────────┬──────────────┬──────────────┬─────────┐\n",
       "│ Agency        ┆ Region     ┆ Position     ┆ Plantilla    ┆ Posting Date ┆ Closing Date ┆ Action  │\n",
       "│ ---           ┆ ---        ┆ Title        ┆ Item No.     ┆ ---          ┆ ---          ┆ ---     │\n",
       "│ str           ┆ str        ┆ ---          ┆ ---          ┆ str          ┆ str          ┆ i32     │\n",
       "│               ┆            ┆ str          ┆ str          ┆              ┆              ┆         │\n",
       "╞═══════════════╪════════════╪══════════════╪══════════════╪══════════════╪══════════════╪═════════╡\n",
       "│ DEPARTMENT OF ┆ Region XI  ┆ Administrati ┆ OSEC-DECSB-A ┆ 08 Jan 2025  ┆ 20 Jan 2025  ┆ 4266888 │\n",
       "│ EDUCATION     ┆            ┆ ve Assistant ┆ DAS2-750035- ┆              ┆              ┆         │\n",
       "│               ┆            ┆ II (A…       ┆ 2016         ┆              ┆              ┆         │\n",
       "│ DEPARTMENT OF ┆ Region VI  ┆ TEACHER III  ┆ OSEC-DECSB-T ┆ 04 Feb 2025  ┆ 17 Feb 2025  ┆ 4320062 │\n",
       "│ EDUCATION     ┆            ┆              ┆ CH3-420004-2 ┆              ┆              ┆         │\n",
       "│               ┆            ┆              ┆ 009          ┆              ┆              ┆         │\n",
       "│ DEPARTMENT OF ┆ Region VI  ┆ Teacher III  ┆ OSEC-DECSB-T ┆ 09 Dec 2024  ┆ 20 Dec 2024  ┆ 4237574 │\n",
       "│ EDUCATION     ┆            ┆ (Elementary) ┆ CH3-420848-2 ┆              ┆              ┆         │\n",
       "│               ┆            ┆              ┆ 015          ┆              ┆              ┆         │\n",
       "│ DEPARTMENT OF ┆ Region III ┆ Master       ┆ OSEC-DECSB-M ┆ 06 Jan 2025  ┆ 16 Jan 2025  ┆ 4269105 │\n",
       "│ EDUCATION     ┆            ┆ Teacher I    ┆ TCHR1-151363 ┆              ┆              ┆         │\n",
       "│               ┆            ┆              ┆ -1998        ┆              ┆              ┆         │\n",
       "│ MOUNTAIN      ┆ CAR        ┆ Administrati ┆ MTPSPCB-ADOF ┆ 03 Dec 2024  ┆ 17 Dec 2024  ┆ 4230051 │\n",
       "│ PROVINCE      ┆            ┆ ve Officer   ┆ 3-31-2023    ┆              ┆              ┆         │\n",
       "│ STATE POLYTE… ┆            ┆ III (Re…     ┆              ┆              ┆              ┆         │\n",
       "│ …             ┆ …          ┆ …            ┆ …            ┆ …            ┆ …            ┆ …       │\n",
       "│ PUBLIC        ┆ NCR        ┆ PUBLIC       ┆ PATTY1-68-20 ┆ 02 Jan 2025  ┆ 13 Jan 2025  ┆ 4259663 │\n",
       "│ ATTORNEY S    ┆            ┆ ATTORNEY I   ┆ 09           ┆              ┆              ┆         │\n",
       "│ OFFICE        ┆            ┆              ┆              ┆              ┆              ┆         │\n",
       "│ MANILA, NCR   ┆ NCR        ┆ ARCHITECT IV ┆ 263          ┆ 10 Mar 2025  ┆ 25 Mar 2025  ┆ 4378032 │\n",
       "│ VICENTE SOTTO ┆ Region VII ┆ NURSE I      ┆ OSEC-DOHB-NU ┆ 06 Mar 2025  ┆ 16 Mar 2025  ┆ 4371019 │\n",
       "│ MEMORIAL      ┆            ┆              ┆ R1-510473-20 ┆              ┆              ┆         │\n",
       "│ MEDICAL…      ┆            ┆              ┆ 21           ┆              ┆              ┆         │\n",
       "│ BUREAU OF     ┆ NCR        ┆ REVENUE      ┆ BIRB-REVO2-2 ┆ 20 Dec 2024  ┆ 30 Dec 2024  ┆ 4251528 │\n",
       "│ INTERNAL      ┆            ┆ OFFICER II   ┆ 80-2000      ┆              ┆              ┆         │\n",
       "│ REVENUE       ┆            ┆              ┆              ┆              ┆              ┆         │\n",
       "│ TECHNICAL     ┆ CAR        ┆ Supervising  ┆ TESDAB-SVTES ┆ 17 Feb 2025  ┆ 28 Feb 2025  ┆ 4340363 │\n",
       "│ EDUCATION AND ┆            ┆ Technical    ┆ DS-69-2017   ┆              ┆              ┆         │\n",
       "│ SKILLS…       ┆            ┆ Educatio…    ┆              ┆              ┆              ┆         │\n",
       "└───────────────┴────────────┴──────────────┴──────────────┴──────────────┴──────────────┴─────────┘"
      ]
     },
     "execution_count": 10,
     "metadata": {},
     "output_type": "execute_result"
    }
   ],
   "source": [
    "data = (\n",
    "    db.sql(\"SELECT * FROM civilservicecommission\")\n",
    "    .pl()\n",
    "    .unique(subset=[\"Action\"])\n",
    "    .with_columns([pl.col(\"Action\").cast(pl.Int32).alias(\"Action\")])\n",
    ")\n",
    "\n",
    "data"
   ]
  },
  {
   "cell_type": "code",
   "execution_count": 11,
   "id": "83201e99",
   "metadata": {},
   "outputs": [
    {
     "data": {
      "text/html": [
       "<div><style>\n",
       ".dataframe > thead > tr,\n",
       ".dataframe > tbody > tr {\n",
       "  text-align: right;\n",
       "  white-space: pre-wrap;\n",
       "}\n",
       "</style>\n",
       "<small>shape: (110_244, 12)</small><table border=\"1\" class=\"dataframe\"><thead><tr><th>jobId</th><th>Agency</th><th>PlaceOfAssignment</th><th>PositionTitle</th><th>PlantillaNo</th><th>SalaryGrade</th><th>MonthlySalary</th><th>Eligibility</th><th>Education</th><th>Training</th><th>Experience</th><th>Competency</th></tr><tr><td>i32</td><td>str</td><td>str</td><td>str</td><td>str</td><td>str</td><td>i32</td><td>str</td><td>str</td><td>str</td><td>str</td><td>str</td></tr></thead><tbody><tr><td>3488662</td><td>&quot;DEPARTMENT OF EDUCATION&quot;</td><td>&quot;Curriculum and Learning Manage…</td><td>&quot;Education Program Supervisor&quot;</td><td>&quot;OSEC-DECSB-EPSVR-540087-2010&quot;</td><td>&quot;22&quot;</td><td>71511</td><td>&quot;RA 1080 (Teacher)&quot;</td><td>&quot;Program Supervisor&quot;</td><td>&quot;8 hours of relevant training&quot;</td><td>&quot;2 years as Principal or 2 year…</td><td>&quot;NA&quot;</td></tr><tr><td>3488663</td><td>&quot;DEPARTMENT OF EDUCATION&quot;</td><td>&quot;Curriculum and Learning Manage…</td><td>&quot;Administrative Assistant II (C…</td><td>&quot;OSEC-DECSB-ADAS2-540099-2004&quot;</td><td>&quot;8&quot;</td><td>19744</td><td>&quot;Career Service (Subprofessiona…</td><td>&quot;Completion of two years studie…</td><td>&quot;4 hours of relevant training&quot;</td><td>&quot;1 year of relevant experience&quot;</td><td>&quot;NA&quot;</td></tr><tr><td>3577829</td><td>&quot;CGO PASSI, ILOILO&quot;</td><td>&quot;Office of the City Assessor&quot;</td><td>&quot;Assistant City Assessor I&quot;</td><td>&quot;2&quot;</td><td>&quot;23&quot;</td><td>68003</td><td>&quot;RA 1080 (Real Estate Service)&quot;</td><td>&quot;Bachelor&#x27;s degree preferably i…</td><td>&quot;None required&quot;</td><td>&quot;3 years experience in real pro…</td><td>&quot;- must have knowledge in Appra…</td></tr><tr><td>3584545</td><td>&quot;WEST VISAYAS STATE UNIVERSITY&quot;</td><td>&quot;College of Medicine&quot;</td><td>&quot;Administrative Aide VI (Clerk …</td><td>&quot;WVSUB-ADA6-6-2022&quot;</td><td>&quot;6&quot;</td><td>18255</td><td>&quot;Career Service (Subprofessiona…</td><td>&quot;Completion of two years studie…</td><td>&quot;None Required&quot;</td><td>&quot;None Required&quot;</td><td>&quot;1. Attention to details 2. Com…</td></tr><tr><td>3619486</td><td>&quot;DEPARTMENT OF EDUCATION&quot;</td><td>&quot;WITHIN SCHOOLS DIVISION OF OLO…</td><td>&quot;Administrative Assistant II&quot;</td><td>&quot;OSEC-DECSB-ADAS2-150376-2016&quot;</td><td>&quot;8&quot;</td><td>19744</td><td>&quot;Career Service (Sub-Profession…</td><td>&quot;Completion of 2 years studies …</td><td>&quot;4 hours of relevant training&quot;</td><td>&quot;1 year of relevant experience&quot;</td><td>&quot;NONE&quot;</td></tr><tr><td>&hellip;</td><td>&hellip;</td><td>&hellip;</td><td>&hellip;</td><td>&hellip;</td><td>&hellip;</td><td>&hellip;</td><td>&hellip;</td><td>&hellip;</td><td>&hellip;</td><td>&hellip;</td><td>&hellip;</td></tr><tr><td>4397213</td><td>&quot;DEPARTMENT OF EDUCATION&quot;</td><td>&quot;DepEd Mandaue&quot;</td><td>&quot;PROJECT DEVELOPMENT OFFICER II&quot;</td><td>&quot;PDO2-510042-2015&quot;</td><td>&quot;15&quot;</td><td>40208</td><td>&quot;Career Service (Professional) …</td><td>&quot;Bachelor&#x27;s Degree relevant to …</td><td>&quot;4 hours of relevant training&quot;</td><td>&quot;1 year of relevant experience&quot;</td><td>&quot;&quot;</td></tr><tr><td>4397214</td><td>&quot;DEPARTMENT OF EDUCATION&quot;</td><td>&quot;DepEd Mandaue&quot;</td><td>&quot;TEACHER III (SECONDARY)&quot;</td><td>&quot;TCH3-510528-2019&quot;</td><td>&quot;13&quot;</td><td>34421</td><td>&quot;RA 1080 Teacher&quot;</td><td>&quot;Bachelor of Secondary&quot;</td><td>&quot;None required&quot;</td><td>&quot;Two (2) years relevant experie…</td><td>&quot;&quot;</td></tr><tr><td>4397215</td><td>&quot;DEPARTMENT OF EDUCATION&quot;</td><td>&quot;DepEd Mandaue&quot;</td><td>&quot;ADMINISTRATIVE ASSISTANT III&quot;</td><td>&quot;ADAS3-510286-2017&quot;</td><td>&quot;9&quot;</td><td>23226</td><td>&quot;Career Service (Sub-profession…</td><td>&quot;Completion of two years studie…</td><td>&quot;4 hours of relative training&quot;</td><td>&quot;1 year of relevant experience&quot;</td><td>&quot;&quot;</td></tr><tr><td>4397216</td><td>&quot;UNIVERSITY OF THE PHILIPPINES&quot;</td><td>&quot;Ugnayan ng Pahinungod&quot;</td><td>&quot;University Extension Associate…</td><td>&quot;Contractual&quot;</td><td>&quot;12&quot;</td><td>32245</td><td>&quot;Career Service (Professional) …</td><td>&quot;Bachelor&#x27;s degree relevant to …</td><td>&quot;None&quot;</td><td>&quot;None&quot;</td><td>&quot;* Extensive experience in comm…</td></tr><tr><td>4397217</td><td>&quot;UNIVERSITY OF THE PHILIPPINES&quot;</td><td>&quot;Human Resource Development Off…</td><td>&quot;Administrative Aide IV&quot;</td><td>&quot;Contractual&quot;</td><td>&quot;4-1&quot;</td><td>16833</td><td>&quot;Career Service (Subprofessiona…</td><td>&quot;Completion of two-years studie…</td><td>&quot;None required&quot;</td><td>&quot;None required&quot;</td><td>&quot;* Intermediate knowledge in cr…</td></tr></tbody></table></div>"
      ],
      "text/plain": [
       "shape: (110_244, 12)\n",
       "┌─────────┬────────────┬───────────┬───────────┬───┬───────────┬───────────┬───────────┬───────────┐\n",
       "│ jobId   ┆ Agency     ┆ PlaceOfAs ┆ PositionT ┆ … ┆ Education ┆ Training  ┆ Experienc ┆ Competenc │\n",
       "│ ---     ┆ ---        ┆ signment  ┆ itle      ┆   ┆ ---       ┆ ---       ┆ e         ┆ y         │\n",
       "│ i32     ┆ str        ┆ ---       ┆ ---       ┆   ┆ str       ┆ str       ┆ ---       ┆ ---       │\n",
       "│         ┆            ┆ str       ┆ str       ┆   ┆           ┆           ┆ str       ┆ str       │\n",
       "╞═════════╪════════════╪═══════════╪═══════════╪═══╪═══════════╪═══════════╪═══════════╪═══════════╡\n",
       "│ 3488662 ┆ DEPARTMENT ┆ Curriculu ┆ Education ┆ … ┆ Program   ┆ 8 hours   ┆ 2 years   ┆ NA        │\n",
       "│         ┆ OF         ┆ m and     ┆ Program   ┆   ┆ Superviso ┆ of        ┆ as        ┆           │\n",
       "│         ┆ EDUCATION  ┆ Learning  ┆ Superviso ┆   ┆ r         ┆ relevant  ┆ Principal ┆           │\n",
       "│         ┆            ┆ Manage…   ┆ r         ┆   ┆           ┆ training  ┆ or 2      ┆           │\n",
       "│         ┆            ┆           ┆           ┆   ┆           ┆           ┆ year…     ┆           │\n",
       "│ 3488663 ┆ DEPARTMENT ┆ Curriculu ┆ Administr ┆ … ┆ Completio ┆ 4 hours   ┆ 1 year of ┆ NA        │\n",
       "│         ┆ OF         ┆ m and     ┆ ative     ┆   ┆ n of two  ┆ of        ┆ relevant  ┆           │\n",
       "│         ┆ EDUCATION  ┆ Learning  ┆ Assistant ┆   ┆ years     ┆ relevant  ┆ experienc ┆           │\n",
       "│         ┆            ┆ Manage…   ┆ II (C…    ┆   ┆ studie…   ┆ training  ┆ e         ┆           │\n",
       "│ 3577829 ┆ CGO PASSI, ┆ Office of ┆ Assistant ┆ … ┆ Bachelor' ┆ None      ┆ 3 years   ┆ - must    │\n",
       "│         ┆ ILOILO     ┆ the City  ┆ City      ┆   ┆ s degree  ┆ required  ┆ experienc ┆ have      │\n",
       "│         ┆            ┆ Assessor  ┆ Assessor  ┆   ┆ preferabl ┆           ┆ e in real ┆ knowledge │\n",
       "│         ┆            ┆           ┆ I         ┆   ┆ y i…      ┆           ┆ pro…      ┆ in Appra… │\n",
       "│ 3584545 ┆ WEST       ┆ College   ┆ Administr ┆ … ┆ Completio ┆ None      ┆ None      ┆ 1.        │\n",
       "│         ┆ VISAYAS    ┆ of        ┆ ative     ┆   ┆ n of two  ┆ Required  ┆ Required  ┆ Attention │\n",
       "│         ┆ STATE      ┆ Medicine  ┆ Aide VI   ┆   ┆ years     ┆           ┆           ┆ to        │\n",
       "│         ┆ UNIVERSITY ┆           ┆ (Clerk …  ┆   ┆ studie…   ┆           ┆           ┆ details   │\n",
       "│         ┆            ┆           ┆           ┆   ┆           ┆           ┆           ┆ 2. Com…   │\n",
       "│ 3619486 ┆ DEPARTMENT ┆ WITHIN    ┆ Administr ┆ … ┆ Completio ┆ 4 hours   ┆ 1 year of ┆ NONE      │\n",
       "│         ┆ OF         ┆ SCHOOLS   ┆ ative     ┆   ┆ n of 2    ┆ of        ┆ relevant  ┆           │\n",
       "│         ┆ EDUCATION  ┆ DIVISION  ┆ Assistant ┆   ┆ years     ┆ relevant  ┆ experienc ┆           │\n",
       "│         ┆            ┆ OF OLO…   ┆ II        ┆   ┆ studies … ┆ training  ┆ e         ┆           │\n",
       "│ …       ┆ …          ┆ …         ┆ …         ┆ … ┆ …         ┆ …         ┆ …         ┆ …         │\n",
       "│ 4397213 ┆ DEPARTMENT ┆ DepEd     ┆ PROJECT   ┆ … ┆ Bachelor' ┆ 4 hours   ┆ 1 year of ┆           │\n",
       "│         ┆ OF         ┆ Mandaue   ┆ DEVELOPME ┆   ┆ s Degree  ┆ of        ┆ relevant  ┆           │\n",
       "│         ┆ EDUCATION  ┆           ┆ NT        ┆   ┆ relevant  ┆ relevant  ┆ experienc ┆           │\n",
       "│         ┆            ┆           ┆ OFFICER   ┆   ┆ to …      ┆ training  ┆ e         ┆           │\n",
       "│         ┆            ┆           ┆ II        ┆   ┆           ┆           ┆           ┆           │\n",
       "│ 4397214 ┆ DEPARTMENT ┆ DepEd     ┆ TEACHER   ┆ … ┆ Bachelor  ┆ None      ┆ Two (2)   ┆           │\n",
       "│         ┆ OF         ┆ Mandaue   ┆ III (SECO ┆   ┆ of        ┆ required  ┆ years     ┆           │\n",
       "│         ┆ EDUCATION  ┆           ┆ NDARY)    ┆   ┆ Secondary ┆           ┆ relevant  ┆           │\n",
       "│         ┆            ┆           ┆           ┆   ┆           ┆           ┆ experie…  ┆           │\n",
       "│ 4397215 ┆ DEPARTMENT ┆ DepEd     ┆ ADMINISTR ┆ … ┆ Completio ┆ 4 hours   ┆ 1 year of ┆           │\n",
       "│         ┆ OF         ┆ Mandaue   ┆ ATIVE     ┆   ┆ n of two  ┆ of        ┆ relevant  ┆           │\n",
       "│         ┆ EDUCATION  ┆           ┆ ASSISTANT ┆   ┆ years     ┆ relative  ┆ experienc ┆           │\n",
       "│         ┆            ┆           ┆ III       ┆   ┆ studie…   ┆ training  ┆ e         ┆           │\n",
       "│ 4397216 ┆ UNIVERSITY ┆ Ugnayan   ┆ Universit ┆ … ┆ Bachelor' ┆ None      ┆ None      ┆ *         │\n",
       "│         ┆ OF THE PHI ┆ ng Pahinu ┆ y         ┆   ┆ s degree  ┆           ┆           ┆ Extensive │\n",
       "│         ┆ LIPPINES   ┆ ngod      ┆ Extension ┆   ┆ relevant  ┆           ┆           ┆ experienc │\n",
       "│         ┆            ┆           ┆ Associate ┆   ┆ to …      ┆           ┆           ┆ e in      │\n",
       "│         ┆            ┆           ┆ …         ┆   ┆           ┆           ┆           ┆ comm…     │\n",
       "│ 4397217 ┆ UNIVERSITY ┆ Human     ┆ Administr ┆ … ┆ Completio ┆ None      ┆ None      ┆ * Interme │\n",
       "│         ┆ OF THE PHI ┆ Resource  ┆ ative     ┆   ┆ n of      ┆ required  ┆ required  ┆ diate     │\n",
       "│         ┆ LIPPINES   ┆ Developme ┆ Aide IV   ┆   ┆ two-years ┆           ┆           ┆ knowledge │\n",
       "│         ┆            ┆ nt Off…   ┆           ┆   ┆ studie…   ┆           ┆           ┆ in cr…    │\n",
       "└─────────┴────────────┴───────────┴───────────┴───┴───────────┴───────────┴───────────┴───────────┘"
      ]
     },
     "execution_count": 11,
     "metadata": {},
     "output_type": "execute_result"
    }
   ],
   "source": [
    "pdfDbPath = INTERIM_DATA_DIR / \"CivilServiceCommission\" / \"civilservicecommission_pdfs.duckdb\"\n",
    "\n",
    "pdfDb = duckdb.connect(pdfDbPath, read_only=True)\n",
    "pdfData = pdfDb.sql(\"SELECT * FROM civilservicecommission_pdfs\").pl()\n",
    "pdfData"
   ]
  },
  {
   "cell_type": "code",
   "execution_count": 16,
   "id": "5a4dfe15",
   "metadata": {},
   "outputs": [
    {
     "data": {
      "text/html": [
       "<div><style>\n",
       ".dataframe > thead > tr,\n",
       ".dataframe > tbody > tr {\n",
       "  text-align: right;\n",
       "  white-space: pre-wrap;\n",
       "}\n",
       "</style>\n",
       "<small>shape: (1, 18)</small><table border=\"1\" class=\"dataframe\"><thead><tr><th>jobId</th><th>Agency</th><th>PlaceOfAssignment</th><th>PositionTitle</th><th>PlantillaNo</th><th>SalaryGrade</th><th>MonthlySalary</th><th>Eligibility</th><th>Education</th><th>Training</th><th>Experience</th><th>Competency</th><th>Agency_right</th><th>Region</th><th>Position Title</th><th>Plantilla Item No.</th><th>Posting Date</th><th>Closing Date</th></tr><tr><td>i32</td><td>str</td><td>str</td><td>str</td><td>str</td><td>str</td><td>i32</td><td>str</td><td>str</td><td>str</td><td>str</td><td>str</td><td>str</td><td>str</td><td>str</td><td>str</td><td>str</td><td>str</td></tr></thead><tbody><tr><td>4266888</td><td>&quot;DEPARTMENT OF EDUCATION&quot;</td><td>&quot;Any Senior High School within …</td><td>&quot;Administrative Assistant II (A…</td><td>&quot;OSEC-DECSB-ADAS2-750035-2016&quot;</td><td>&quot;8&quot;</td><td>20534</td><td>&quot;Career Service (Subprofessiona…</td><td>&quot;Completion of 2 years studies …</td><td>&quot;4 hours of relevant training&quot;</td><td>&quot;1 year of relevant experience&quot;</td><td>&quot;Self-Management, Professionali…</td><td>&quot;DEPARTMENT OF EDUCATION&quot;</td><td>&quot;Region XI&quot;</td><td>&quot;Administrative Assistant II (A…</td><td>&quot;OSEC-DECSB-ADAS2-750035-2016&quot;</td><td>&quot;08 Jan 2025&quot;</td><td>&quot;20 Jan 2025&quot;</td></tr></tbody></table></div>"
      ],
      "text/plain": [
       "shape: (1, 18)\n",
       "┌─────────┬────────────┬───────────┬───────────┬───┬───────────┬───────────┬───────────┬───────────┐\n",
       "│ jobId   ┆ Agency     ┆ PlaceOfAs ┆ PositionT ┆ … ┆ Position  ┆ Plantilla ┆ Posting   ┆ Closing   │\n",
       "│ ---     ┆ ---        ┆ signment  ┆ itle      ┆   ┆ Title     ┆ Item No.  ┆ Date      ┆ Date      │\n",
       "│ i32     ┆ str        ┆ ---       ┆ ---       ┆   ┆ ---       ┆ ---       ┆ ---       ┆ ---       │\n",
       "│         ┆            ┆ str       ┆ str       ┆   ┆ str       ┆ str       ┆ str       ┆ str       │\n",
       "╞═════════╪════════════╪═══════════╪═══════════╪═══╪═══════════╪═══════════╪═══════════╪═══════════╡\n",
       "│ 4266888 ┆ DEPARTMENT ┆ Any       ┆ Administr ┆ … ┆ Administr ┆ OSEC-DECS ┆ 08 Jan    ┆ 20 Jan    │\n",
       "│         ┆ OF         ┆ Senior    ┆ ative     ┆   ┆ ative     ┆ B-ADAS2-7 ┆ 2025      ┆ 2025      │\n",
       "│         ┆ EDUCATION  ┆ High      ┆ Assistant ┆   ┆ Assistant ┆ 50035-201 ┆           ┆           │\n",
       "│         ┆            ┆ School    ┆ II (A…    ┆   ┆ II (A…    ┆ 6         ┆           ┆           │\n",
       "│         ┆            ┆ within …  ┆           ┆   ┆           ┆           ┆           ┆           │\n",
       "└─────────┴────────────┴───────────┴───────────┴───┴───────────┴───────────┴───────────┴───────────┘"
      ]
     },
     "execution_count": 16,
     "metadata": {},
     "output_type": "execute_result"
    }
   ],
   "source": [
    "joined_data = pdfData.join(data, left_on=\"jobId\", right_on=\"Action\", how=\"inner\")\n",
    "joined_data.head(1)"
   ]
  },
  {
   "cell_type": "code",
   "execution_count": 35,
   "id": "16c78b6f",
   "metadata": {},
   "outputs": [
    {
     "data": {
      "text/html": [
       "<div><style>\n",
       ".dataframe > thead > tr,\n",
       ".dataframe > tbody > tr {\n",
       "  text-align: right;\n",
       "  white-space: pre-wrap;\n",
       "}\n",
       "</style>\n",
       "<small>shape: (110_244, 15)</small><table border=\"1\" class=\"dataframe\"><thead><tr><th>jobId</th><th>Agency</th><th>Region</th><th>PlaceOfAssignment</th><th>Posting Date</th><th>Closing Date</th><th>Position Title</th><th>SalaryGrade</th><th>MonthlySalary</th><th>Eligibility</th><th>Education</th><th>Training</th><th>Experience</th><th>Competency</th><th>Plantilla Item No.</th></tr><tr><td>i32</td><td>str</td><td>str</td><td>str</td><td>date</td><td>date</td><td>str</td><td>str</td><td>i32</td><td>str</td><td>str</td><td>str</td><td>str</td><td>str</td><td>str</td></tr></thead><tbody><tr><td>4307309</td><td>&quot;MINISTRY OF BASIC, HIGHER AND …</td><td>&quot;BARMM&quot;</td><td>&quot;Lanao Del Sur I&quot;</td><td>2025-01-23</td><td>2025-02-03</td><td>&quot;TEACHER I&quot;</td><td>&quot;11&quot;</td><td>28512</td><td>&quot;R.A1080 (Teacher)&quot;</td><td>&quot;Bachelor of Elementary&quot;</td><td>&quot;None required&quot;</td><td>&quot;None required&quot;</td><td>&quot;N/A&quot;</td><td>&quot;ARMMB-TCH1-2408-1998&quot;</td></tr><tr><td>4238501</td><td>&quot;PGO ALBAY&quot;</td><td>&quot;Region V&quot;</td><td>&quot;Rapu-Rapu District Hospital&quot;</td><td>2024-12-09</td><td>2024-12-26</td><td>&quot;Medical Officer III&quot;</td><td>&quot;21&quot;</td><td>67005</td><td>&quot;RA 1080&quot;</td><td>&quot;Doctor of Medicine&quot;</td><td>&quot;None required&quot;</td><td>&quot;None required&quot;</td><td>&quot;&quot;</td><td>&quot;013-1041&quot;</td></tr><tr><td>4251997</td><td>&quot;DEPARTMENT OF EDUCATION&quot;</td><td>&quot;Region VIII&quot;</td><td>&quot;Southern Leyte Division&quot;</td><td>2024-12-23</td><td>2025-01-02</td><td>&quot;Teacher II (SHS; Acad)&quot;</td><td>&quot;12&quot;</td><td>30705</td><td>&quot;Applicants for permanent appoi…</td><td>&quot;Bachelor&#x27;s degree with a major…</td><td>&quot;None required&quot;</td><td>&quot;None required&quot;</td><td>&quot;&quot;</td><td>&quot;.OSEC-DECSB-TCH2-540181-2019&quot;</td></tr><tr><td>4319215</td><td>&quot;BUREAU OF CORRECTIONS&quot;</td><td>&quot;NCR&quot;</td><td>&quot;Bureau of Corrections&quot;</td><td>2025-01-14</td><td>2025-01-24</td><td>&quot;Corrections Technical Senior O…</td><td>&quot;19&quot;</td><td>38366</td><td>&quot;RA 1080/ CS Professional/ CSC …</td><td>&quot;Bachelor&#x27;s degree relevant to …</td><td>&quot;Senior Corrections Technical S…</td><td>&quot;2 years as Corrections Technic…</td><td>&quot;N/A&quot;</td><td>&quot;BCORB-CTSO4-460-2018-ARF&quot;</td></tr><tr><td>4224183</td><td>&quot;PGO CAPIZ&quot;</td><td>&quot;Region VI&quot;</td><td>&quot;Provincial Budget Office&quot;</td><td>2024-11-27</td><td>2024-12-13</td><td>&quot;Administrative Officer IV (Bud…</td><td>&quot;15&quot;</td><td>38413</td><td>&quot;Career Service (Professional)/…</td><td>&quot;Bachelor&#x27;s degree relevant to …</td><td>&quot;4 hours of relevant training&quot;</td><td>&quot;1 year of relevant experience&quot;</td><td>&quot;N/A&quot;</td><td>&quot;9&quot;</td></tr><tr><td>&hellip;</td><td>&hellip;</td><td>&hellip;</td><td>&hellip;</td><td>&hellip;</td><td>&hellip;</td><td>&hellip;</td><td>&hellip;</td><td>&hellip;</td><td>&hellip;</td><td>&hellip;</td><td>&hellip;</td><td>&hellip;</td><td>&hellip;</td><td>&hellip;</td></tr><tr><td>4295471</td><td>&quot;DEPARTMENT OF EDUCATION&quot;</td><td>&quot;NCR&quot;</td><td>&quot;ELEM&quot;</td><td>2025-01-20</td><td>2025-01-30</td><td>&quot;TEACHER III&quot;</td><td>&quot;13&quot;</td><td>32870</td><td>&quot;RA 1080 (Teacher)&quot;</td><td>&quot;Bachelor of Elementary&quot;</td><td>&quot;None required&quot;</td><td>&quot;2 years of relevant experience&quot;</td><td>&quot;&quot;</td><td>&quot;OSEC-DECSB-TCH3-31437-2016&quot;</td></tr><tr><td>4335834</td><td>&quot;DEPARTMENT OF EDUCATION&quot;</td><td>&quot;Region XI&quot;</td><td>&quot;Division of Davao del Sur - Se…</td><td>2025-02-13</td><td>2025-02-23</td><td>&quot;TEACHER II (Senior High School…</td><td>&quot;12&quot;</td><td>32245</td><td>&quot;Regular Applicants for a perma…</td><td>&quot;*TVL Track -Bachelor&#x27;s degree …</td><td>&quot;*TVL Track -At least NC II * +…</td><td>&quot;*TVL Track-6 mos. of relevant …</td><td>&quot;N/A&quot;</td><td>&quot;OSEC-DECSB-TCH2-750941-2023&quot;</td></tr><tr><td>4378442</td><td>&quot;MGO SARIAYA, QUEZON&quot;</td><td>&quot;Region IV&quot;</td><td>&quot;Office of the Municipal Engine…</td><td>2025-03-11</td><td>2025-03-26</td><td>&quot;Administrative Aide IV (Driver…</td><td>&quot;4&quot;</td><td>14588</td><td>&quot;Driver License (MC 11, S. 96-C…</td><td>&quot;Elementary School Graduate&quot;</td><td>&quot;None required&quot;</td><td>&quot;None required&quot;</td><td>&quot;n/a&quot;</td><td>&quot;8751-15&quot;</td></tr><tr><td>4238855</td><td>&quot;MGO PINUKPUK, KALINGA&quot;</td><td>&quot;CAR&quot;</td><td>&quot;Municipal Accounting Office, L…</td><td>2024-12-09</td><td>2024-12-26</td><td>&quot;Administrative Aide VI (Clerk …</td><td>&quot;6&quot;</td><td>16430</td><td>&quot;Career Service (Sub-Profession…</td><td>&quot;Completion of two years studie…</td><td>&quot;None Required&quot;</td><td>&quot;None Required&quot;</td><td>&quot;Duties and Functions Prepare s…</td><td>&quot;49&quot;</td></tr><tr><td>4353656</td><td>&quot;BUREAU OF JAIL MANAGEMENT AND …</td><td>&quot;Region XI&quot;</td><td>&quot;Anywhere in the Philippines&quot;</td><td>2025-02-25</td><td>2025-03-10</td><td>&quot;Jail Officer I&quot;</td><td>&quot;10&quot;</td><td>29668</td><td>&quot;Career Service (Professional),…</td><td>&quot;Bachelor?s Degree&quot;</td><td>&quot;None Required&quot;</td><td>&quot;None Required&quot;</td><td>&quot;N/A&quot;</td><td>&quot;BJMP-JO1-2011-2453&quot;</td></tr></tbody></table></div>"
      ],
      "text/plain": [
       "shape: (110_244, 15)\n",
       "┌─────────┬────────────┬───────────┬───────────┬───┬───────────┬───────────┬───────────┬───────────┐\n",
       "│ jobId   ┆ Agency     ┆ Region    ┆ PlaceOfAs ┆ … ┆ Training  ┆ Experienc ┆ Competenc ┆ Plantilla │\n",
       "│ ---     ┆ ---        ┆ ---       ┆ signment  ┆   ┆ ---       ┆ e         ┆ y         ┆ Item No.  │\n",
       "│ i32     ┆ str        ┆ str       ┆ ---       ┆   ┆ str       ┆ ---       ┆ ---       ┆ ---       │\n",
       "│         ┆            ┆           ┆ str       ┆   ┆           ┆ str       ┆ str       ┆ str       │\n",
       "╞═════════╪════════════╪═══════════╪═══════════╪═══╪═══════════╪═══════════╪═══════════╪═══════════╡\n",
       "│ 4307309 ┆ MINISTRY   ┆ BARMM     ┆ Lanao Del ┆ … ┆ None      ┆ None      ┆ N/A       ┆ ARMMB-TCH │\n",
       "│         ┆ OF BASIC,  ┆           ┆ Sur I     ┆   ┆ required  ┆ required  ┆           ┆ 1-2408-19 │\n",
       "│         ┆ HIGHER AND ┆           ┆           ┆   ┆           ┆           ┆           ┆ 98        │\n",
       "│         ┆ …          ┆           ┆           ┆   ┆           ┆           ┆           ┆           │\n",
       "│ 4238501 ┆ PGO ALBAY  ┆ Region V  ┆ Rapu-Rapu ┆ … ┆ None      ┆ None      ┆           ┆ 013-1041  │\n",
       "│         ┆            ┆           ┆ District  ┆   ┆ required  ┆ required  ┆           ┆           │\n",
       "│         ┆            ┆           ┆ Hospital  ┆   ┆           ┆           ┆           ┆           │\n",
       "│ 4251997 ┆ DEPARTMENT ┆ Region    ┆ Southern  ┆ … ┆ None      ┆ None      ┆           ┆ .OSEC-DEC │\n",
       "│         ┆ OF         ┆ VIII      ┆ Leyte     ┆   ┆ required  ┆ required  ┆           ┆ SB-TCH2-5 │\n",
       "│         ┆ EDUCATION  ┆           ┆ Division  ┆   ┆           ┆           ┆           ┆ 40181-201 │\n",
       "│         ┆            ┆           ┆           ┆   ┆           ┆           ┆           ┆ 9         │\n",
       "│ 4319215 ┆ BUREAU OF  ┆ NCR       ┆ Bureau of ┆ … ┆ Senior    ┆ 2 years   ┆ N/A       ┆ BCORB-CTS │\n",
       "│         ┆ CORRECTION ┆           ┆ Correctio ┆   ┆ Correctio ┆ as Correc ┆           ┆ O4-460-20 │\n",
       "│         ┆ S          ┆           ┆ ns        ┆   ┆ ns        ┆ tions     ┆           ┆ 18-ARF    │\n",
       "│         ┆            ┆           ┆           ┆   ┆ Technical ┆ Technic…  ┆           ┆           │\n",
       "│         ┆            ┆           ┆           ┆   ┆ S…        ┆           ┆           ┆           │\n",
       "│ 4224183 ┆ PGO CAPIZ  ┆ Region VI ┆ Provincia ┆ … ┆ 4 hours   ┆ 1 year of ┆ N/A       ┆ 9         │\n",
       "│         ┆            ┆           ┆ l Budget  ┆   ┆ of        ┆ relevant  ┆           ┆           │\n",
       "│         ┆            ┆           ┆ Office    ┆   ┆ relevant  ┆ experienc ┆           ┆           │\n",
       "│         ┆            ┆           ┆           ┆   ┆ training  ┆ e         ┆           ┆           │\n",
       "│ …       ┆ …          ┆ …         ┆ …         ┆ … ┆ …         ┆ …         ┆ …         ┆ …         │\n",
       "│ 4295471 ┆ DEPARTMENT ┆ NCR       ┆ ELEM      ┆ … ┆ None      ┆ 2 years   ┆           ┆ OSEC-DECS │\n",
       "│         ┆ OF         ┆           ┆           ┆   ┆ required  ┆ of        ┆           ┆ B-TCH3-31 │\n",
       "│         ┆ EDUCATION  ┆           ┆           ┆   ┆           ┆ relevant  ┆           ┆ 437-2016  │\n",
       "│         ┆            ┆           ┆           ┆   ┆           ┆ experienc ┆           ┆           │\n",
       "│         ┆            ┆           ┆           ┆   ┆           ┆ e         ┆           ┆           │\n",
       "│ 4335834 ┆ DEPARTMENT ┆ Region XI ┆ Division  ┆ … ┆ *TVL      ┆ *TVL      ┆ N/A       ┆ OSEC-DECS │\n",
       "│         ┆ OF         ┆           ┆ of Davao  ┆   ┆ Track -At ┆ Track-6   ┆           ┆ B-TCH2-75 │\n",
       "│         ┆ EDUCATION  ┆           ┆ del Sur - ┆   ┆ least NC  ┆ mos. of   ┆           ┆ 0941-2023 │\n",
       "│         ┆            ┆           ┆ Se…       ┆   ┆ II * +…   ┆ relevant  ┆           ┆           │\n",
       "│         ┆            ┆           ┆           ┆   ┆           ┆ …         ┆           ┆           │\n",
       "│ 4378442 ┆ MGO        ┆ Region IV ┆ Office of ┆ … ┆ None      ┆ None      ┆ n/a       ┆ 8751-15   │\n",
       "│         ┆ SARIAYA,   ┆           ┆ the       ┆   ┆ required  ┆ required  ┆           ┆           │\n",
       "│         ┆ QUEZON     ┆           ┆ Municipal ┆   ┆           ┆           ┆           ┆           │\n",
       "│         ┆            ┆           ┆ Engine…   ┆   ┆           ┆           ┆           ┆           │\n",
       "│ 4238855 ┆ MGO        ┆ CAR       ┆ Municipal ┆ … ┆ None      ┆ None      ┆ Duties    ┆ 49        │\n",
       "│         ┆ PINUKPUK,  ┆           ┆ Accountin ┆   ┆ Required  ┆ Required  ┆ and       ┆           │\n",
       "│         ┆ KALINGA    ┆           ┆ g Office, ┆   ┆           ┆           ┆ Functions ┆           │\n",
       "│         ┆            ┆           ┆ L…        ┆   ┆           ┆           ┆ Prepare   ┆           │\n",
       "│         ┆            ┆           ┆           ┆   ┆           ┆           ┆ s…        ┆           │\n",
       "│ 4353656 ┆ BUREAU OF  ┆ Region XI ┆ Anywhere  ┆ … ┆ None      ┆ None      ┆ N/A       ┆ BJMP-JO1- │\n",
       "│         ┆ JAIL       ┆           ┆ in the    ┆   ┆ Required  ┆ Required  ┆           ┆ 2011-2453 │\n",
       "│         ┆ MANAGEMENT ┆           ┆ Philippin ┆   ┆           ┆           ┆           ┆           │\n",
       "│         ┆ AND …      ┆           ┆ es        ┆   ┆           ┆           ┆           ┆           │\n",
       "└─────────┴────────────┴───────────┴───────────┴───┴───────────┴───────────┴───────────┴───────────┘"
      ]
     },
     "execution_count": 35,
     "metadata": {},
     "output_type": "execute_result"
    }
   ],
   "source": [
    "formatted_joined_data = (\n",
    "    joined_data.drop([\"Agency\", \"PositionTitle\", \"PlantillaNo\"])\n",
    "    .with_columns(\n",
    "        [\n",
    "            pl.col(\"Agency_right\").alias(\"Agency\"),\n",
    "        ]\n",
    "    )\n",
    "    .drop([\"Agency_right\"])\n",
    "    .with_columns(\n",
    "        [\n",
    "            pl.col(\"Posting Date\")\n",
    "            .str.strptime(pl.Date, \"%d %b %Y\")  # Convert from \"20 Apr 2025\"\n",
    "            .alias(\"Posting Date\"),\n",
    "            pl.col(\"Closing Date\")\n",
    "            .str.strptime(pl.Date, \"%d %b %Y\")  # Convert from \"20 Apr 2025\"\n",
    "            .alias(\"Closing Date\"),\n",
    "        ]\n",
    "    )\n",
    "    .select([\n",
    "        pl.col(\"jobId\"),\n",
    "        pl.col(\"Agency\"),\n",
    "        pl.col(\"Region\"),\n",
    "        pl.col(\"PlaceOfAssignment\"),\n",
    "        pl.col(\"Posting Date\"),\n",
    "        pl.col(\"Closing Date\"),\n",
    "        pl.col(\"Position Title\"),\n",
    "        pl.col(\"SalaryGrade\"),\n",
    "        pl.col(\"MonthlySalary\"),\n",
    "        pl.col(\"Eligibility\"),\n",
    "        pl.col(\"Education\"),\n",
    "        pl.col(\"Training\"),\n",
    "        pl.col(\"Experience\"),\n",
    "        pl.col(\"Competency\"),\n",
    "        pl.col(\"Plantilla Item No.\"),\n",
    "    ])\n",
    ").unique(subset=[\"jobId\"])\n",
    "formatted_joined_data"
   ]
  },
  {
   "cell_type": "markdown",
   "id": "08dc500a",
   "metadata": {},
   "source": [
    "Details column in the table is a button with text value \"Details\". However, the information we want is the id, which is a dynamically named attribute of the button id=\"info_{jobId}\", we want to get this jobId value, so that we can get the associating job request PDF at https://csc.gov.ph/career/job/{jobId}"
   ]
  },
  {
   "cell_type": "code",
   "execution_count": 17,
   "id": "c3caff3e",
   "metadata": {},
   "outputs": [
    {
     "data": {
      "text/html": [
       "<div><style>\n",
       ".dataframe > thead > tr,\n",
       ".dataframe > tbody > tr {\n",
       "  text-align: right;\n",
       "  white-space: pre-wrap;\n",
       "}\n",
       "</style>\n",
       "<small>shape: (17, 2)</small><table border=\"1\" class=\"dataframe\"><thead><tr><th>Region</th><th>count</th></tr><tr><td>str</td><td>u32</td></tr></thead><tbody><tr><td>&quot;Central Office (CO)&quot;</td><td>21</td></tr><tr><td>&quot;Region I&quot;</td><td>5300</td></tr><tr><td>&quot;Region XI&quot;</td><td>5600</td></tr><tr><td>&quot;CAR&quot;</td><td>2479</td></tr><tr><td>&quot;CARAGA&quot;</td><td>5149</td></tr><tr><td>&hellip;</td><td>&hellip;</td></tr><tr><td>&quot;Region X&quot;</td><td>5521</td></tr><tr><td>&quot;Region VIII&quot;</td><td>5689</td></tr><tr><td>&quot;Region II&quot;</td><td>4532</td></tr><tr><td>&quot;Region V&quot;</td><td>6401</td></tr><tr><td>&quot;Region III&quot;</td><td>9338</td></tr></tbody></table></div>"
      ],
      "text/plain": [
       "shape: (17, 2)\n",
       "┌─────────────────────┬───────┐\n",
       "│ Region              ┆ count │\n",
       "│ ---                 ┆ ---   │\n",
       "│ str                 ┆ u32   │\n",
       "╞═════════════════════╪═══════╡\n",
       "│ Central Office (CO) ┆ 21    │\n",
       "│ Region I            ┆ 5300  │\n",
       "│ Region XI           ┆ 5600  │\n",
       "│ CAR                 ┆ 2479  │\n",
       "│ CARAGA              ┆ 5149  │\n",
       "│ …                   ┆ …     │\n",
       "│ Region X            ┆ 5521  │\n",
       "│ Region VIII         ┆ 5689  │\n",
       "│ Region II           ┆ 4532  │\n",
       "│ Region V            ┆ 6401  │\n",
       "│ Region III          ┆ 9338  │\n",
       "└─────────────────────┴───────┘"
      ]
     },
     "execution_count": 17,
     "metadata": {},
     "output_type": "execute_result"
    }
   ],
   "source": [
    "data['Region'].value_counts()"
   ]
  },
  {
   "cell_type": "code",
   "execution_count": 22,
   "id": "16130090",
   "metadata": {},
   "outputs": [
    {
     "data": {
      "text/html": [
       "<div><style>\n",
       ".dataframe > thead > tr,\n",
       ".dataframe > tbody > tr {\n",
       "  text-align: right;\n",
       "  white-space: pre-wrap;\n",
       "}\n",
       "</style>\n",
       "<small>shape: (7_319, 2)</small><table border=\"1\" class=\"dataframe\"><thead><tr><th>Position Title</th><th>count</th></tr><tr><td>str</td><td>u32</td></tr></thead><tbody><tr><td>&quot;Senior Cooperatives Developmen…</td><td>1</td></tr><tr><td>&quot;City Government Department Hea…</td><td>1</td></tr><tr><td>&quot;TRUCK DRIVER&quot;</td><td>1</td></tr><tr><td>&quot;MASTER TEACHER I (Sr.HS) for A…</td><td>1</td></tr><tr><td>&quot;TEACEHR III&quot;</td><td>1</td></tr><tr><td>&hellip;</td><td>&hellip;</td></tr><tr><td>&quot;Teacher II&quot;</td><td>3076</td></tr><tr><td>&quot;Teacher I&quot;</td><td>3535</td></tr><tr><td>&quot;TEACHER III&quot;</td><td>3784</td></tr><tr><td>&quot;TEACHER II&quot;</td><td>3900</td></tr><tr><td>&quot;TEACHER I&quot;</td><td>5484</td></tr></tbody></table></div>"
      ],
      "text/plain": [
       "shape: (7_319, 2)\n",
       "┌─────────────────────────────────┬───────┐\n",
       "│ Position Title                  ┆ count │\n",
       "│ ---                             ┆ ---   │\n",
       "│ str                             ┆ u32   │\n",
       "╞═════════════════════════════════╪═══════╡\n",
       "│ Senior Cooperatives Developmen… ┆ 1     │\n",
       "│ City Government Department Hea… ┆ 1     │\n",
       "│ TRUCK DRIVER                    ┆ 1     │\n",
       "│ MASTER TEACHER I (Sr.HS) for A… ┆ 1     │\n",
       "│ TEACEHR III                     ┆ 1     │\n",
       "│ …                               ┆ …     │\n",
       "│ Teacher II                      ┆ 3076  │\n",
       "│ Teacher I                       ┆ 3535  │\n",
       "│ TEACHER III                     ┆ 3784  │\n",
       "│ TEACHER II                      ┆ 3900  │\n",
       "│ TEACHER I                       ┆ 5484  │\n",
       "└─────────────────────────────────┴───────┘"
      ]
     },
     "execution_count": 22,
     "metadata": {},
     "output_type": "execute_result"
    }
   ],
   "source": [
    "data[\"Position Title\"].value_counts().sort(by=\"count\")"
   ]
  },
  {
   "cell_type": "code",
   "execution_count": 11,
   "id": "bceddaed",
   "metadata": {},
   "outputs": [
    {
     "data": {
      "text/plain": [
       "Position Title\n",
       "TEACHER I                                                                                4439\n",
       "TEACHER III                                                                              3128\n",
       "Teacher I                                                                                3026\n",
       "TEACHER II                                                                               3000\n",
       "Teacher II                                                                               2587\n",
       "                                                                                         ... \n",
       "SUPERVISING IRRIGATORS DEVELOPMENT OFFICER                                                  1\n",
       "PROVINCIAL GOVERNMENT ASSISTANT DEPARTMENT HEAD (ASSISTANT PROVINCIAL TREASURER)            1\n",
       "Senior Administrative Assistant I (Data Controller IV))                                     1\n",
       "Provincial Government Assistant Department Head (Assistant Provincial Budget Officer)       1\n",
       "SPECIAL SCIENCE TEACHER I - SHS                                                             1\n",
       "Name: count, Length: 7319, dtype: int64"
      ]
     },
     "execution_count": 11,
     "metadata": {},
     "output_type": "execute_result"
    }
   ],
   "source": [
    "data[\"Position Title\"].value_counts()"
   ]
  },
  {
   "cell_type": "code",
   "execution_count": null,
   "id": "ea90a353",
   "metadata": {},
   "outputs": [],
   "source": [
    "data.group_by()"
   ]
  },
  {
   "cell_type": "code",
   "execution_count": 25,
   "id": "f055481e",
   "metadata": {},
   "outputs": [
    {
     "ename": "InvalidOperationError",
     "evalue": "conversion from `str` to `date` failed in column 'Posting Date' for 133942 out of 133942 values: [\"10 Apr 2025\", \"10 Apr 2025\", … \"08 Jan 2000\"]\n\nYou might want to try:\n- setting `strict=False` to set values that cannot be converted to `null`\n- using `str.strptime`, `str.to_date`, or `str.to_datetime` and providing a format string",
     "output_type": "error",
     "traceback": [
      "\u001b[31m---------------------------------------------------------------------------\u001b[39m",
      "\u001b[31mInvalidOperationError\u001b[39m                     Traceback (most recent call last)",
      "\u001b[36mCell\u001b[39m\u001b[36m \u001b[39m\u001b[32mIn[25]\u001b[39m\u001b[32m, line 1\u001b[39m\n\u001b[32m----> \u001b[39m\u001b[32m1\u001b[39m \u001b[43mdata\u001b[49m\u001b[43m.\u001b[49m\u001b[43mwith_columns\u001b[49m\u001b[43m(\u001b[49m\u001b[43m[\u001b[49m\n\u001b[32m      2\u001b[39m \u001b[43m    \u001b[49m\u001b[43mpl\u001b[49m\u001b[43m.\u001b[49m\u001b[43mcol\u001b[49m\u001b[43m(\u001b[49m\u001b[33;43m\"\u001b[39;49m\u001b[33;43mPosting Date\u001b[39;49m\u001b[33;43m\"\u001b[39;49m\u001b[43m)\u001b[49m\u001b[43m.\u001b[49m\u001b[43mstr\u001b[49m\u001b[43m.\u001b[49m\u001b[43mstrptime\u001b[49m\u001b[43m(\u001b[49m\u001b[43mpl\u001b[49m\u001b[43m.\u001b[49m\u001b[43mDate\u001b[49m\u001b[43m,\u001b[49m\u001b[43m \u001b[49m\u001b[38;5;28;43mformat\u001b[39;49m\u001b[43m=\u001b[49m\u001b[33;43m\"\u001b[39;49m\u001b[38;5;132;43;01m%d\u001b[39;49;00m\u001b[33;43m/\u001b[39;49m\u001b[33;43m%\u001b[39;49m\u001b[33;43mm/\u001b[39;49m\u001b[33;43m%\u001b[39;49m\u001b[33;43mY\u001b[39;49m\u001b[33;43m\"\u001b[39;49m\u001b[43m)\u001b[49m\u001b[43m.\u001b[49m\u001b[43malias\u001b[49m\u001b[43m(\u001b[49m\u001b[33;43m\"\u001b[39;49m\u001b[33;43mPosting Date\u001b[39;49m\u001b[33;43m\"\u001b[39;49m\u001b[43m)\u001b[49m\u001b[43m,\u001b[49m\n\u001b[32m      3\u001b[39m \u001b[43m]\u001b[49m\u001b[43m)\u001b[49m\n",
      "\u001b[36mFile \u001b[39m\u001b[32md:\\Documents\\3 Production Save Files\\1 Cloned repositories\\ml-final-project\\.venv\\Lib\\site-packages\\polars\\dataframe\\frame.py:9806\u001b[39m, in \u001b[36mDataFrame.with_columns\u001b[39m\u001b[34m(self, *exprs, **named_exprs)\u001b[39m\n\u001b[32m   9660\u001b[39m \u001b[38;5;28;01mdef\u001b[39;00m\u001b[38;5;250m \u001b[39m\u001b[34mwith_columns\u001b[39m(\n\u001b[32m   9661\u001b[39m     \u001b[38;5;28mself\u001b[39m,\n\u001b[32m   9662\u001b[39m     *exprs: IntoExpr | Iterable[IntoExpr],\n\u001b[32m   9663\u001b[39m     **named_exprs: IntoExpr,\n\u001b[32m   9664\u001b[39m ) -> DataFrame:\n\u001b[32m   9665\u001b[39m \u001b[38;5;250m    \u001b[39m\u001b[33;03m\"\"\"\u001b[39;00m\n\u001b[32m   9666\u001b[39m \u001b[33;03m    Add columns to this DataFrame.\u001b[39;00m\n\u001b[32m   9667\u001b[39m \n\u001b[32m   (...)\u001b[39m\u001b[32m   9804\u001b[39m \u001b[33;03m    └─────┴──────┴─────────────┘\u001b[39;00m\n\u001b[32m   9805\u001b[39m \u001b[33;03m    \"\"\"\u001b[39;00m\n\u001b[32m-> \u001b[39m\u001b[32m9806\u001b[39m     \u001b[38;5;28;01mreturn\u001b[39;00m \u001b[38;5;28;43mself\u001b[39;49m\u001b[43m.\u001b[49m\u001b[43mlazy\u001b[49m\u001b[43m(\u001b[49m\u001b[43m)\u001b[49m\u001b[43m.\u001b[49m\u001b[43mwith_columns\u001b[49m\u001b[43m(\u001b[49m\u001b[43m*\u001b[49m\u001b[43mexprs\u001b[49m\u001b[43m,\u001b[49m\u001b[43m \u001b[49m\u001b[43m*\u001b[49m\u001b[43m*\u001b[49m\u001b[43mnamed_exprs\u001b[49m\u001b[43m)\u001b[49m\u001b[43m.\u001b[49m\u001b[43mcollect\u001b[49m\u001b[43m(\u001b[49m\u001b[43m_eager\u001b[49m\u001b[43m=\u001b[49m\u001b[38;5;28;43;01mTrue\u001b[39;49;00m\u001b[43m)\u001b[49m\n",
      "\u001b[36mFile \u001b[39m\u001b[32md:\\Documents\\3 Production Save Files\\1 Cloned repositories\\ml-final-project\\.venv\\Lib\\site-packages\\polars\\_utils\\deprecation.py:93\u001b[39m, in \u001b[36mdeprecate_streaming_parameter.<locals>.decorate.<locals>.wrapper\u001b[39m\u001b[34m(*args, **kwargs)\u001b[39m\n\u001b[32m     89\u001b[39m         kwargs[\u001b[33m\"\u001b[39m\u001b[33mengine\u001b[39m\u001b[33m\"\u001b[39m] = \u001b[33m\"\u001b[39m\u001b[33min-memory\u001b[39m\u001b[33m\"\u001b[39m\n\u001b[32m     91\u001b[39m     \u001b[38;5;28;01mdel\u001b[39;00m kwargs[\u001b[33m\"\u001b[39m\u001b[33mstreaming\u001b[39m\u001b[33m\"\u001b[39m]\n\u001b[32m---> \u001b[39m\u001b[32m93\u001b[39m \u001b[38;5;28;01mreturn\u001b[39;00m \u001b[43mfunction\u001b[49m\u001b[43m(\u001b[49m\u001b[43m*\u001b[49m\u001b[43margs\u001b[49m\u001b[43m,\u001b[49m\u001b[43m \u001b[49m\u001b[43m*\u001b[49m\u001b[43m*\u001b[49m\u001b[43mkwargs\u001b[49m\u001b[43m)\u001b[49m\n",
      "\u001b[36mFile \u001b[39m\u001b[32md:\\Documents\\3 Production Save Files\\1 Cloned repositories\\ml-final-project\\.venv\\Lib\\site-packages\\polars\\lazyframe\\frame.py:2206\u001b[39m, in \u001b[36mLazyFrame.collect\u001b[39m\u001b[34m(self, type_coercion, _type_check, predicate_pushdown, projection_pushdown, simplify_expression, slice_pushdown, comm_subplan_elim, comm_subexpr_elim, cluster_with_columns, collapse_joins, no_optimization, engine, background, _check_order, _eager, **_kwargs)\u001b[39m\n\u001b[32m   2204\u001b[39m \u001b[38;5;66;03m# Only for testing purposes\u001b[39;00m\n\u001b[32m   2205\u001b[39m callback = _kwargs.get(\u001b[33m\"\u001b[39m\u001b[33mpost_opt_callback\u001b[39m\u001b[33m\"\u001b[39m, callback)\n\u001b[32m-> \u001b[39m\u001b[32m2206\u001b[39m \u001b[38;5;28;01mreturn\u001b[39;00m wrap_df(\u001b[43mldf\u001b[49m\u001b[43m.\u001b[49m\u001b[43mcollect\u001b[49m\u001b[43m(\u001b[49m\u001b[43mengine\u001b[49m\u001b[43m,\u001b[49m\u001b[43m \u001b[49m\u001b[43mcallback\u001b[49m\u001b[43m)\u001b[49m)\n",
      "\u001b[31mInvalidOperationError\u001b[39m: conversion from `str` to `date` failed in column 'Posting Date' for 133942 out of 133942 values: [\"10 Apr 2025\", \"10 Apr 2025\", … \"08 Jan 2000\"]\n\nYou might want to try:\n- setting `strict=False` to set values that cannot be converted to `null`\n- using `str.strptime`, `str.to_date`, or `str.to_datetime` and providing a format string"
     ]
    }
   ],
   "source": [
    "data.with_columns([\n",
    "    pl.col(\"Posting Date\").str.strptime(pl.Date, format=\"%d/%m/%Y\").alias(\"Posting Date\"),\n",
    "])"
   ]
  },
  {
   "cell_type": "code",
   "execution_count": 7,
   "id": "9988c722",
   "metadata": {},
   "outputs": [
    {
     "data": {
      "text/plain": [
       "['CSC Job Portal',\n",
       " 'MGO TINGLOY, BATANGAS | Region IV',\n",
       " 'Place of Assignment : Tingloy, Batangas RO IV',\n",
       " 'Position Title : Municipal Government Assistant Department Head (Assistant',\n",
       " 'Municipal Treasurer)',\n",
       " 'Plantilla Item No. : 2025-047',\n",
       " 'Salary/Job/Pay Grade : 24',\n",
       " 'Monthly Salary : Php 56,127.00',\n",
       " 'Eligibility : Career Service Professional (Second Level Eligibility)',\n",
       " 'Education : Bachelors Degree',\n",
       " 'Training : 16hours of relevant Training',\n",
       " 'Work Experience : Three(3) years relevant experience',\n",
       " 'Competency : N/A',\n",
       " 'Instructions/Remarks :',\n",
       " 'Interested and qualified applicants should signify their interest in writing. Attach the following documents',\n",
       " 'to the application letter and send to the address below not later than May 7, 2025',\n",
       " 'Documents:',\n",
       " '1. Fully accomplished Personal Data Sheet (PDS) with recent passport-sized picture (CS Form No. 212,',\n",
       " 'Revised 2017) which can be downloaded at www.csc.gov.ph;',\n",
       " '2. Performance rating in the last rating period (if applicable);',\n",
       " '3. Photocopy of certificate of eligibility/rating/license; and',\n",
       " '4. Photocopy of Transcript of Records.',\n",
       " 'QUALIFIED APPLICANTS are advised to hand in or send through courier/email their application to:',\n",
       " 'DR. JONALD S. BACAL',\n",
       " 'Municipal budget Officer/Acting HRMO',\n",
       " 'Poblacion 15, Tingloy Batangas',\n",
       " 'tingloyhrmo@yahoo.com',\n",
       " 'APPLICATIONS WITH INCOMPLETE DOCUMENTS SHALL NOT BE ENTERTAINED.',\n",
       " 'Posting Date : April 22, 2025',\n",
       " 'Closing Date : May 07, 2025',\n",
       " '1 / 1',\n",
       " 'Powered by TCPDF (www.tcpdf.org)']"
      ]
     },
     "execution_count": 7,
     "metadata": {},
     "output_type": "execute_result"
    }
   ],
   "source": [
    "import pdfplumber\n",
    "\n",
    "\n",
    "pdf_path = RAW_DATA_DIR / \"CivilServiceCommission\" / \"pdfs\"\n",
    "\n",
    "with pdfplumber.open(pdf_path / \"test.pdf\") as pdf:\n",
    "    page_container = []\n",
    "\n",
    "    for page in pdf.pages:\n",
    "        text = page.extract_text()\n",
    "        page_container.extend(text.split(\"\\n\"))\n",
    "\n",
    "page_container"
   ]
  },
  {
   "cell_type": "code",
   "execution_count": 12,
   "id": "628f6d36",
   "metadata": {},
   "outputs": [
    {
     "data": {
      "text/plain": [
       "'Tingloy, Batangas RO IV'"
      ]
     },
     "execution_count": 12,
     "metadata": {},
     "output_type": "execute_result"
    }
   ],
   "source": [
    "def extract_from_list(page_container: list, key: str) -> str | None:\n",
    "    try:\n",
    "        for line in page_container:\n",
    "            if key in line:\n",
    "                # Extract the value after the key\n",
    "                value = line.split(key)[1].strip().replace(\":\", \"\").strip()\n",
    "                return value\n",
    "\n",
    "    except ValueError:\n",
    "        return []\n",
    "    \n",
    "extract_from_list(page_container, \"Place of Assignment\")"
   ]
  },
  {
   "cell_type": "code",
   "execution_count": null,
   "id": "15913227",
   "metadata": {},
   "outputs": [],
   "source": [
    "insert_query = \"\"\"\n",
    "INSERT INTO civilservicecommission_pdfs (Posting Date, Agency, Region, Position Title, Salary Grade, Place of Assignment)\n",
    "VALUES (?, ?, ?, ?, ?, ?)\n",
    "\"\"\"\n",
    "with duckdb.connect(dbPath) as conn:\n",
    "    conn.execute(insert_query, (posting_date, agency, region, position_title, salary_grade, place_of_assignment))"
   ]
  },
  {
   "cell_type": "code",
   "execution_count": 16,
   "id": "76351e2e",
   "metadata": {},
   "outputs": [
    {
     "data": {
      "text/plain": [
       "['CSC Job Portal',\n",
       " 'MGO TINGLOY, BATANGAS | Region IV',\n",
       " 'Place of Assignment : Tingloy, Batangas RO IV',\n",
       " 'Position Title : Municipal Government Assistant Department Head (Assistant',\n",
       " 'Municipal Treasurer)',\n",
       " 'Plantilla Item No. : 2025-047',\n",
       " 'Salary/Job/Pay Grade : 24',\n",
       " 'Monthly Salary : Php 56,127.00',\n",
       " 'Eligibility : Career Service Professional (Second Level Eligibility)',\n",
       " 'Education : Bachelors Degree',\n",
       " 'Training : 16hours of relevant Training',\n",
       " 'Work Experience : Three(3) years relevant experience',\n",
       " 'Competency : N/A',\n",
       " 'Instructions/Remarks :',\n",
       " 'Interested and qualified applicants should signify their interest in writing. Attach the following documents',\n",
       " 'to the application letter and send to the address below not later than May 7, 2025',\n",
       " 'Documents:',\n",
       " '1. Fully accomplished Personal Data Sheet (PDS) with recent passport-sized picture (CS Form No. 212,',\n",
       " 'Revised 2017) which can be downloaded at www.csc.gov.ph;',\n",
       " '2. Performance rating in the last rating period (if applicable);',\n",
       " '3. Photocopy of certificate of eligibility/rating/license; and',\n",
       " '4. Photocopy of Transcript of Records.',\n",
       " 'QUALIFIED APPLICANTS are advised to hand in or send through courier/email their application to:',\n",
       " 'DR. JONALD S. BACAL',\n",
       " 'Municipal budget Officer/Acting HRMO',\n",
       " 'Poblacion 15, Tingloy Batangas',\n",
       " 'tingloyhrmo@yahoo.com',\n",
       " 'APPLICATIONS WITH INCOMPLETE DOCUMENTS SHALL NOT BE ENTERTAINED.',\n",
       " 'Posting Date : April 22, 2025',\n",
       " 'Closing Date : May 07, 2025',\n",
       " '                               1 / 1',\n",
       " 'Powered by TCPDF (www.tcpdf.org)']"
      ]
     },
     "execution_count": 16,
     "metadata": {},
     "output_type": "execute_result"
    }
   ],
   "source": [
    "first_page.extract_text_simple().split(\"\\n\")"
   ]
  },
  {
   "cell_type": "code",
   "execution_count": 45,
   "id": "ab96847d",
   "metadata": {},
   "outputs": [
    {
     "data": {
      "text/plain": [
       "{}"
      ]
     },
     "execution_count": 45,
     "metadata": {},
     "output_type": "execute_result"
    }
   ],
   "source": [
    "from pypdf import PdfReader\n",
    "\n",
    "reader = PdfReader(pdf_path / \"test.pdf\")\n",
    "page = reader.pages[0]\n",
    "reader.get_form_text_fields()"
   ]
  },
  {
   "cell_type": "code",
   "execution_count": 12,
   "id": "d9e79917",
   "metadata": {},
   "outputs": [
    {
     "data": {
      "text/plain": [
       "'<!DOCTYPE html>\\n<!--[if lt IE 7]> <html class=\"no-js ie6 oldie\" lang=\"en-US\"> <![endif]-->\\n<!--[if IE 7]>    <html class=\"no-js ie7 oldie\" lang=\"en-US\"> <![endif]-->\\n<!--[if IE 8]>    <html class=\"no-js ie8 oldie\" lang=\"en-US\"> <![endif]-->\\n<!--[if gt IE 8]><!--> <html class=\"no-js\" lang=\"en-US\"> <!--<![endif]-->\\n<head>\\n<title>Attention Required! | Cloudflare</title>\\n<meta charset=\"UTF-8\" />\\n<meta http-equiv=\"Content-Type\" content=\"text/html; charset=UTF-8\" />\\n<meta http-equiv=\"X-UA-Compatible\" content=\"IE=Edge\" />\\n<meta name=\"robots\" content=\"noindex, nofollow\" />\\n<meta name=\"viewport\" content=\"width=device-width,initial-scale=1\" />\\n<link rel=\"stylesheet\" id=\"cf_styles-css\" href=\"/cdn-cgi/styles/cf.errors.css\" />\\n<!--[if lt IE 9]><link rel=\"stylesheet\" id=\\'cf_styles-ie-css\\' href=\"/cdn-cgi/styles/cf.errors.ie.css\" /><![endif]-->\\n<style>body{margin:0;padding:0}</style>\\n\\n\\n<!--[if gte IE 10]><!-->\\n<script>\\n  if (!navigator.cookieEnabled) {\\n    window.addEventListener(\\'DOMContentLoaded\\', function () {\\n      var cookieEl = document.getElementById(\\'cookie-alert\\');\\n      cookieEl.style.display = \\'block\\';\\n    })\\n  }\\n</script>\\n<!--<![endif]-->\\n\\n\\n</head>\\n<body>\\n  <div id=\"cf-wrapper\">\\n    <div class=\"cf-alert cf-alert-error cf-cookie-error\" id=\"cookie-alert\" data-translate=\"enable_cookies\">Please enable cookies.</div>\\n    <div id=\"cf-error-details\" class=\"cf-error-details-wrapper\">\\n      <div class=\"cf-wrapper cf-header cf-error-overview\">\\n        <h1 data-translate=\"block_headline\">Sorry, you have been blocked</h1>\\n        <h2 class=\"cf-subheadline\"><span data-translate=\"unable_to_access\">You are unable to access</span> csc.gov.ph</h2>\\n      </div><!-- /.header -->\\n\\n      <div class=\"cf-section cf-highlight\">\\n        <div class=\"cf-wrapper\">\\n          <div class=\"cf-screenshot-container cf-screenshot-full\">\\n            \\n              <span class=\"cf-no-screenshot error\"></span>\\n            \\n          </div>\\n        </div>\\n      </div><!-- /.captcha-container -->\\n\\n      <div class=\"cf-section cf-wrapper\">\\n        <div class=\"cf-columns two\">\\n          <div class=\"cf-column\">\\n            <h2 data-translate=\"blocked_why_headline\">Why have I been blocked?</h2>\\n\\n            <p data-translate=\"blocked_why_detail\">This website is using a security service to protect itself from online attacks. The action you just performed triggered the security solution. There are several actions that could trigger this block including submitting a certain word or phrase, a SQL command or malformed data.</p>\\n          </div>\\n\\n          <div class=\"cf-column\">\\n            <h2 data-translate=\"blocked_resolve_headline\">What can I do to resolve this?</h2>\\n\\n            <p data-translate=\"blocked_resolve_detail\">You can email the site owner to let them know you were blocked. Please include what you were doing when this page came up and the Cloudflare Ray ID found at the bottom of this page.</p>\\n          </div>\\n        </div>\\n      </div><!-- /.section -->\\n\\n      <div class=\"cf-error-footer cf-wrapper w-240 lg:w-full py-10 sm:py-4 sm:px-8 mx-auto text-center sm:text-left border-solid border-0 border-t border-gray-300\">\\n  <p class=\"text-13\">\\n    <span class=\"cf-footer-item sm:block sm:mb-1\">Cloudflare Ray ID: <strong class=\"font-semibold\">93807f95de5a4639</strong></span>\\n    <span class=\"cf-footer-separator sm:hidden\">&bull;</span>\\n    <span id=\"cf-footer-item-ip\" class=\"cf-footer-item hidden sm:block sm:mb-1\">\\n      Your IP:\\n      <button type=\"button\" id=\"cf-footer-ip-reveal\" class=\"cf-footer-ip-reveal-btn\">Click to reveal</button>\\n      <span class=\"hidden\" id=\"cf-footer-ip\">49.146.33.41</span>\\n      <span class=\"cf-footer-separator sm:hidden\">&bull;</span>\\n    </span>\\n    <span class=\"cf-footer-item sm:block sm:mb-1\"><span>Performance &amp; security by</span> <a rel=\"noopener noreferrer\" href=\"https://www.cloudflare.com/5xx-error-landing\" id=\"brand_link\" target=\"_blank\">Cloudflare</a></span>\\n    \\n  </p>\\n  <script>(function(){function d(){var b=a.getElementById(\"cf-footer-item-ip\"),c=a.getElementById(\"cf-footer-ip-reveal\");b&&\"classList\"in b&&(b.classList.remove(\"hidden\"),c.addEventListener(\"click\",function(){c.classList.add(\"hidden\");a.getElementById(\"cf-footer-ip\").classList.remove(\"hidden\")}))}var a=document;document.addEventListener&&a.addEventListener(\"DOMContentLoaded\",d)})();</script>\\n</div><!-- /.error-footer -->\\n\\n\\n    </div><!-- /#cf-error-details -->\\n  </div><!-- /#cf-wrapper -->\\n\\n  <script>\\n  window._cf_translation = {};\\n  \\n  \\n</script>\\n\\n</body>\\n</html>\\n'"
      ]
     },
     "execution_count": 12,
     "metadata": {},
     "output_type": "execute_result"
    }
   ],
   "source": [
    "import requests\n",
    "jobId = 4396735\n",
    "\n",
    "requests.get(f\"https://csc.gov.ph/career/job/{jobId}/\").text"
   ]
  },
  {
   "cell_type": "code",
   "execution_count": null,
   "id": "2490997b",
   "metadata": {},
   "outputs": [
    {
     "name": "stdout",
     "output_type": "stream",
     "text": [
      "count(2)\n",
      "count(2)\n"
     ]
    }
   ],
   "source": [
    "from itertools import count\n",
    "\n",
    "counter = count(1)\n",
    "\n"
   ]
  },
  {
   "cell_type": "code",
   "execution_count": 20,
   "id": "343db093",
   "metadata": {},
   "outputs": [],
   "source": [
    "dbPath = (\n",
    "    PROCESSED_DATA_DIR\n",
    "    / \"CivilServiceCommission\"\n",
    "    / \"civilservicecommission_pdfs.duckdb\"\n",
    ")\n",
    "\n",
    "db = duckdb.connect(dbPath, read_only=True)"
   ]
  },
  {
   "cell_type": "code",
   "execution_count": 21,
   "id": "d610afbe",
   "metadata": {},
   "outputs": [],
   "source": [
    "pdfs = db.sql(\"SELECT * FROM civilservicecommission_pdfs\").pl()"
   ]
  },
  {
   "cell_type": "code",
   "execution_count": 22,
   "id": "99242392",
   "metadata": {},
   "outputs": [
    {
     "data": {
      "text/html": [
       "<div><style>\n",
       ".dataframe > thead > tr,\n",
       ".dataframe > tbody > tr {\n",
       "  text-align: right;\n",
       "  white-space: pre-wrap;\n",
       "}\n",
       "</style>\n",
       "<small>shape: (27_668, 12)</small><table border=\"1\" class=\"dataframe\"><thead><tr><th>jobId</th><th>LocalRegion</th><th>PlaceOfAssignment</th><th>PositionTitle</th><th>PlantillaNo</th><th>SalaryGrade</th><th>MonthlySalary</th><th>Eligibility</th><th>Education</th><th>Training</th><th>Experience</th><th>Competency</th></tr><tr><td>i32</td><td>str</td><td>str</td><td>str</td><td>str</td><td>i32</td><td>i32</td><td>str</td><td>str</td><td>str</td><td>str</td><td>str</td></tr></thead><tbody><tr><td>3620203</td><td>&quot;DEPARTMENT OF EDUCATION&quot;</td><td>&quot;Cayapa NHS&quot;</td><td>&quot;Teacher I&quot;</td><td>null</td><td>null</td><td>27000</td><td>&quot;TR./PBET/LET/RA 1080&quot;</td><td>&quot;BSED or its equivalent&quot;</td><td>&quot;None Required&quot;</td><td>&quot;None Required&quot;</td><td>&quot;Teaching Learning Process; Stu…</td></tr><tr><td>3734502</td><td>&quot;CIVIL SERVICE COMMISSION&quot;</td><td>&quot;CSC NCR&quot;</td><td>&quot;Personnel Specialist I (Human …</td><td>null</td><td>null</td><td>34421</td><td>&quot;Career Service Professional/ S…</td><td>&quot;Bachelor’s Degree&quot;</td><td>&quot;None Required&quot;</td><td>&quot;None Required&quot;</td><td>&quot;&quot;</td></tr><tr><td>4207888</td><td>&quot;CGO LAOAG CITY (CAPITAL)&quot;</td><td>&quot;Office of the City Human Resou…</td><td>&quot;Administrative Assistant I&quot;</td><td>null</td><td>null</td><td>17429</td><td>&quot;None Required (MC 11, s. 1996 …</td><td>&quot;Elementary School Graduate&quot;</td><td>&quot;None Required&quot;</td><td>&quot;None Required&quot;</td><td>&quot;Memory, Stamina, Technology ap…</td></tr><tr><td>4217931</td><td>&quot;PGO BATANES&quot;</td><td>&quot;Proviincial Gov&#x27;t of Batanes/P…</td><td>&quot;Provincial Government Departme…</td><td>null</td><td>null</td><td>121146</td><td>&quot;Career Service Professional/Se…</td><td>&quot;Bachelor&#x27;s degree in tourism, …</td><td>&quot;DOT specific and mandatory tra…</td><td>&quot;Five years of work experience …</td><td>&quot;n/a&quot;</td></tr><tr><td>4218644</td><td>&quot;LOCAL WATER UTILITIES ADMINIST…</td><td>&quot;Office of the Administrator/Le…</td><td>&quot;Department Manager A&quot;</td><td>null</td><td>null</td><td>131124</td><td>&quot;Career Service Professional/Se…</td><td>&quot;Master&#x27;s degree or Certificate…</td><td>&quot;40 hours of Mandatory Continui…</td><td>&quot;5 years of supervisory/managem…</td><td>&quot;&quot;</td></tr><tr><td>&hellip;</td><td>&hellip;</td><td>&hellip;</td><td>&hellip;</td><td>&hellip;</td><td>&hellip;</td><td>&hellip;</td><td>&hellip;</td><td>&hellip;</td><td>&hellip;</td><td>&hellip;</td><td>&hellip;</td></tr><tr><td>4396252</td><td>&quot;DEPARTMENT OF EDUCATION&quot;</td><td>&quot;SENIOR HIGH SCHOOLS within the…</td><td>&quot;TEACHER I&quot;</td><td>null</td><td>null</td><td>30024</td><td>&quot;RA 1080 (Teacher) Secondary;if…</td><td>&quot;Bachelor&#x27;s degree; or completi…</td><td>&quot;at least NC II Appropriate to …</td><td>&quot;None required&quot;</td><td>&quot;N/A&quot;</td></tr><tr><td>4396253</td><td>&quot;DEPARTMENT OF EDUCATION&quot;</td><td>&quot;SENIOR HIGH SCHOOLS within the…</td><td>&quot;TEACHER I&quot;</td><td>null</td><td>null</td><td>30024</td><td>&quot;RA 1080 (Teacher) Secondary;if…</td><td>&quot;Bachelor&#x27;s degree; or completi…</td><td>&quot;at least NC II Appropriate to …</td><td>&quot;None required&quot;</td><td>&quot;N/A&quot;</td></tr><tr><td>4396254</td><td>&quot;DEPARTMENT OF EDUCATION&quot;</td><td>&quot;SENIOR HIGH SCHOOLS within the…</td><td>&quot;TEACHER I&quot;</td><td>null</td><td>null</td><td>30024</td><td>&quot;RA 1080 (Teacher) Secondary;if…</td><td>&quot;Bachelor&#x27;s degree; or completi…</td><td>&quot;at least NC II Appropriate to …</td><td>&quot;None required&quot;</td><td>&quot;N/A&quot;</td></tr><tr><td>4396255</td><td>&quot;DEPARTMENT OF HEALTH&quot;</td><td>&quot;Zamboanga City Medical Center …</td><td>&quot;Medical Officer III&quot;</td><td>null</td><td>null</td><td>70013</td><td>&quot;RA 1080 (Physician)&quot;</td><td>&quot;Doctor of Medicine&quot;</td><td>&quot;None required&quot;</td><td>&quot;None required&quot;</td><td>&quot;&quot;</td></tr><tr><td>4396256</td><td>&quot;DEPARTMENT OF HEALTH&quot;</td><td>&quot;Zamboanga City Medical Center …</td><td>&quot;Medical Officer III&quot;</td><td>null</td><td>null</td><td>70013</td><td>&quot;RA 1080 (Physician)&quot;</td><td>&quot;Doctor of Medicine&quot;</td><td>&quot;None required&quot;</td><td>&quot;None required&quot;</td><td>&quot;&quot;</td></tr></tbody></table></div>"
      ],
      "text/plain": [
       "shape: (27_668, 12)\n",
       "┌─────────┬────────────┬───────────┬───────────┬───┬───────────┬───────────┬───────────┬───────────┐\n",
       "│ jobId   ┆ LocalRegio ┆ PlaceOfAs ┆ PositionT ┆ … ┆ Education ┆ Training  ┆ Experienc ┆ Competenc │\n",
       "│ ---     ┆ n          ┆ signment  ┆ itle      ┆   ┆ ---       ┆ ---       ┆ e         ┆ y         │\n",
       "│ i32     ┆ ---        ┆ ---       ┆ ---       ┆   ┆ str       ┆ str       ┆ ---       ┆ ---       │\n",
       "│         ┆ str        ┆ str       ┆ str       ┆   ┆           ┆           ┆ str       ┆ str       │\n",
       "╞═════════╪════════════╪═══════════╪═══════════╪═══╪═══════════╪═══════════╪═══════════╪═══════════╡\n",
       "│ 3620203 ┆ DEPARTMENT ┆ Cayapa    ┆ Teacher I ┆ … ┆ BSED or   ┆ None      ┆ None      ┆ Teaching  │\n",
       "│         ┆ OF         ┆ NHS       ┆           ┆   ┆ its equiv ┆ Required  ┆ Required  ┆ Learning  │\n",
       "│         ┆ EDUCATION  ┆           ┆           ┆   ┆ alent     ┆           ┆           ┆ Process;  │\n",
       "│         ┆            ┆           ┆           ┆   ┆           ┆           ┆           ┆ Stu…      │\n",
       "│ 3734502 ┆ CIVIL      ┆ CSC NCR   ┆ Personnel ┆ … ┆ Bachelor’ ┆ None      ┆ None      ┆           │\n",
       "│         ┆ SERVICE    ┆           ┆ Specialis ┆   ┆ s Degree  ┆ Required  ┆ Required  ┆           │\n",
       "│         ┆ COMMISSION ┆           ┆ t I       ┆   ┆           ┆           ┆           ┆           │\n",
       "│         ┆            ┆           ┆ (Human …  ┆   ┆           ┆           ┆           ┆           │\n",
       "│ 4207888 ┆ CGO LAOAG  ┆ Office of ┆ Administr ┆ … ┆ Elementar ┆ None      ┆ None      ┆ Memory,   │\n",
       "│         ┆ CITY       ┆ the City  ┆ ative     ┆   ┆ y School  ┆ Required  ┆ Required  ┆ Stamina,  │\n",
       "│         ┆ (CAPITAL)  ┆ Human     ┆ Assistant ┆   ┆ Graduate  ┆           ┆           ┆ Technolog │\n",
       "│         ┆            ┆ Resou…    ┆ I         ┆   ┆           ┆           ┆           ┆ y ap…     │\n",
       "│ 4217931 ┆ PGO        ┆ Proviinci ┆ Provincia ┆ … ┆ Bachelor' ┆ DOT       ┆ Five      ┆ n/a       │\n",
       "│         ┆ BATANES    ┆ al Gov't  ┆ l Governm ┆   ┆ s degree  ┆ specific  ┆ years of  ┆           │\n",
       "│         ┆            ┆ of Batane ┆ ent       ┆   ┆ in        ┆ and       ┆ work expe ┆           │\n",
       "│         ┆            ┆ s/P…      ┆ Departme… ┆   ┆ tourism,  ┆ mandatory ┆ rience …  ┆           │\n",
       "│         ┆            ┆           ┆           ┆   ┆ …         ┆ tra…      ┆           ┆           │\n",
       "│ 4218644 ┆ LOCAL      ┆ Office of ┆ Departmen ┆ … ┆ Master's  ┆ 40 hours  ┆ 5 years   ┆           │\n",
       "│         ┆ WATER      ┆ the Admin ┆ t Manager ┆   ┆ degree or ┆ of        ┆ of superv ┆           │\n",
       "│         ┆ UTILITIES  ┆ istrator/ ┆ A         ┆   ┆ Certifica ┆ Mandatory ┆ isory/man ┆           │\n",
       "│         ┆ ADMINIST…  ┆ Le…       ┆           ┆   ┆ te…       ┆ Continui… ┆ agem…     ┆           │\n",
       "│ …       ┆ …          ┆ …         ┆ …         ┆ … ┆ …         ┆ …         ┆ …         ┆ …         │\n",
       "│ 4396252 ┆ DEPARTMENT ┆ SENIOR    ┆ TEACHER I ┆ … ┆ Bachelor' ┆ at least  ┆ None      ┆ N/A       │\n",
       "│         ┆ OF         ┆ HIGH      ┆           ┆   ┆ s degree; ┆ NC II App ┆ required  ┆           │\n",
       "│         ┆ EDUCATION  ┆ SCHOOLS   ┆           ┆   ┆ or        ┆ ropriate  ┆           ┆           │\n",
       "│         ┆            ┆ within    ┆           ┆   ┆ completi… ┆ to …      ┆           ┆           │\n",
       "│         ┆            ┆ the…      ┆           ┆   ┆           ┆           ┆           ┆           │\n",
       "│ 4396253 ┆ DEPARTMENT ┆ SENIOR    ┆ TEACHER I ┆ … ┆ Bachelor' ┆ at least  ┆ None      ┆ N/A       │\n",
       "│         ┆ OF         ┆ HIGH      ┆           ┆   ┆ s degree; ┆ NC II App ┆ required  ┆           │\n",
       "│         ┆ EDUCATION  ┆ SCHOOLS   ┆           ┆   ┆ or        ┆ ropriate  ┆           ┆           │\n",
       "│         ┆            ┆ within    ┆           ┆   ┆ completi… ┆ to …      ┆           ┆           │\n",
       "│         ┆            ┆ the…      ┆           ┆   ┆           ┆           ┆           ┆           │\n",
       "│ 4396254 ┆ DEPARTMENT ┆ SENIOR    ┆ TEACHER I ┆ … ┆ Bachelor' ┆ at least  ┆ None      ┆ N/A       │\n",
       "│         ┆ OF         ┆ HIGH      ┆           ┆   ┆ s degree; ┆ NC II App ┆ required  ┆           │\n",
       "│         ┆ EDUCATION  ┆ SCHOOLS   ┆           ┆   ┆ or        ┆ ropriate  ┆           ┆           │\n",
       "│         ┆            ┆ within    ┆           ┆   ┆ completi… ┆ to …      ┆           ┆           │\n",
       "│         ┆            ┆ the…      ┆           ┆   ┆           ┆           ┆           ┆           │\n",
       "│ 4396255 ┆ DEPARTMENT ┆ Zamboanga ┆ Medical   ┆ … ┆ Doctor of ┆ None      ┆ None      ┆           │\n",
       "│         ┆ OF HEALTH  ┆ City      ┆ Officer   ┆   ┆ Medicine  ┆ required  ┆ required  ┆           │\n",
       "│         ┆            ┆ Medical   ┆ III       ┆   ┆           ┆           ┆           ┆           │\n",
       "│         ┆            ┆ Center …  ┆           ┆   ┆           ┆           ┆           ┆           │\n",
       "│ 4396256 ┆ DEPARTMENT ┆ Zamboanga ┆ Medical   ┆ … ┆ Doctor of ┆ None      ┆ None      ┆           │\n",
       "│         ┆ OF HEALTH  ┆ City      ┆ Officer   ┆   ┆ Medicine  ┆ required  ┆ required  ┆           │\n",
       "│         ┆            ┆ Medical   ┆ III       ┆   ┆           ┆           ┆           ┆           │\n",
       "│         ┆            ┆ Center …  ┆           ┆   ┆           ┆           ┆           ┆           │\n",
       "└─────────┴────────────┴───────────┴───────────┴───┴───────────┴───────────┴───────────┴───────────┘"
      ]
     },
     "execution_count": 22,
     "metadata": {},
     "output_type": "execute_result"
    }
   ],
   "source": [
    "pdfs"
   ]
  },
  {
   "cell_type": "code",
   "execution_count": 29,
   "id": "f50162d9",
   "metadata": {},
   "outputs": [
    {
     "data": {
      "text/html": [
       "<div><style>\n",
       ".dataframe > thead > tr,\n",
       ".dataframe > tbody > tr {\n",
       "  text-align: right;\n",
       "  white-space: pre-wrap;\n",
       "}\n",
       "</style>\n",
       "<small>shape: (176, 12)</small><table border=\"1\" class=\"dataframe\"><thead><tr><th>jobId</th><th>LocalRegion</th><th>PlaceOfAssignment</th><th>PositionTitle</th><th>PlantillaNo</th><th>SalaryGrade</th><th>MonthlySalary</th><th>Eligibility</th><th>Education</th><th>Training</th><th>Experience</th><th>Competency</th></tr><tr><td>i32</td><td>str</td><td>str</td><td>str</td><td>str</td><td>i32</td><td>i32</td><td>str</td><td>str</td><td>str</td><td>str</td><td>str</td></tr></thead><tbody><tr><td>4221315</td><td>&quot;MGO GIGAQUIT, SURIGAO DEL NORT…</td><td>&quot;LGU-Gigaquit, Surigao del Nort…</td><td>&quot;Municipal Government Departmen…</td><td>null</td><td>null</td><td>0</td><td>&quot;RA 1080 (Engineer)&quot;</td><td>&quot;Bachelor&#x27;s Degree in Civil Eng…</td><td>&quot;None required&quot;</td><td>&quot;3 years experience in the prac…</td><td>&quot;&quot;</td></tr><tr><td>4230802</td><td>&quot;DEPARTMENT OF EDUCATION&quot;</td><td>&quot;SDO MAKATI&quot;</td><td>&quot;ADMINISTRATIVE AIDE III&quot;</td><td>null</td><td>null</td><td>0</td><td>&quot;None required (MC 11, s. 1996-…</td><td>&quot;Elementary School graduate&quot;</td><td>&quot;None required&quot;</td><td>&quot;None required&quot;</td><td>&quot;&quot;</td></tr><tr><td>4231962</td><td>&quot;DEPARTMENT OF EDUCATION&quot;</td><td>&quot;Division of San Carlos City&quot;</td><td>&quot;EDUCATION PROGRAM SPECIALIST I…</td><td>null</td><td>null</td><td>0</td><td>&quot;RA 1080; Career Service (Profe…</td><td>&quot;Bachelor&#x27;s degree in&quot;</td><td>&quot;4 hours of relevant training&quot;</td><td>&quot;2 years experience in educatio…</td><td>&quot;&quot;</td></tr><tr><td>4240800</td><td>&quot;SAN FRANCISCO WATER DISTRICT&quot;</td><td>&quot;Office&quot;</td><td>&quot;Utilities/Customer Services As…</td><td>null</td><td>null</td><td>0</td><td>&quot;Career Service (Subprofessiona…</td><td>&quot;Completion of Two Years Studie…</td><td>&quot;Eight (8) Hours of Relevant&quot;</td><td>&quot;Two (2) Years of Relevant&quot;</td><td>&quot;* Competent in Geographic Info…</td></tr><tr><td>4243751</td><td>&quot;MGO SAN LUIS, AURORA&quot;</td><td>&quot;Office of the Municipal Mayor&quot;</td><td>&quot;Disability Affairs Officer I&quot;</td><td>null</td><td>null</td><td>0</td><td>&quot;Career Service (Professional)S…</td><td>&quot;Bachelor&#x27;s Degree&quot;</td><td>&quot;none required&quot;</td><td>&quot;none required&quot;</td><td>&quot;&quot;</td></tr><tr><td>&hellip;</td><td>&hellip;</td><td>&hellip;</td><td>&hellip;</td><td>&hellip;</td><td>&hellip;</td><td>&hellip;</td><td>&hellip;</td><td>&hellip;</td><td>&hellip;</td><td>&hellip;</td><td>&hellip;</td></tr><tr><td>4391508</td><td>&quot;BANGKO SENTRAL NG PILIPINAS&quot;</td><td>&quot;Investment Management Staff, R…</td><td>&quot;Reserve Management Specialist&quot;</td><td>null</td><td>null</td><td>0</td><td>&quot;Career Service (Professional) …</td><td>&quot;Bachelor&#x27;s degree in Economics…</td><td>&quot;Certified Treasury Professiona…</td><td>&quot;None required&quot;</td><td>&quot;&quot;</td></tr><tr><td>4391509</td><td>&quot;BANGKO SENTRAL NG PILIPINAS&quot;</td><td>&quot;Settlement Services Division I…</td><td>&quot;Settlement Services Specialist&quot;</td><td>null</td><td>null</td><td>0</td><td>&quot;Career Service (Professional) …</td><td>&quot;Bachelor?s degree relevant to …</td><td>&quot;8 hours of relevant training/l…</td><td>&quot;2 years of relevant experience&quot;</td><td>&quot;&quot;</td></tr><tr><td>4394145</td><td>&quot;BANGKO SENTRAL NG PILIPINAS&quot;</td><td>&quot;Security Policy and Planning D…</td><td>&quot;Special Investigator II&quot;</td><td>null</td><td>null</td><td>0</td><td>&quot;Career Service (Professional) …</td><td>&quot;Bachelor&#x27;s degree&quot;</td><td>&quot;4 hours of relevant training/l…</td><td>&quot;1 year of relevant experience&quot;</td><td>&quot;-&quot;</td></tr><tr><td>4394146</td><td>&quot;BANGKO SENTRAL NG PILIPINAS&quot;</td><td>&quot;Property Management and Dispos…</td><td>&quot;Bank Officer IV&quot;</td><td>null</td><td>null</td><td>0</td><td>&quot;Career Service (Professional)/…</td><td>&quot;Master&#x27;s degree&quot;</td><td>&quot;24 hours of relevant training/…</td><td>&quot;5 years of relevant experience&quot;</td><td>&quot;-&quot;</td></tr><tr><td>4394207</td><td>&quot;BANGKO SENTRAL NG PILIPINAS&quot;</td><td>&quot;BSPD Production Manpower Pool,…</td><td>&quot;Banknotes Production Assistant…</td><td>null</td><td>null</td><td>0</td><td>&quot;Security Plant Operative (CSC …</td><td>&quot;Completion of 2 years College …</td><td>&quot;32 hours of relevant training/…</td><td>&quot;5 years of relevant experience&quot;</td><td>&quot;-&quot;</td></tr></tbody></table></div>"
      ],
      "text/plain": [
       "shape: (176, 12)\n",
       "┌─────────┬────────────┬───────────┬───────────┬───┬───────────┬───────────┬───────────┬───────────┐\n",
       "│ jobId   ┆ LocalRegio ┆ PlaceOfAs ┆ PositionT ┆ … ┆ Education ┆ Training  ┆ Experienc ┆ Competenc │\n",
       "│ ---     ┆ n          ┆ signment  ┆ itle      ┆   ┆ ---       ┆ ---       ┆ e         ┆ y         │\n",
       "│ i32     ┆ ---        ┆ ---       ┆ ---       ┆   ┆ str       ┆ str       ┆ ---       ┆ ---       │\n",
       "│         ┆ str        ┆ str       ┆ str       ┆   ┆           ┆           ┆ str       ┆ str       │\n",
       "╞═════════╪════════════╪═══════════╪═══════════╪═══╪═══════════╪═══════════╪═══════════╪═══════════╡\n",
       "│ 4221315 ┆ MGO        ┆ LGU-Gigaq ┆ Municipal ┆ … ┆ Bachelor' ┆ None      ┆ 3 years   ┆           │\n",
       "│         ┆ GIGAQUIT,  ┆ uit,      ┆ Governmen ┆   ┆ s Degree  ┆ required  ┆ experienc ┆           │\n",
       "│         ┆ SURIGAO    ┆ Surigao   ┆ t Departm ┆   ┆ in Civil  ┆           ┆ e in the  ┆           │\n",
       "│         ┆ DEL NORT…  ┆ del Nort… ┆ en…       ┆   ┆ Eng…      ┆           ┆ prac…     ┆           │\n",
       "│ 4230802 ┆ DEPARTMENT ┆ SDO       ┆ ADMINISTR ┆ … ┆ Elementar ┆ None      ┆ None      ┆           │\n",
       "│         ┆ OF         ┆ MAKATI    ┆ ATIVE     ┆   ┆ y School  ┆ required  ┆ required  ┆           │\n",
       "│         ┆ EDUCATION  ┆           ┆ AIDE III  ┆   ┆ graduate  ┆           ┆           ┆           │\n",
       "│ 4231962 ┆ DEPARTMENT ┆ Division  ┆ EDUCATION ┆ … ┆ Bachelor' ┆ 4 hours   ┆ 2 years   ┆           │\n",
       "│         ┆ OF         ┆ of San    ┆ PROGRAM   ┆   ┆ s degree  ┆ of        ┆ experienc ┆           │\n",
       "│         ┆ EDUCATION  ┆ Carlos    ┆ SPECIALIS ┆   ┆ in        ┆ relevant  ┆ e in      ┆           │\n",
       "│         ┆            ┆ City      ┆ T I…      ┆   ┆           ┆ training  ┆ educatio… ┆           │\n",
       "│ 4240800 ┆ SAN        ┆ Office    ┆ Utilities ┆ … ┆ Completio ┆ Eight (8) ┆ Two (2)   ┆ *         │\n",
       "│         ┆ FRANCISCO  ┆           ┆ /Customer ┆   ┆ n of Two  ┆ Hours of  ┆ Years of  ┆ Competent │\n",
       "│         ┆ WATER      ┆           ┆ Services  ┆   ┆ Years     ┆ Relevant  ┆ Relevant  ┆ in Geogra │\n",
       "│         ┆ DISTRICT   ┆           ┆ As…       ┆   ┆ Studie…   ┆           ┆           ┆ phic      │\n",
       "│         ┆            ┆           ┆           ┆   ┆           ┆           ┆           ┆ Info…     │\n",
       "│ 4243751 ┆ MGO SAN    ┆ Office of ┆ Disabilit ┆ … ┆ Bachelor' ┆ none      ┆ none      ┆           │\n",
       "│         ┆ LUIS,      ┆ the       ┆ y Affairs ┆   ┆ s Degree  ┆ required  ┆ required  ┆           │\n",
       "│         ┆ AURORA     ┆ Municipal ┆ Officer I ┆   ┆           ┆           ┆           ┆           │\n",
       "│         ┆            ┆ Mayor     ┆           ┆   ┆           ┆           ┆           ┆           │\n",
       "│ …       ┆ …          ┆ …         ┆ …         ┆ … ┆ …         ┆ …         ┆ …         ┆ …         │\n",
       "│ 4391508 ┆ BANGKO     ┆ Investmen ┆ Reserve   ┆ … ┆ Bachelor' ┆ Certified ┆ None      ┆           │\n",
       "│         ┆ SENTRAL NG ┆ t Managem ┆ Managemen ┆   ┆ s degree  ┆ Treasury  ┆ required  ┆           │\n",
       "│         ┆ PILIPINAS  ┆ ent       ┆ t Special ┆   ┆ in Econom ┆ Professio ┆           ┆           │\n",
       "│         ┆            ┆ Staff, R… ┆ ist       ┆   ┆ ics…      ┆ na…       ┆           ┆           │\n",
       "│ 4391509 ┆ BANGKO     ┆ Settlemen ┆ Settlemen ┆ … ┆ Bachelor? ┆ 8 hours   ┆ 2 years   ┆           │\n",
       "│         ┆ SENTRAL NG ┆ t         ┆ t         ┆   ┆ s degree  ┆ of        ┆ of        ┆           │\n",
       "│         ┆ PILIPINAS  ┆ Services  ┆ Services  ┆   ┆ relevant  ┆ relevant  ┆ relevant  ┆           │\n",
       "│         ┆            ┆ Division  ┆ Specialis ┆   ┆ to …      ┆ training/ ┆ experienc ┆           │\n",
       "│         ┆            ┆ I…        ┆ t         ┆   ┆           ┆ l…        ┆ e         ┆           │\n",
       "│ 4394145 ┆ BANGKO     ┆ Security  ┆ Special   ┆ … ┆ Bachelor' ┆ 4 hours   ┆ 1 year of ┆ -         │\n",
       "│         ┆ SENTRAL NG ┆ Policy    ┆ Investiga ┆   ┆ s degree  ┆ of        ┆ relevant  ┆           │\n",
       "│         ┆ PILIPINAS  ┆ and       ┆ tor II    ┆   ┆           ┆ relevant  ┆ experienc ┆           │\n",
       "│         ┆            ┆ Planning  ┆           ┆   ┆           ┆ training/ ┆ e         ┆           │\n",
       "│         ┆            ┆ D…        ┆           ┆   ┆           ┆ l…        ┆           ┆           │\n",
       "│ 4394146 ┆ BANGKO     ┆ Property  ┆ Bank      ┆ … ┆ Master's  ┆ 24 hours  ┆ 5 years   ┆ -         │\n",
       "│         ┆ SENTRAL NG ┆ Managemen ┆ Officer   ┆   ┆ degree    ┆ of        ┆ of        ┆           │\n",
       "│         ┆ PILIPINAS  ┆ t and     ┆ IV        ┆   ┆           ┆ relevant  ┆ relevant  ┆           │\n",
       "│         ┆            ┆ Dispos…   ┆           ┆   ┆           ┆ training/ ┆ experienc ┆           │\n",
       "│         ┆            ┆           ┆           ┆   ┆           ┆ …         ┆ e         ┆           │\n",
       "│ 4394207 ┆ BANGKO     ┆ BSPD Prod ┆ Banknotes ┆ … ┆ Completio ┆ 32 hours  ┆ 5 years   ┆ -         │\n",
       "│         ┆ SENTRAL NG ┆ uction    ┆ Productio ┆   ┆ n of 2    ┆ of        ┆ of        ┆           │\n",
       "│         ┆ PILIPINAS  ┆ Manpower  ┆ n Assista ┆   ┆ years     ┆ relevant  ┆ relevant  ┆           │\n",
       "│         ┆            ┆ Pool,…    ┆ nt…       ┆   ┆ College … ┆ training/ ┆ experienc ┆           │\n",
       "│         ┆            ┆           ┆           ┆   ┆           ┆ …         ┆ e         ┆           │\n",
       "└─────────┴────────────┴───────────┴───────────┴───┴───────────┴───────────┴───────────┴───────────┘"
      ]
     },
     "execution_count": 29,
     "metadata": {},
     "output_type": "execute_result"
    }
   ],
   "source": [
    "pdfs.filter(pl.col(\"MonthlySalary\") == 0)"
   ]
  },
  {
   "cell_type": "code",
   "execution_count": 28,
   "id": "faddac3e",
   "metadata": {},
   "outputs": [
    {
     "data": {
      "text/html": [
       "<div><style>\n",
       ".dataframe > thead > tr,\n",
       ".dataframe > tbody > tr {\n",
       "  text-align: right;\n",
       "  white-space: pre-wrap;\n",
       "}\n",
       "</style>\n",
       "<small>shape: (9, 13)</small><table border=\"1\" class=\"dataframe\"><thead><tr><th>statistic</th><th>jobId</th><th>LocalRegion</th><th>PlaceOfAssignment</th><th>PositionTitle</th><th>PlantillaNo</th><th>SalaryGrade</th><th>MonthlySalary</th><th>Eligibility</th><th>Education</th><th>Training</th><th>Experience</th><th>Competency</th></tr><tr><td>str</td><td>f64</td><td>str</td><td>str</td><td>str</td><td>str</td><td>f64</td><td>f64</td><td>str</td><td>str</td><td>str</td><td>str</td><td>str</td></tr></thead><tbody><tr><td>&quot;count&quot;</td><td>27668.0</td><td>&quot;27668&quot;</td><td>&quot;27668&quot;</td><td>&quot;27668&quot;</td><td>&quot;0&quot;</td><td>0.0</td><td>27668.0</td><td>&quot;27668&quot;</td><td>&quot;27668&quot;</td><td>&quot;27668&quot;</td><td>&quot;27668&quot;</td><td>&quot;27668&quot;</td></tr><tr><td>&quot;null_count&quot;</td><td>0.0</td><td>&quot;0&quot;</td><td>&quot;0&quot;</td><td>&quot;0&quot;</td><td>&quot;27668&quot;</td><td>27668.0</td><td>0.0</td><td>&quot;0&quot;</td><td>&quot;0&quot;</td><td>&quot;0&quot;</td><td>&quot;0&quot;</td><td>&quot;0&quot;</td></tr><tr><td>&quot;mean&quot;</td><td>4.3499e6</td><td>null</td><td>null</td><td>null</td><td>null</td><td>null</td><td>37493.641969</td><td>null</td><td>null</td><td>null</td><td>null</td><td>null</td></tr><tr><td>&quot;std&quot;</td><td>50438.392076</td><td>null</td><td>null</td><td>null</td><td>null</td><td>null</td><td>29116.767666</td><td>null</td><td>null</td><td>null</td><td>null</td><td>null</td></tr><tr><td>&quot;min&quot;</td><td>3.620203e6</td><td>&quot;(CGO PASAY NCR)&quot;</td><td>&quot;&quot;</td><td>&quot;&quot;</td><td>null</td><td>null</td><td>0.0</td><td>&quot;&quot;</td><td>&quot;&quot;</td><td>&quot;&quot;</td><td>&quot;&quot;</td><td>&quot;&quot;</td></tr><tr><td>&quot;25%&quot;</td><td>4.316479e6</td><td>null</td><td>null</td><td>null</td><td>null</td><td>null</td><td>27000.0</td><td>null</td><td>null</td><td>null</td><td>null</td><td>null</td></tr><tr><td>&quot;50%&quot;</td><td>4.37606e6</td><td>null</td><td>null</td><td>null</td><td>null</td><td>null</td><td>32245.0</td><td>null</td><td>null</td><td>null</td><td>null</td><td>null</td></tr><tr><td>&quot;75%&quot;</td><td>4.387071e6</td><td>null</td><td>null</td><td>null</td><td>null</td><td>null</td><td>41616.0</td><td>null</td><td>null</td><td>null</td><td>null</td><td>null</td></tr><tr><td>&quot;max&quot;</td><td>4.396256e6</td><td>&quot;ZAMBOANGA STATE COLLEGE OF MAR…</td><td>&quot;sumisip, basilan&quot;</td><td>&quot;two (2)Administrative Aide I (…</td><td>null</td><td>null</td><td>1.8231e6</td><td>&quot;ÿR.A. 1080 (Board Passed of En…</td><td>&quot;| Region VIII&quot;</td><td>&quot;sixteen (16) hours of relevant…</td><td>&quot;two (2) years of relevant expe…</td><td>&quot;• Exemplifying Integrity&quot;</td></tr></tbody></table></div>"
      ],
      "text/plain": [
       "shape: (9, 13)\n",
       "┌───────────┬───────────┬───────────┬───────────┬───┬───────────┬───────────┬───────────┬──────────┐\n",
       "│ statistic ┆ jobId     ┆ LocalRegi ┆ PlaceOfAs ┆ … ┆ Education ┆ Training  ┆ Experienc ┆ Competen │\n",
       "│ ---       ┆ ---       ┆ on        ┆ signment  ┆   ┆ ---       ┆ ---       ┆ e         ┆ cy       │\n",
       "│ str       ┆ f64       ┆ ---       ┆ ---       ┆   ┆ str       ┆ str       ┆ ---       ┆ ---      │\n",
       "│           ┆           ┆ str       ┆ str       ┆   ┆           ┆           ┆ str       ┆ str      │\n",
       "╞═══════════╪═══════════╪═══════════╪═══════════╪═══╪═══════════╪═══════════╪═══════════╪══════════╡\n",
       "│ count     ┆ 27668.0   ┆ 27668     ┆ 27668     ┆ … ┆ 27668     ┆ 27668     ┆ 27668     ┆ 27668    │\n",
       "│ null_coun ┆ 0.0       ┆ 0         ┆ 0         ┆ … ┆ 0         ┆ 0         ┆ 0         ┆ 0        │\n",
       "│ t         ┆           ┆           ┆           ┆   ┆           ┆           ┆           ┆          │\n",
       "│ mean      ┆ 4.3499e6  ┆ null      ┆ null      ┆ … ┆ null      ┆ null      ┆ null      ┆ null     │\n",
       "│ std       ┆ 50438.392 ┆ null      ┆ null      ┆ … ┆ null      ┆ null      ┆ null      ┆ null     │\n",
       "│           ┆ 076       ┆           ┆           ┆   ┆           ┆           ┆           ┆          │\n",
       "│ min       ┆ 3.620203e ┆ (CGO      ┆           ┆ … ┆           ┆           ┆           ┆          │\n",
       "│           ┆ 6         ┆ PASAY     ┆           ┆   ┆           ┆           ┆           ┆          │\n",
       "│           ┆           ┆ NCR)      ┆           ┆   ┆           ┆           ┆           ┆          │\n",
       "│ 25%       ┆ 4.316479e ┆ null      ┆ null      ┆ … ┆ null      ┆ null      ┆ null      ┆ null     │\n",
       "│           ┆ 6         ┆           ┆           ┆   ┆           ┆           ┆           ┆          │\n",
       "│ 50%       ┆ 4.37606e6 ┆ null      ┆ null      ┆ … ┆ null      ┆ null      ┆ null      ┆ null     │\n",
       "│ 75%       ┆ 4.387071e ┆ null      ┆ null      ┆ … ┆ null      ┆ null      ┆ null      ┆ null     │\n",
       "│           ┆ 6         ┆           ┆           ┆   ┆           ┆           ┆           ┆          │\n",
       "│ max       ┆ 4.396256e ┆ ZAMBOANGA ┆ sumisip,  ┆ … ┆ | Region  ┆ sixteen   ┆ two (2)   ┆ • Exempl │\n",
       "│           ┆ 6         ┆ STATE     ┆ basilan   ┆   ┆ VIII      ┆ (16)      ┆ years of  ┆ ifying   │\n",
       "│           ┆           ┆ COLLEGE   ┆           ┆   ┆           ┆ hours of  ┆ relevant  ┆ Integrit │\n",
       "│           ┆           ┆ OF MAR…   ┆           ┆   ┆           ┆ relevant… ┆ expe…     ┆ y        │\n",
       "└───────────┴───────────┴───────────┴───────────┴───┴───────────┴───────────┴───────────┴──────────┘"
      ]
     },
     "execution_count": 28,
     "metadata": {},
     "output_type": "execute_result"
    }
   ],
   "source": [
    "pdfs.describe()"
   ]
  },
  {
   "cell_type": "code",
   "execution_count": 26,
   "id": "3c87216c",
   "metadata": {},
   "outputs": [
    {
     "data": {
      "text/plain": [
       "1823100"
      ]
     },
     "execution_count": 26,
     "metadata": {},
     "output_type": "execute_result"
    }
   ],
   "source": [
    "pdfs[\"MonthlySalary\"].max()"
   ]
  },
  {
   "cell_type": "code",
   "execution_count": 34,
   "id": "e1515a8e",
   "metadata": {},
   "outputs": [
    {
     "data": {
      "text/plain": [
       "(0.0, 200000.0)"
      ]
     },
     "execution_count": 34,
     "metadata": {},
     "output_type": "execute_result"
    },
    {
     "data": {
      "image/png": "[encoded data removed]",
      "text/plain": [
       "<Figure size 640x480 with 1 Axes>"
      ]
     },
     "metadata": {},
     "output_type": "display_data"
    }
   ],
   "source": [
    "import seaborn as sns\n",
    "import matplotlib.pyplot as plt\n",
    "\n",
    "\n",
    "sns.histplot(data=pdfs, x=\"MonthlySalary\")\n",
    "plt.xlim(0, 200000)"
   ]
  },
  {
   "cell_type": "code",
   "execution_count": 35,
   "id": "4f827c19",
   "metadata": {},
   "outputs": [],
   "source": [
    "db.close()"
   ]
  }
 ],
 "metadata": {
  "kernelspec": {
   "display_name": ".venv",
   "language": "python",
   "name": "python3"
  },
  "language_info": {
   "codemirror_mode": {
    "name": "ipython",
    "version": 3
   },
   "file_extension": ".py",
   "mimetype": "text/x-python",
   "name": "python",
   "nbconvert_exporter": "python",
   "pygments_lexer": "ipython3",
   "version": "3.12.9"
  }
 },
 "nbformat": 4,
 "nbformat_minor": 5
}
