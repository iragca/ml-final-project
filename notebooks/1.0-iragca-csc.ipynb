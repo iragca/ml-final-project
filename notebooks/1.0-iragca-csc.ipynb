{
 "cells": [
  {
   "cell_type": "code",
   "execution_count": null,
   "id": "0f808455",
   "metadata": {},
   "outputs": [],
   "source": [
    "import duckdb\n",
    "import polars as pl\n",
    "\n",
    "from ml_final_project.config import RAW_DATA_DIR"
   ]
  },
  {
   "cell_type": "code",
   "execution_count": 6,
   "id": "1429bff1",
   "metadata": {},
   "outputs": [],
   "source": [
    "dbPath = RAW_DATA_DIR / \"CivilServiceCommission\" / \"civilservicecommission.duckdb\"\n",
    "\n",
    "db = duckdb.connect(dbPath)"
   ]
  },
  {
   "cell_type": "code",
   "execution_count": 7,
   "id": "46fbc75c",
   "metadata": {},
   "outputs": [
    {
     "data": {
      "application/vnd.microsoft.datawrangler.viewer.v0+json": {
       "columns": [
        {
         "name": "index",
         "rawType": "int64",
         "type": "integer"
        },
        {
         "name": "Agency",
         "rawType": "object",
         "type": "string"
        },
        {
         "name": "Region",
         "rawType": "object",
         "type": "string"
        },
        {
         "name": "Position Title",
         "rawType": "object",
         "type": "string"
        },
        {
         "name": "Plantilla Item No.",
         "rawType": "object",
         "type": "string"
        },
        {
         "name": "Posting Date",
         "rawType": "object",
         "type": "string"
        },
        {
         "name": "Closing Date",
         "rawType": "object",
         "type": "string"
        },
        {
         "name": "Action",
         "rawType": "object",
         "type": "string"
        }
       ],
       "conversionMethod": "pd.DataFrame",
       "ref": "5c231bd9-e2f4-4981-a20b-5f0ad1c79ada",
       "rows": [
        [
         "0",
         "TECHNICAL EDUCATION AND SKILLS DEVELOPMENT AUTHORITY",
         "NCR",
         "Supervising Technical Education and Skills Development Specialist",
         "TESDAB-SVTESDS-30017-2020",
         "10 Apr 2025",
         "20 Apr 2025",
         "Details"
        ],
        [
         "1",
         "TECHNICAL EDUCATION AND SKILLS DEVELOPMENT AUTHORITY",
         "NCR",
         "Senior Technical Education and Skills Development Specialist",
         "TESDAB-SRTESDS-30013-2020",
         "10 Apr 2025",
         "20 Apr 2025",
         "Details"
        ],
        [
         "2",
         "TECHNICAL EDUCATION AND SKILLS DEVELOPMENT AUTHORITY",
         "NCR",
         "Senior Technical Education and Skills Development Specialist",
         "TESDAB-SRTESDS-30016-2020",
         "10 Apr 2025",
         "20 Apr 2025",
         "Details"
        ],
        [
         "3",
         "TECHNICAL EDUCATION AND SKILLS DEVELOPMENT AUTHORITY",
         "NCR",
         "Senior Technical Education and Skills Development Specialist",
         "TESDAB-SRTESDS-30021-2020",
         "10 Apr 2025",
         "20 Apr 2025",
         "Details"
        ],
        [
         "4",
         "TECHNICAL EDUCATION AND SKILLS DEVELOPMENT AUTHORITY",
         "NCR",
         "Administrative Assistant III",
         "TESDAB-ADAS3-63-2017",
         "10 Apr 2025",
         "20 Apr 2025",
         "Details"
        ],
        [
         "5",
         "DEPARTMENT OF EDUCATION",
         "Region III",
         "SPECIAL SCIENCE TEACHER I - SHS",
         "OSEC-DECSB-SPST1-150328-2022",
         "09 Apr 2025",
         "14 Apr 2025",
         "Details"
        ],
        [
         "6",
         "DEPARTMENT OF AGRARIAN REFORM",
         "Region XI",
         "Senior Agrarian Reform Program Officer",
         "SARPO-206-2014",
         "08 Apr 2025",
         "19 Apr 2025",
         "Details"
        ],
        [
         "7",
         "DEPARTMENT OF AGRARIAN REFORM",
         "Region XI",
         "Senior Agrarian Reform Program Officer",
         "SARPO-192-2014",
         "08 Apr 2025",
         "19 Apr 2025",
         "Details"
        ],
        [
         "8",
         "DEPARTMENT OF AGRARIAN REFORM",
         "Region XI",
         "Sheriff III",
         "SHE3-49-2014",
         "08 Apr 2025",
         "19 Apr 2025",
         "Details"
        ],
        [
         "9",
         "DEPARTMENT OF AGRARIAN REFORM",
         "Region XI",
         "Cartographer II",
         "CGR2-6-1998",
         "08 Apr 2025",
         "19 Apr 2025",
         "Details"
        ],
        [
         "10",
         "DEPARTMENT OF AGRARIAN REFORM",
         "Region XI",
         "Agrarian Reform Program Officer II",
         "ARPO2-397-2014",
         "08 Apr 2025",
         "19 Apr 2025",
         "Details"
        ],
        [
         "11",
         "DEPARTMENT OF AGRARIAN REFORM",
         "Region XI",
         "Agrarian Reform Program Officer II",
         "ARPO2-372-2014",
         "08 Apr 2025",
         "19 Apr 2025",
         "Details"
        ],
        [
         "12",
         "DEPARTMENT OF TRADE AND INDUSTRY",
         "NCR",
         "ADMINISTRATIVE OFFICER V",
         "OSEC-DTIB-ADOF5-4-2016",
         "08 Apr 2025",
         "20 Apr 2025",
         "Details"
        ],
        [
         "13",
         "DEPARTMENT OF TRADE AND INDUSTRY",
         "NCR",
         "ADMINISTRATIVE OFFICER IV",
         "OSEC-DTIB-ADOF4-5-2016 OSEC-DTIB-ADOF4-28-2014",
         "08 Apr 2025",
         "20 Apr 2025",
         "Details"
        ],
        [
         "14",
         "DEPARTMENT OF TRADE AND INDUSTRY",
         "NCR",
         "ADMINISTRATIVE OFFICER II",
         "OSEC-DTIB-ADOF2-36-2014",
         "08 Apr 2025",
         "20 Apr 2025",
         "Details"
        ],
        [
         "15",
         "DEPARTMENT OF TRADE AND INDUSTRY",
         "NCR",
         "SUPERVISING TRADE-INDUSTRY DEVELOPMENT SPECIALIST",
         "OSEC-DTIB-SVTIDS-2-2018",
         "08 Apr 2025",
         "20 Apr 2025",
         "Details"
        ],
        [
         "16",
         "DEPARTMENT OF TRADE AND INDUSTRY",
         "NCR",
         "SENIOR TRADE-INDUSTRY DEVELOPMENT SPECIALIST",
         "OSEC-DTIB-SRTIDS-13-2018 OSEC-DTIB-SRTIDS-10-2018",
         "08 Apr 2025",
         "20 Apr 2025",
         "Details"
        ],
        [
         "17",
         "DEPARTMENT OF TRADE AND INDUSTRY",
         "NCR",
         "TRADE-INDUSTRY DEVELOPMENT SPECIALIST",
         "OSEC-DTIB-TRIDS-14-2018",
         "08 Apr 2025",
         "20 Apr 2025",
         "Details"
        ],
        [
         "18",
         "DEPARTMENT OF TRADE AND INDUSTRY",
         "NCR",
         "TRADE-INDUSTRY DEVELOPMENT ANALYST",
         "OSEC-DTIB-TRIDA-8-2018 OSEC-DTIB-TRIDA-9-2018",
         "08 Apr 2025",
         "20 Apr 2025",
         "Details"
        ],
        [
         "19",
         "DEPARTMENT OF PUBLIC WORKS AND HIGHWAYS",
         "Region XI",
         "Administrative Assistant II",
         "OSEC-DPWHB-ADAS2-750043-2012",
         "08 Apr 2025",
         "18 Apr 2025",
         "Details"
        ],
        [
         "20",
         "DEPARTMENT OF PUBLIC WORKS AND HIGHWAYS",
         "Region XI",
         "Engineer II",
         "OSEC-DPWHB-ENG2-750048-2012",
         "08 Apr 2025",
         "18 Apr 2025",
         "Details"
        ],
        [
         "21",
         "MGO DIMASALANG, MASBATE",
         "Region V",
         "Administrative Aide - VI (Draftsman - I (B))",
         "2",
         "08 Apr 2025",
         "23 Apr 2025",
         "Details"
        ],
        [
         "22",
         "MGO ISULAN (CAPITAL), SULTAN KUDARAT",
         "Region XII",
         "Administrative Aide I (Utility Worker I)",
         "304",
         "08 Apr 2025",
         "23 Apr 2025",
         "Details"
        ],
        [
         "23",
         "MGO ISULAN (CAPITAL), SULTAN KUDARAT",
         "Region XII",
         "Administrative Aide IV (Stenographer I)",
         "151",
         "08 Apr 2025",
         "23 Apr 2025",
         "Details"
        ],
        [
         "24",
         "DEPARTMENT OF EDUCATION",
         "Region V",
         "TEACHER III - Senior High School - Academic Strand",
         "TCH3-390715-2016",
         "08 Apr 2025",
         "18 Apr 2025",
         "Details"
        ],
        [
         "25",
         "DEPARTMENT OF EDUCATION",
         "Region V",
         "TEACHER III",
         "TCH3-390361-2012",
         "08 Apr 2025",
         "18 Apr 2025",
         "Details"
        ],
        [
         "26",
         "DEPARTMENT OF EDUCATION",
         "Region V",
         "TEACHER III",
         "TCH3-390456-2008",
         "08 Apr 2025",
         "18 Apr 2025",
         "Details"
        ],
        [
         "27",
         "DEPARTMENT OF EDUCATION",
         "Region V",
         "TEACHER III",
         "TCH3-394077-2022",
         "08 Apr 2025",
         "18 Apr 2025",
         "Details"
        ],
        [
         "28",
         "DEPARTMENT OF EDUCATION",
         "Region V",
         "TEACHER III",
         "TCH3-391034-2022",
         "08 Apr 2025",
         "18 Apr 2025",
         "Details"
        ],
        [
         "29",
         "DEPARTMENT OF EDUCATION",
         "Region V",
         "TEACHER III",
         "TCH3-390313-2013",
         "08 Apr 2025",
         "18 Apr 2025",
         "Details"
        ],
        [
         "30",
         "DEPARTMENT OF EDUCATION",
         "Region V",
         "TEACHER III",
         "TCH3-390170-2010",
         "08 Apr 2025",
         "18 Apr 2025",
         "Details"
        ],
        [
         "31",
         "DEPARTMENT OF EDUCATION",
         "Region V",
         "TEACHER III",
         "TCH3-391011-2019",
         "08 Apr 2025",
         "18 Apr 2025",
         "Details"
        ],
        [
         "32",
         "DEPARTMENT OF EDUCATION",
         "Region V",
         "TEACHER III",
         "TCH3-390305-2013",
         "08 Apr 2025",
         "18 Apr 2025",
         "Details"
        ],
        [
         "33",
         "DEPARTMENT OF EDUCATION",
         "Region V",
         "TEACHER III",
         "TCH3-390606-2014",
         "08 Apr 2025",
         "18 Apr 2025",
         "Details"
        ],
        [
         "34",
         "DEPARTMENT OF THE INTERIOR AND LOCAL GOVERNMENT",
         "NCR",
         "Local Government Operations Officer IV",
         "OSEC-DILGB-LGOO4-136-1998",
         "08 Apr 2025",
         "18 Apr 2025",
         "Details"
        ],
        [
         "35",
         "DEPARTMENT OF EDUCATION",
         "Region V",
         "TEACHER I",
         "TCH1-390225-2021",
         "08 Apr 2025",
         "18 Apr 2025",
         "Details"
        ],
        [
         "36",
         "BUREAU OF INTERNAL REVENUE",
         "NCR",
         "INFORMATION SYSTEM ANALYST II",
         "BIRB-INFOSA2-125-2014",
         "08 Apr 2025",
         "18 Apr 2025",
         "Details"
        ],
        [
         "37",
         "PHILIPPINE CHILDREN S MEDICAL CENTER",
         "NCR",
         "Medical Officer III",
         "396",
         "08 Apr 2025",
         "18 Apr 2025",
         "Details"
        ],
        [
         "38",
         "BUREAU OF INTERNAL REVENUE",
         "NCR",
         "ADMINISTRATIVE ASSISTANT III",
         "BIRB-ADAS3-343-2005",
         "08 Apr 2025",
         "18 Apr 2025",
         "Details"
        ],
        [
         "39",
         "BUREAU OF INTERNAL REVENUE",
         "NCR",
         "REVENUE OFFICER I",
         "BIRB-REVO1-1264-2014",
         "08 Apr 2025",
         "18 Apr 2025",
         "Details"
        ],
        [
         "40",
         "BUREAU OF INTERNAL REVENUE",
         "NCR",
         "REVENUE OFFICER I",
         "BIRB-REVO1-1269-2014",
         "08 Apr 2025",
         "18 Apr 2025",
         "Details"
        ],
        [
         "41",
         "BUREAU OF INTERNAL REVENUE",
         "NCR",
         "REVENUE OFFICER I",
         "BIRB-REVO1-1030-2000",
         "08 Apr 2025",
         "18 Apr 2025",
         "Details"
        ],
        [
         "42",
         "BUREAU OF INTERNAL REVENUE",
         "NCR",
         "REVENUE OFFICER I",
         "BIRB-REVO1-1216-2014",
         "08 Apr 2025",
         "18 Apr 2025",
         "Details"
        ],
        [
         "43",
         "BUREAU OF INTERNAL REVENUE",
         "NCR",
         "REVENUE OFFICER I",
         "BIRB-REVO1-1282-2014",
         "08 Apr 2025",
         "18 Apr 2025",
         "Details"
        ],
        [
         "44",
         "BUREAU OF INTERNAL REVENUE",
         "NCR",
         "REVENUE OFFICER I",
         "BIRB-REVO1-1019-2014",
         "08 Apr 2025",
         "18 Apr 2025",
         "Details"
        ],
        [
         "45",
         "BUREAU OF INTERNAL REVENUE",
         "NCR",
         "REVENUE OFFICER I",
         "BIRB-REVO1-1164-2014",
         "08 Apr 2025",
         "18 Apr 2025",
         "Details"
        ],
        [
         "46",
         "BUREAU OF INTERNAL REVENUE",
         "NCR",
         "REVENUE OFFICER I",
         "BIRB-REVO1-1172-2014",
         "08 Apr 2025",
         "18 Apr 2025",
         "Details"
        ],
        [
         "47",
         "SUPREME COURT OF THE PHILIPPINES",
         "NCR",
         "Clerk of Court II",
         "CKC2-630-1998",
         "08 Apr 2025",
         "18 Apr 2025",
         "Details"
        ],
        [
         "48",
         "BUREAU OF INTERNAL REVENUE",
         "NCR",
         "REVENUE OFFICER I",
         "BIRB-REVO1-1195-2014",
         "08 Apr 2025",
         "18 Apr 2025",
         "Details"
        ],
        [
         "49",
         "SUPREME COURT OF THE PHILIPPINES",
         "NCR",
         "Clerk II",
         "CK2-836-1998",
         "08 Apr 2025",
         "18 Apr 2025",
         "Details"
        ]
       ],
       "shape": {
        "columns": 7,
        "rows": 2600
       }
      },
      "text/html": [
       "<div>\n",
       "<style scoped>\n",
       "    .dataframe tbody tr th:only-of-type {\n",
       "        vertical-align: middle;\n",
       "    }\n",
       "\n",
       "    .dataframe tbody tr th {\n",
       "        vertical-align: top;\n",
       "    }\n",
       "\n",
       "    .dataframe thead th {\n",
       "        text-align: right;\n",
       "    }\n",
       "</style>\n",
       "<table border=\"1\" class=\"dataframe\">\n",
       "  <thead>\n",
       "    <tr style=\"text-align: right;\">\n",
       "      <th></th>\n",
       "      <th>Agency</th>\n",
       "      <th>Region</th>\n",
       "      <th>Position Title</th>\n",
       "      <th>Plantilla Item No.</th>\n",
       "      <th>Posting Date</th>\n",
       "      <th>Closing Date</th>\n",
       "      <th>Action</th>\n",
       "    </tr>\n",
       "  </thead>\n",
       "  <tbody>\n",
       "    <tr>\n",
       "      <th>0</th>\n",
       "      <td>TECHNICAL EDUCATION AND SKILLS DEVELOPMENT AUT...</td>\n",
       "      <td>NCR</td>\n",
       "      <td>Supervising Technical Education and Skills Dev...</td>\n",
       "      <td>TESDAB-SVTESDS-30017-2020</td>\n",
       "      <td>10 Apr 2025</td>\n",
       "      <td>20 Apr 2025</td>\n",
       "      <td>Details</td>\n",
       "    </tr>\n",
       "    <tr>\n",
       "      <th>1</th>\n",
       "      <td>TECHNICAL EDUCATION AND SKILLS DEVELOPMENT AUT...</td>\n",
       "      <td>NCR</td>\n",
       "      <td>Senior Technical Education and Skills Developm...</td>\n",
       "      <td>TESDAB-SRTESDS-30013-2020</td>\n",
       "      <td>10 Apr 2025</td>\n",
       "      <td>20 Apr 2025</td>\n",
       "      <td>Details</td>\n",
       "    </tr>\n",
       "    <tr>\n",
       "      <th>2</th>\n",
       "      <td>TECHNICAL EDUCATION AND SKILLS DEVELOPMENT AUT...</td>\n",
       "      <td>NCR</td>\n",
       "      <td>Senior Technical Education and Skills Developm...</td>\n",
       "      <td>TESDAB-SRTESDS-30016-2020</td>\n",
       "      <td>10 Apr 2025</td>\n",
       "      <td>20 Apr 2025</td>\n",
       "      <td>Details</td>\n",
       "    </tr>\n",
       "    <tr>\n",
       "      <th>3</th>\n",
       "      <td>TECHNICAL EDUCATION AND SKILLS DEVELOPMENT AUT...</td>\n",
       "      <td>NCR</td>\n",
       "      <td>Senior Technical Education and Skills Developm...</td>\n",
       "      <td>TESDAB-SRTESDS-30021-2020</td>\n",
       "      <td>10 Apr 2025</td>\n",
       "      <td>20 Apr 2025</td>\n",
       "      <td>Details</td>\n",
       "    </tr>\n",
       "    <tr>\n",
       "      <th>4</th>\n",
       "      <td>TECHNICAL EDUCATION AND SKILLS DEVELOPMENT AUT...</td>\n",
       "      <td>NCR</td>\n",
       "      <td>Administrative Assistant III</td>\n",
       "      <td>TESDAB-ADAS3-63-2017</td>\n",
       "      <td>10 Apr 2025</td>\n",
       "      <td>20 Apr 2025</td>\n",
       "      <td>Details</td>\n",
       "    </tr>\n",
       "    <tr>\n",
       "      <th>...</th>\n",
       "      <td>...</td>\n",
       "      <td>...</td>\n",
       "      <td>...</td>\n",
       "      <td>...</td>\n",
       "      <td>...</td>\n",
       "      <td>...</td>\n",
       "      <td>...</td>\n",
       "    </tr>\n",
       "    <tr>\n",
       "      <th>2595</th>\n",
       "      <td>DEPARTMENT OF EDUCATION</td>\n",
       "      <td>Region VII</td>\n",
       "      <td>TEACHER II-ELEM</td>\n",
       "      <td>TCH2-520608-1998</td>\n",
       "      <td>03 Apr 2025</td>\n",
       "      <td>13 Apr 2025</td>\n",
       "      <td>Details</td>\n",
       "    </tr>\n",
       "    <tr>\n",
       "      <th>2596</th>\n",
       "      <td>DEPARTMENT OF EDUCATION</td>\n",
       "      <td>Region VII</td>\n",
       "      <td>TEACHER II-ELEM</td>\n",
       "      <td>TCH2-520659-1998</td>\n",
       "      <td>03 Apr 2025</td>\n",
       "      <td>13 Apr 2025</td>\n",
       "      <td>Details</td>\n",
       "    </tr>\n",
       "    <tr>\n",
       "      <th>2597</th>\n",
       "      <td>DEPARTMENT OF EDUCATION</td>\n",
       "      <td>Region VII</td>\n",
       "      <td>TEACHER II-ELEM</td>\n",
       "      <td>TCH2-520844-1998</td>\n",
       "      <td>03 Apr 2025</td>\n",
       "      <td>13 Apr 2025</td>\n",
       "      <td>Details</td>\n",
       "    </tr>\n",
       "    <tr>\n",
       "      <th>2598</th>\n",
       "      <td>DEPARTMENT OF EDUCATION</td>\n",
       "      <td>Region VII</td>\n",
       "      <td>TEACHER II-ELEM</td>\n",
       "      <td>TCH2-520871-1998</td>\n",
       "      <td>03 Apr 2025</td>\n",
       "      <td>13 Apr 2025</td>\n",
       "      <td>Details</td>\n",
       "    </tr>\n",
       "    <tr>\n",
       "      <th>2599</th>\n",
       "      <td>DEPARTMENT OF EDUCATION</td>\n",
       "      <td>Region VII</td>\n",
       "      <td>TEACHER II-ELEM</td>\n",
       "      <td>TCH2-520977-1998</td>\n",
       "      <td>03 Apr 2025</td>\n",
       "      <td>13 Apr 2025</td>\n",
       "      <td>Details</td>\n",
       "    </tr>\n",
       "  </tbody>\n",
       "</table>\n",
       "<p>2600 rows × 7 columns</p>\n",
       "</div>"
      ],
      "text/plain": [
       "                                                 Agency      Region  \\\n",
       "0     TECHNICAL EDUCATION AND SKILLS DEVELOPMENT AUT...         NCR   \n",
       "1     TECHNICAL EDUCATION AND SKILLS DEVELOPMENT AUT...         NCR   \n",
       "2     TECHNICAL EDUCATION AND SKILLS DEVELOPMENT AUT...         NCR   \n",
       "3     TECHNICAL EDUCATION AND SKILLS DEVELOPMENT AUT...         NCR   \n",
       "4     TECHNICAL EDUCATION AND SKILLS DEVELOPMENT AUT...         NCR   \n",
       "...                                                 ...         ...   \n",
       "2595                            DEPARTMENT OF EDUCATION  Region VII   \n",
       "2596                            DEPARTMENT OF EDUCATION  Region VII   \n",
       "2597                            DEPARTMENT OF EDUCATION  Region VII   \n",
       "2598                            DEPARTMENT OF EDUCATION  Region VII   \n",
       "2599                            DEPARTMENT OF EDUCATION  Region VII   \n",
       "\n",
       "                                         Position Title  \\\n",
       "0     Supervising Technical Education and Skills Dev...   \n",
       "1     Senior Technical Education and Skills Developm...   \n",
       "2     Senior Technical Education and Skills Developm...   \n",
       "3     Senior Technical Education and Skills Developm...   \n",
       "4                          Administrative Assistant III   \n",
       "...                                                 ...   \n",
       "2595                                    TEACHER II-ELEM   \n",
       "2596                                    TEACHER II-ELEM   \n",
       "2597                                    TEACHER II-ELEM   \n",
       "2598                                    TEACHER II-ELEM   \n",
       "2599                                    TEACHER II-ELEM   \n",
       "\n",
       "             Plantilla Item No. Posting Date Closing Date   Action  \n",
       "0     TESDAB-SVTESDS-30017-2020  10 Apr 2025  20 Apr 2025  Details  \n",
       "1     TESDAB-SRTESDS-30013-2020  10 Apr 2025  20 Apr 2025  Details  \n",
       "2     TESDAB-SRTESDS-30016-2020  10 Apr 2025  20 Apr 2025  Details  \n",
       "3     TESDAB-SRTESDS-30021-2020  10 Apr 2025  20 Apr 2025  Details  \n",
       "4          TESDAB-ADAS3-63-2017  10 Apr 2025  20 Apr 2025  Details  \n",
       "...                         ...          ...          ...      ...  \n",
       "2595           TCH2-520608-1998  03 Apr 2025  13 Apr 2025  Details  \n",
       "2596           TCH2-520659-1998  03 Apr 2025  13 Apr 2025  Details  \n",
       "2597           TCH2-520844-1998  03 Apr 2025  13 Apr 2025  Details  \n",
       "2598           TCH2-520871-1998  03 Apr 2025  13 Apr 2025  Details  \n",
       "2599           TCH2-520977-1998  03 Apr 2025  13 Apr 2025  Details  \n",
       "\n",
       "[2600 rows x 7 columns]"
      ]
     },
     "execution_count": 7,
     "metadata": {},
     "output_type": "execute_result"
    }
   ],
   "source": [
    "db.sql(\"SELECT * FROM civilservicecommission\").df()"
   ]
  },
  {
   "cell_type": "code",
   "execution_count": 6,
   "id": "7473ad7f",
   "metadata": {},
   "outputs": [],
   "source": [
    "# Random sleep timer, using a skewed distribution\n",
    "import time\n",
    "\n",
    "import matplotlib.pyplot as plt\n",
    "import seaborn as sns\n",
    "import numpy as np\n",
    "\n",
    "from ml_final_project.config import MPL_STYLE_DIR\n",
    "\n",
    "plt.style.use(MPL_STYLE_DIR / \"iragca_cmr10.mplstyle\")"
   ]
  },
  {
   "cell_type": "code",
   "execution_count": 43,
   "id": "822d33f2",
   "metadata": {},
   "outputs": [
    {
     "data": {
      "text/plain": [
       "<Axes: ylabel='Count'>"
      ]
     },
     "execution_count": 43,
     "metadata": {},
     "output_type": "execute_result"
    },
    {
     "data": {
      "image/png": "[encoded data removed]",
      "text/plain": [
       "<Figure size 400x250 with 1 Axes>"
      ]
     },
     "metadata": {},
     "output_type": "display_data"
    }
   ],
   "source": [
    "low = 15\n",
    "high = 15\n",
    "size = 15000\n",
    "random_numbers = np.random.standard_gamma(low, size)\n",
    "sns.histplot(random_numbers, bins=100, kde=True)"
   ]
  },
  {
   "cell_type": "code",
   "execution_count": 44,
   "id": "a50f6d39",
   "metadata": {},
   "outputs": [
    {
     "data": {
      "text/plain": [
       "np.float64(10.083074919953589)"
      ]
     },
     "execution_count": 44,
     "metadata": {},
     "output_type": "execute_result"
    }
   ],
   "source": [
    "np.random.choice(random_numbers)"
   ]
  },
  {
   "cell_type": "markdown",
   "id": "08dc500a",
   "metadata": {},
   "source": [
    "Details column in the table is a button with text value \"Details\". However, the information we want is the id, which is a dynamically named attribute of the button id=\"info_{jobId}\", we want to get this jobId value, so that we can get the associating job request PDF at https://csc.gov.ph/career/job/{jobId}"
   ]
  }
 ],
 "metadata": {
  "kernelspec": {
   "display_name": ".venv",
   "language": "python",
   "name": "python3"
  },
  "language_info": {
   "codemirror_mode": {
    "name": "ipython",
    "version": 3
   },
   "file_extension": ".py",
   "mimetype": "text/x-python",
   "name": "python",
   "nbconvert_exporter": "python",
   "pygments_lexer": "ipython3",
   "version": "3.12.9"
  }
 },
 "nbformat": 4,
 "nbformat_minor": 5
}
