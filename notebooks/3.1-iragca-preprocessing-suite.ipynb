{
 "cells": [
  {
   "cell_type": "code",
   "execution_count": 1,
   "id": "07c993d1",
   "metadata": {},
   "outputs": [
    {
     "name": "stderr",
     "output_type": "stream",
     "text": [
      "\u001b[32m2025-05-10 08:10:10.682\u001b[0m | \u001b[1mINFO    \u001b[0m | \u001b[36mml_final_project.config\u001b[0m:\u001b[36m<module>\u001b[0m:\u001b[36m11\u001b[0m - \u001b[1mPROJ_ROOT path is: D:\\Documents\\3 Production Save Files\\1 Cloned repositories\\ml-final-project\u001b[0m\n"
     ]
    }
   ],
   "source": [
    "import matplotlib.pyplot as plt\n",
    "import polars as pl\n",
    "import seaborn as sns\n",
    "import re\n",
    "\n",
    "from ml_final_project.config import MPL_STYLE_DIR, PROCESSED_DATA_DIR\n",
    "\n",
    "# Use opinionated custom style for plots\n",
    "plt.style.use(MPL_STYLE_DIR / \"iragca_ml.mplstyle\")"
   ]
  },
  {
   "cell_type": "code",
   "execution_count": 2,
   "id": "4b0e6cd4",
   "metadata": {},
   "outputs": [
    {
     "data": {
      "text/html": [
       "<div><style>\n",
       ".dataframe > thead > tr,\n",
       ".dataframe > tbody > tr {\n",
       "  text-align: right;\n",
       "  white-space: pre-wrap;\n",
       "}\n",
       "</style>\n",
       "<small>shape: (110_244, 15)</small><table border=\"1\" class=\"dataframe\"><thead><tr><th>jobId</th><th>Agency</th><th>Region</th><th>PlaceOfAssignment</th><th>Posting Date</th><th>Closing Date</th><th>Position Title</th><th>SalaryGrade</th><th>MonthlySalary</th><th>Eligibility</th><th>Education</th><th>Training</th><th>Experience</th><th>Competency</th><th>Plantilla Item No.</th></tr><tr><td>i32</td><td>str</td><td>str</td><td>str</td><td>date</td><td>date</td><td>str</td><td>str</td><td>i32</td><td>str</td><td>str</td><td>str</td><td>str</td><td>str</td><td>str</td></tr></thead><tbody><tr><td>4235342</td><td>&quot;BICOL MEDICAL CENTER&quot;</td><td>&quot;Region V&quot;</td><td>&quot;Division Office, Division of A…</td><td>2024-12-06</td><td>2024-12-16</td><td>&quot;NURSE III&quot;</td><td>&quot;14&quot;</td><td>33843</td><td>&quot;PBET/LET/RA1080 Teacher&quot;</td><td>&quot;Bachelor&#x27;s degree in&quot;</td><td>&quot;None Required&quot;</td><td>&quot;None Required&quot;</td><td>&quot;N/A&quot;</td><td>&quot;OSEC-DOHB-NURS3-390074-2015&quot;</td></tr><tr><td>4267059</td><td>&quot;COTABATO REGIONAL AND MEDICAL …</td><td>&quot;Region XII&quot;</td><td>&quot;PETDU-CRMC Cotabato City&quot;</td><td>2025-01-08</td><td>2025-01-18</td><td>&quot;Training Specialist II&quot;</td><td>&quot;15&quot;</td><td>38413</td><td>&quot;Career Service Professional/Se…</td><td>&quot;Bachelor&#x27;S Degree&quot;</td><td>&quot;Specialist II&quot;</td><td>&quot;1 Year Of Relevant&quot;</td><td>&quot;&quot;</td><td>&quot;OSEC-DOHB-TRNSP2-840012-2024&quot;</td></tr><tr><td>4325512</td><td>&quot;DEPARTMENT OF EDUCATION&quot;</td><td>&quot;Region XII&quot;</td><td>&quot;ELEMENTARY- SDO SULTAN KUDARAT&quot;</td><td>2025-02-07</td><td>2025-02-17</td><td>&quot;Head Teacher IV&quot;</td><td>&quot;17&quot;</td><td>47247</td><td>&quot;RA 1080, as amended (Teacher)&quot;</td><td>&quot;Bachelor&#x27;s degree in Elementar…</td><td>&quot;24 hours of relevant training&quot;</td><td>&quot;HT for 3 years; or MT for 2 ye…</td><td>&quot;&quot;</td><td>&quot;OSEC-DECSB-HTEACH4-840037-2021&quot;</td></tr><tr><td>4347023</td><td>&quot;MANILA, NCR&quot;</td><td>&quot;NCR&quot;</td><td>&quot;ELEMENTARY SCHOOLS&quot;</td><td>2025-02-19</td><td>2025-03-03</td><td>&quot;TEACHER III&quot;</td><td>&quot;13&quot;</td><td>34421</td><td>&quot;RA 1080 (TEACHER)&quot;</td><td>&quot;BEED or Bachelor&#x27;s Degree plus…</td><td>&quot;None Required&quot;</td><td>&quot;2 years of relevant experience&quot;</td><td>&quot;Not Applicable&quot;</td><td>&quot;OSEC-DECSB-TCH3-33077-1998&quot;</td></tr><tr><td>4318456</td><td>&quot;DEPARTMENT OF EDUCATION&quot;</td><td>&quot;Region XI&quot;</td><td>&quot;Sta. Cruz National High School&quot;</td><td>2025-02-04</td><td>2025-02-14</td><td>&quot;MASTER TEACHER I (Secondary Gr…</td><td>&quot;18&quot;</td><td>51304</td><td>&quot;PBET/Teacher/RA 1080&quot;</td><td>&quot;Bachelor of Secondary&quot;</td><td>&quot;None Required&quot;</td><td>&quot;3 Years Relevant&quot;</td><td>&quot;N/A&quot;</td><td>&quot;OSEC-DECSB-MTCHR1-750206-2021&quot;</td></tr><tr><td>&hellip;</td><td>&hellip;</td><td>&hellip;</td><td>&hellip;</td><td>&hellip;</td><td>&hellip;</td><td>&hellip;</td><td>&hellip;</td><td>&hellip;</td><td>&hellip;</td><td>&hellip;</td><td>&hellip;</td><td>&hellip;</td><td>&hellip;</td><td>&hellip;</td></tr><tr><td>4247090</td><td>&quot;DEPARTMENT OF EDUCATION&quot;</td><td>&quot;Region IV&quot;</td><td>&quot;Schools Division of Lipa City …</td><td>2024-12-17</td><td>2024-12-27</td><td>&quot;Teacher II&quot;</td><td>&quot;12&quot;</td><td>30705</td><td>&quot;RA 1080, Teacher&quot;</td><td>&quot;Bachelor of Secondary&quot;</td><td>&quot;None Required&quot;</td><td>&quot;1 year of relevant experience&quot;</td><td>&quot;N/A&quot;</td><td>&quot;OSEC-DECSB-TCH2-240048-2001&quot;</td></tr><tr><td>4319185</td><td>&quot;BUREAU OF CORRECTIONS&quot;</td><td>&quot;NCR&quot;</td><td>&quot;Bureau of Corrections&quot;</td><td>2025-01-14</td><td>2025-01-24</td><td>&quot;Corrections Officer I&quot;</td><td>&quot;11&quot;</td><td>29668</td><td>&quot;RA 1080/ CS Professional/ CSC …</td><td>&quot;Bachelor&#x27;s Degree&quot;</td><td>&quot;None required&quot;</td><td>&quot;None required&quot;</td><td>&quot;N/A&quot;</td><td>&quot;BCORB-CO1-890-2024&quot;</td></tr><tr><td>4365994</td><td>&quot;DEPARTMENT OF EDUCATION&quot;</td><td>&quot;Region V&quot;</td><td>&quot;Elementary&quot;</td><td>2025-02-24</td><td>2025-03-07</td><td>&quot;Teacher III&quot;</td><td>&quot;13&quot;</td><td>34421</td><td>&quot;RA 1080 (Teacher)&quot;</td><td>&quot;Bachelor of Elementary&quot;</td><td>&quot;None Required&quot;</td><td>&quot;2 years relevant experience&quot;</td><td>&quot;N/A&quot;</td><td>&quot;OSEC-DECSB-TCH3-391749-2020&quot;</td></tr><tr><td>4286569</td><td>&quot;DEPARTMENT OF INFORMATION AND …</td><td>&quot;NCR&quot;</td><td>&quot;Regional Office V - Technical …</td><td>2025-01-15</td><td>2025-01-25</td><td>&quot;Information Technology Officer…</td><td>&quot;19&quot;</td><td>53873</td><td>&quot;Career Service (Professional) …</td><td>&quot;Bachelor&#x27;s degree relevant to …</td><td>&quot;8 hours of relevant training&quot;</td><td>&quot;2 years of relevant experience&quot;</td><td>&quot;&quot;</td><td>&quot;OSEC-DICTB-ITO1-39-2021&quot;</td></tr><tr><td>4340306</td><td>&quot;MGO LA TRINIDAD (CAPITAL), BEN…</td><td>&quot;CAR&quot;</td><td>&quot;Municipal Accounting Office&quot;</td><td>2025-02-17</td><td>2025-03-04</td><td>&quot;Administrative Assistant II (B…</td><td>&quot;8&quot;</td><td>20534</td><td>&quot;Career Service Subrofessional/…</td><td>&quot;Completion of two (2) years st…</td><td>&quot;Four (4) hours relevant traini…</td><td>&quot;One (1) year relevant experien…</td><td>&quot;&quot;</td><td>&quot;180&quot;</td></tr></tbody></table></div>"
      ],
      "text/plain": [
       "shape: (110_244, 15)\n",
       "┌─────────┬────────────┬───────────┬───────────┬───┬───────────┬───────────┬───────────┬───────────┐\n",
       "│ jobId   ┆ Agency     ┆ Region    ┆ PlaceOfAs ┆ … ┆ Training  ┆ Experienc ┆ Competenc ┆ Plantilla │\n",
       "│ ---     ┆ ---        ┆ ---       ┆ signment  ┆   ┆ ---       ┆ e         ┆ y         ┆ Item No.  │\n",
       "│ i32     ┆ str        ┆ str       ┆ ---       ┆   ┆ str       ┆ ---       ┆ ---       ┆ ---       │\n",
       "│         ┆            ┆           ┆ str       ┆   ┆           ┆ str       ┆ str       ┆ str       │\n",
       "╞═════════╪════════════╪═══════════╪═══════════╪═══╪═══════════╪═══════════╪═══════════╪═══════════╡\n",
       "│ 4235342 ┆ BICOL      ┆ Region V  ┆ Division  ┆ … ┆ None      ┆ None      ┆ N/A       ┆ OSEC-DOHB │\n",
       "│         ┆ MEDICAL    ┆           ┆ Office,   ┆   ┆ Required  ┆ Required  ┆           ┆ -NURS3-39 │\n",
       "│         ┆ CENTER     ┆           ┆ Division  ┆   ┆           ┆           ┆           ┆ 0074-2015 │\n",
       "│         ┆            ┆           ┆ of A…     ┆   ┆           ┆           ┆           ┆           │\n",
       "│ 4267059 ┆ COTABATO   ┆ Region    ┆ PETDU-CRM ┆ … ┆ Specialis ┆ 1 Year Of ┆           ┆ OSEC-DOHB │\n",
       "│         ┆ REGIONAL   ┆ XII       ┆ C         ┆   ┆ t II      ┆ Relevant  ┆           ┆ -TRNSP2-8 │\n",
       "│         ┆ AND        ┆           ┆ Cotabato  ┆   ┆           ┆           ┆           ┆ 40012-202 │\n",
       "│         ┆ MEDICAL …  ┆           ┆ City      ┆   ┆           ┆           ┆           ┆ 4         │\n",
       "│ 4325512 ┆ DEPARTMENT ┆ Region    ┆ ELEMENTAR ┆ … ┆ 24 hours  ┆ HT for 3  ┆           ┆ OSEC-DECS │\n",
       "│         ┆ OF         ┆ XII       ┆ Y- SDO    ┆   ┆ of        ┆ years; or ┆           ┆ B-HTEACH4 │\n",
       "│         ┆ EDUCATION  ┆           ┆ SULTAN    ┆   ┆ relevant  ┆ MT for 2  ┆           ┆ -840037-2 │\n",
       "│         ┆            ┆           ┆ KUDARAT   ┆   ┆ training  ┆ ye…       ┆           ┆ 021       │\n",
       "│ 4347023 ┆ MANILA,    ┆ NCR       ┆ ELEMENTAR ┆ … ┆ None      ┆ 2 years   ┆ Not Appli ┆ OSEC-DECS │\n",
       "│         ┆ NCR        ┆           ┆ Y SCHOOLS ┆   ┆ Required  ┆ of        ┆ cable     ┆ B-TCH3-33 │\n",
       "│         ┆            ┆           ┆           ┆   ┆           ┆ relevant  ┆           ┆ 077-1998  │\n",
       "│         ┆            ┆           ┆           ┆   ┆           ┆ experienc ┆           ┆           │\n",
       "│         ┆            ┆           ┆           ┆   ┆           ┆ e         ┆           ┆           │\n",
       "│ 4318456 ┆ DEPARTMENT ┆ Region XI ┆ Sta. Cruz ┆ … ┆ None      ┆ 3 Years   ┆ N/A       ┆ OSEC-DECS │\n",
       "│         ┆ OF         ┆           ┆ National  ┆   ┆ Required  ┆ Relevant  ┆           ┆ B-MTCHR1- │\n",
       "│         ┆ EDUCATION  ┆           ┆ High      ┆   ┆           ┆           ┆           ┆ 750206-20 │\n",
       "│         ┆            ┆           ┆ School    ┆   ┆           ┆           ┆           ┆ 21        │\n",
       "│ …       ┆ …          ┆ …         ┆ …         ┆ … ┆ …         ┆ …         ┆ …         ┆ …         │\n",
       "│ 4247090 ┆ DEPARTMENT ┆ Region IV ┆ Schools   ┆ … ┆ None      ┆ 1 year of ┆ N/A       ┆ OSEC-DECS │\n",
       "│         ┆ OF         ┆           ┆ Division  ┆   ┆ Required  ┆ relevant  ┆           ┆ B-TCH2-24 │\n",
       "│         ┆ EDUCATION  ┆           ┆ of Lipa   ┆   ┆           ┆ experienc ┆           ┆ 0048-2001 │\n",
       "│         ┆            ┆           ┆ City …    ┆   ┆           ┆ e         ┆           ┆           │\n",
       "│ 4319185 ┆ BUREAU OF  ┆ NCR       ┆ Bureau of ┆ … ┆ None      ┆ None      ┆ N/A       ┆ BCORB-CO1 │\n",
       "│         ┆ CORRECTION ┆           ┆ Correctio ┆   ┆ required  ┆ required  ┆           ┆ -890-2024 │\n",
       "│         ┆ S          ┆           ┆ ns        ┆   ┆           ┆           ┆           ┆           │\n",
       "│ 4365994 ┆ DEPARTMENT ┆ Region V  ┆ Elementar ┆ … ┆ None      ┆ 2 years   ┆ N/A       ┆ OSEC-DECS │\n",
       "│         ┆ OF         ┆           ┆ y         ┆   ┆ Required  ┆ relevant  ┆           ┆ B-TCH3-39 │\n",
       "│         ┆ EDUCATION  ┆           ┆           ┆   ┆           ┆ experienc ┆           ┆ 1749-2020 │\n",
       "│         ┆            ┆           ┆           ┆   ┆           ┆ e         ┆           ┆           │\n",
       "│ 4286569 ┆ DEPARTMENT ┆ NCR       ┆ Regional  ┆ … ┆ 8 hours   ┆ 2 years   ┆           ┆ OSEC-DICT │\n",
       "│         ┆ OF INFORMA ┆           ┆ Office V  ┆   ┆ of        ┆ of        ┆           ┆ B-ITO1-39 │\n",
       "│         ┆ TION AND … ┆           ┆ -         ┆   ┆ relevant  ┆ relevant  ┆           ┆ -2021     │\n",
       "│         ┆            ┆           ┆ Technical ┆   ┆ training  ┆ experienc ┆           ┆           │\n",
       "│         ┆            ┆           ┆ …         ┆   ┆           ┆ e         ┆           ┆           │\n",
       "│ 4340306 ┆ MGO LA     ┆ CAR       ┆ Municipal ┆ … ┆ Four (4)  ┆ One (1)   ┆           ┆ 180       │\n",
       "│         ┆ TRINIDAD   ┆           ┆ Accountin ┆   ┆ hours     ┆ year      ┆           ┆           │\n",
       "│         ┆ (CAPITAL), ┆           ┆ g Office  ┆   ┆ relevant  ┆ relevant  ┆           ┆           │\n",
       "│         ┆ BEN…       ┆           ┆           ┆   ┆ traini…   ┆ experien… ┆           ┆           │\n",
       "└─────────┴────────────┴───────────┴───────────┴───┴───────────┴───────────┴───────────┴───────────┘"
      ]
     },
     "execution_count": 2,
     "metadata": {},
     "output_type": "execute_result"
    }
   ],
   "source": [
    "dataPath = PROCESSED_DATA_DIR / \"CivilServiceCommission\" / \"civilservicecommission.parquet\"\n",
    "df = pl.read_parquet(dataPath)\n",
    "df"
   ]
  },
  {
   "cell_type": "code",
   "execution_count": 8,
   "id": "97cd52d9",
   "metadata": {},
   "outputs": [
    {
     "data": {
      "text/html": [
       "<div><style>\n",
       ".dataframe > thead > tr,\n",
       ".dataframe > tbody > tr {\n",
       "  text-align: right;\n",
       "  white-space: pre-wrap;\n",
       "}\n",
       "</style>\n",
       "<small>shape: (98_368, 15)</small><table border=\"1\" class=\"dataframe\"><thead><tr><th>jobId</th><th>Agency</th><th>Region</th><th>PlaceOfAssignment</th><th>Posting Date</th><th>Closing Date</th><th>Position Title</th><th>SalaryGrade</th><th>MonthlySalary</th><th>Eligibility</th><th>Education</th><th>Training</th><th>Experience</th><th>Competency</th><th>Plantilla Item No.</th></tr><tr><td>i32</td><td>str</td><td>str</td><td>str</td><td>date</td><td>date</td><td>str</td><td>str</td><td>i32</td><td>str</td><td>str</td><td>str</td><td>str</td><td>str</td><td>str</td></tr></thead><tbody><tr><td>4235342</td><td>&quot;BICOL MEDICAL CENTER&quot;</td><td>&quot;Region V&quot;</td><td>&quot;Division Office, Division of A…</td><td>2024-12-06</td><td>2024-12-16</td><td>&quot;NURSE III&quot;</td><td>&quot;14&quot;</td><td>33843</td><td>&quot;PBET/LET/RA1080 Teacher&quot;</td><td>&quot;Bachelor&#x27;s degree in&quot;</td><td>&quot;None Required&quot;</td><td>&quot;None Required&quot;</td><td>&quot;N/A&quot;</td><td>&quot;OSEC-DOHB-NURS3-390074-2015&quot;</td></tr><tr><td>4267059</td><td>&quot;COTABATO REGIONAL AND MEDICAL …</td><td>&quot;Region XII&quot;</td><td>&quot;PETDU-CRMC Cotabato City&quot;</td><td>2025-01-08</td><td>2025-01-18</td><td>&quot;Training Specialist II&quot;</td><td>&quot;15&quot;</td><td>38413</td><td>&quot;Career Service Professional/Se…</td><td>&quot;Bachelor&#x27;S Degree&quot;</td><td>&quot;Specialist II&quot;</td><td>&quot;1 Year Of Relevant&quot;</td><td>&quot;&quot;</td><td>&quot;OSEC-DOHB-TRNSP2-840012-2024&quot;</td></tr><tr><td>4325512</td><td>&quot;DEPARTMENT OF EDUCATION&quot;</td><td>&quot;Region XII&quot;</td><td>&quot;ELEMENTARY- SDO SULTAN KUDARAT&quot;</td><td>2025-02-07</td><td>2025-02-17</td><td>&quot;Head Teacher IV&quot;</td><td>&quot;17&quot;</td><td>47247</td><td>&quot;RA 1080, as amended (Teacher)&quot;</td><td>&quot;Bachelor&#x27;s degree in Elementar…</td><td>&quot;24 hours of relevant training&quot;</td><td>&quot;HT for 3 years; or MT for 2 ye…</td><td>&quot;&quot;</td><td>&quot;OSEC-DECSB-HTEACH4-840037-2021&quot;</td></tr><tr><td>4347023</td><td>&quot;MANILA, NCR&quot;</td><td>&quot;NCR&quot;</td><td>&quot;ELEMENTARY SCHOOLS&quot;</td><td>2025-02-19</td><td>2025-03-03</td><td>&quot;TEACHER III&quot;</td><td>&quot;13&quot;</td><td>34421</td><td>&quot;RA 1080 (TEACHER)&quot;</td><td>&quot;BEED or Bachelor&#x27;s Degree plus…</td><td>&quot;None Required&quot;</td><td>&quot;2 years of relevant experience&quot;</td><td>&quot;Not Applicable&quot;</td><td>&quot;OSEC-DECSB-TCH3-33077-1998&quot;</td></tr><tr><td>4318456</td><td>&quot;DEPARTMENT OF EDUCATION&quot;</td><td>&quot;Region XI&quot;</td><td>&quot;Sta. Cruz National High School&quot;</td><td>2025-02-04</td><td>2025-02-14</td><td>&quot;MASTER TEACHER I (Secondary Gr…</td><td>&quot;18&quot;</td><td>51304</td><td>&quot;PBET/Teacher/RA 1080&quot;</td><td>&quot;Bachelor of Secondary&quot;</td><td>&quot;None Required&quot;</td><td>&quot;3 Years Relevant&quot;</td><td>&quot;N/A&quot;</td><td>&quot;OSEC-DECSB-MTCHR1-750206-2021&quot;</td></tr><tr><td>&hellip;</td><td>&hellip;</td><td>&hellip;</td><td>&hellip;</td><td>&hellip;</td><td>&hellip;</td><td>&hellip;</td><td>&hellip;</td><td>&hellip;</td><td>&hellip;</td><td>&hellip;</td><td>&hellip;</td><td>&hellip;</td><td>&hellip;</td><td>&hellip;</td></tr><tr><td>4247090</td><td>&quot;DEPARTMENT OF EDUCATION&quot;</td><td>&quot;Region IV&quot;</td><td>&quot;Schools Division of Lipa City …</td><td>2024-12-17</td><td>2024-12-27</td><td>&quot;Teacher II&quot;</td><td>&quot;12&quot;</td><td>30705</td><td>&quot;RA 1080, Teacher&quot;</td><td>&quot;Bachelor of Secondary&quot;</td><td>&quot;None Required&quot;</td><td>&quot;1 year of relevant experience&quot;</td><td>&quot;N/A&quot;</td><td>&quot;OSEC-DECSB-TCH2-240048-2001&quot;</td></tr><tr><td>4319185</td><td>&quot;BUREAU OF CORRECTIONS&quot;</td><td>&quot;NCR&quot;</td><td>&quot;Bureau of Corrections&quot;</td><td>2025-01-14</td><td>2025-01-24</td><td>&quot;Corrections Officer I&quot;</td><td>&quot;11&quot;</td><td>29668</td><td>&quot;RA 1080/ CS Professional/ CSC …</td><td>&quot;Bachelor&#x27;s Degree&quot;</td><td>&quot;None required&quot;</td><td>&quot;None required&quot;</td><td>&quot;N/A&quot;</td><td>&quot;BCORB-CO1-890-2024&quot;</td></tr><tr><td>4365994</td><td>&quot;DEPARTMENT OF EDUCATION&quot;</td><td>&quot;Region V&quot;</td><td>&quot;Elementary&quot;</td><td>2025-02-24</td><td>2025-03-07</td><td>&quot;Teacher III&quot;</td><td>&quot;13&quot;</td><td>34421</td><td>&quot;RA 1080 (Teacher)&quot;</td><td>&quot;Bachelor of Elementary&quot;</td><td>&quot;None Required&quot;</td><td>&quot;2 years relevant experience&quot;</td><td>&quot;N/A&quot;</td><td>&quot;OSEC-DECSB-TCH3-391749-2020&quot;</td></tr><tr><td>4286569</td><td>&quot;DEPARTMENT OF INFORMATION AND …</td><td>&quot;NCR&quot;</td><td>&quot;Regional Office V - Technical …</td><td>2025-01-15</td><td>2025-01-25</td><td>&quot;Information Technology Officer…</td><td>&quot;19&quot;</td><td>53873</td><td>&quot;Career Service (Professional) …</td><td>&quot;Bachelor&#x27;s degree relevant to …</td><td>&quot;8 hours of relevant training&quot;</td><td>&quot;2 years of relevant experience&quot;</td><td>&quot;&quot;</td><td>&quot;OSEC-DICTB-ITO1-39-2021&quot;</td></tr><tr><td>4340306</td><td>&quot;MGO LA TRINIDAD (CAPITAL), BEN…</td><td>&quot;CAR&quot;</td><td>&quot;Municipal Accounting Office&quot;</td><td>2025-02-17</td><td>2025-03-04</td><td>&quot;Administrative Assistant II (B…</td><td>&quot;8&quot;</td><td>20534</td><td>&quot;Career Service Subrofessional/…</td><td>&quot;Completion of two (2) years st…</td><td>&quot;Four (4) hours relevant traini…</td><td>&quot;One (1) year relevant experien…</td><td>&quot;&quot;</td><td>&quot;180&quot;</td></tr></tbody></table></div>"
      ],
      "text/plain": [
       "shape: (98_368, 15)\n",
       "┌─────────┬────────────┬───────────┬───────────┬───┬───────────┬───────────┬───────────┬───────────┐\n",
       "│ jobId   ┆ Agency     ┆ Region    ┆ PlaceOfAs ┆ … ┆ Training  ┆ Experienc ┆ Competenc ┆ Plantilla │\n",
       "│ ---     ┆ ---        ┆ ---       ┆ signment  ┆   ┆ ---       ┆ e         ┆ y         ┆ Item No.  │\n",
       "│ i32     ┆ str        ┆ str       ┆ ---       ┆   ┆ str       ┆ ---       ┆ ---       ┆ ---       │\n",
       "│         ┆            ┆           ┆ str       ┆   ┆           ┆ str       ┆ str       ┆ str       │\n",
       "╞═════════╪════════════╪═══════════╪═══════════╪═══╪═══════════╪═══════════╪═══════════╪═══════════╡\n",
       "│ 4235342 ┆ BICOL      ┆ Region V  ┆ Division  ┆ … ┆ None      ┆ None      ┆ N/A       ┆ OSEC-DOHB │\n",
       "│         ┆ MEDICAL    ┆           ┆ Office,   ┆   ┆ Required  ┆ Required  ┆           ┆ -NURS3-39 │\n",
       "│         ┆ CENTER     ┆           ┆ Division  ┆   ┆           ┆           ┆           ┆ 0074-2015 │\n",
       "│         ┆            ┆           ┆ of A…     ┆   ┆           ┆           ┆           ┆           │\n",
       "│ 4267059 ┆ COTABATO   ┆ Region    ┆ PETDU-CRM ┆ … ┆ Specialis ┆ 1 Year Of ┆           ┆ OSEC-DOHB │\n",
       "│         ┆ REGIONAL   ┆ XII       ┆ C         ┆   ┆ t II      ┆ Relevant  ┆           ┆ -TRNSP2-8 │\n",
       "│         ┆ AND        ┆           ┆ Cotabato  ┆   ┆           ┆           ┆           ┆ 40012-202 │\n",
       "│         ┆ MEDICAL …  ┆           ┆ City      ┆   ┆           ┆           ┆           ┆ 4         │\n",
       "│ 4325512 ┆ DEPARTMENT ┆ Region    ┆ ELEMENTAR ┆ … ┆ 24 hours  ┆ HT for 3  ┆           ┆ OSEC-DECS │\n",
       "│         ┆ OF         ┆ XII       ┆ Y- SDO    ┆   ┆ of        ┆ years; or ┆           ┆ B-HTEACH4 │\n",
       "│         ┆ EDUCATION  ┆           ┆ SULTAN    ┆   ┆ relevant  ┆ MT for 2  ┆           ┆ -840037-2 │\n",
       "│         ┆            ┆           ┆ KUDARAT   ┆   ┆ training  ┆ ye…       ┆           ┆ 021       │\n",
       "│ 4347023 ┆ MANILA,    ┆ NCR       ┆ ELEMENTAR ┆ … ┆ None      ┆ 2 years   ┆ Not Appli ┆ OSEC-DECS │\n",
       "│         ┆ NCR        ┆           ┆ Y SCHOOLS ┆   ┆ Required  ┆ of        ┆ cable     ┆ B-TCH3-33 │\n",
       "│         ┆            ┆           ┆           ┆   ┆           ┆ relevant  ┆           ┆ 077-1998  │\n",
       "│         ┆            ┆           ┆           ┆   ┆           ┆ experienc ┆           ┆           │\n",
       "│         ┆            ┆           ┆           ┆   ┆           ┆ e         ┆           ┆           │\n",
       "│ 4318456 ┆ DEPARTMENT ┆ Region XI ┆ Sta. Cruz ┆ … ┆ None      ┆ 3 Years   ┆ N/A       ┆ OSEC-DECS │\n",
       "│         ┆ OF         ┆           ┆ National  ┆   ┆ Required  ┆ Relevant  ┆           ┆ B-MTCHR1- │\n",
       "│         ┆ EDUCATION  ┆           ┆ High      ┆   ┆           ┆           ┆           ┆ 750206-20 │\n",
       "│         ┆            ┆           ┆ School    ┆   ┆           ┆           ┆           ┆ 21        │\n",
       "│ …       ┆ …          ┆ …         ┆ …         ┆ … ┆ …         ┆ …         ┆ …         ┆ …         │\n",
       "│ 4247090 ┆ DEPARTMENT ┆ Region IV ┆ Schools   ┆ … ┆ None      ┆ 1 year of ┆ N/A       ┆ OSEC-DECS │\n",
       "│         ┆ OF         ┆           ┆ Division  ┆   ┆ Required  ┆ relevant  ┆           ┆ B-TCH2-24 │\n",
       "│         ┆ EDUCATION  ┆           ┆ of Lipa   ┆   ┆           ┆ experienc ┆           ┆ 0048-2001 │\n",
       "│         ┆            ┆           ┆ City …    ┆   ┆           ┆ e         ┆           ┆           │\n",
       "│ 4319185 ┆ BUREAU OF  ┆ NCR       ┆ Bureau of ┆ … ┆ None      ┆ None      ┆ N/A       ┆ BCORB-CO1 │\n",
       "│         ┆ CORRECTION ┆           ┆ Correctio ┆   ┆ required  ┆ required  ┆           ┆ -890-2024 │\n",
       "│         ┆ S          ┆           ┆ ns        ┆   ┆           ┆           ┆           ┆           │\n",
       "│ 4365994 ┆ DEPARTMENT ┆ Region V  ┆ Elementar ┆ … ┆ None      ┆ 2 years   ┆ N/A       ┆ OSEC-DECS │\n",
       "│         ┆ OF         ┆           ┆ y         ┆   ┆ Required  ┆ relevant  ┆           ┆ B-TCH3-39 │\n",
       "│         ┆ EDUCATION  ┆           ┆           ┆   ┆           ┆ experienc ┆           ┆ 1749-2020 │\n",
       "│         ┆            ┆           ┆           ┆   ┆           ┆ e         ┆           ┆           │\n",
       "│ 4286569 ┆ DEPARTMENT ┆ NCR       ┆ Regional  ┆ … ┆ 8 hours   ┆ 2 years   ┆           ┆ OSEC-DICT │\n",
       "│         ┆ OF INFORMA ┆           ┆ Office V  ┆   ┆ of        ┆ of        ┆           ┆ B-ITO1-39 │\n",
       "│         ┆ TION AND … ┆           ┆ -         ┆   ┆ relevant  ┆ relevant  ┆           ┆ -2021     │\n",
       "│         ┆            ┆           ┆ Technical ┆   ┆ training  ┆ experienc ┆           ┆           │\n",
       "│         ┆            ┆           ┆ …         ┆   ┆           ┆ e         ┆           ┆           │\n",
       "│ 4340306 ┆ MGO LA     ┆ CAR       ┆ Municipal ┆ … ┆ Four (4)  ┆ One (1)   ┆           ┆ 180       │\n",
       "│         ┆ TRINIDAD   ┆           ┆ Accountin ┆   ┆ hours     ┆ year      ┆           ┆           │\n",
       "│         ┆ (CAPITAL), ┆           ┆ g Office  ┆   ┆ relevant  ┆ relevant  ┆           ┆           │\n",
       "│         ┆ BEN…       ┆           ┆           ┆   ┆ traini…   ┆ experien… ┆           ┆           │\n",
       "└─────────┴────────────┴───────────┴───────────┴───┴───────────┴───────────┴───────────┴───────────┘"
      ]
     },
     "execution_count": 8,
     "metadata": {},
     "output_type": "execute_result"
    }
   ],
   "source": [
    "step1 = df.filter(pl.col(\"MonthlySalary\") > 100)\n",
    "\n",
    "q1 = step1[\"MonthlySalary\"].quantile(0.25)\n",
    "q3 = step1[\"MonthlySalary\"].quantile(0.75)\n",
    "iqr = q3 - q1\n",
    "\n",
    "step2 = step1.filter(\n",
    "        (pl.col(\"MonthlySalary\") >= q1 - 1.5 * iqr)\n",
    "        & (pl.col(\"MonthlySalary\") <= q3 + 1.5 * iqr)\n",
    "    )\n",
    "\n",
    "processed_df = step2\n",
    "processed_df"
   ]
  },
  {
   "cell_type": "code",
   "execution_count": 9,
   "id": "f78158c1",
   "metadata": {},
   "outputs": [
    {
     "data": {
      "text/html": [
       "<div><style>\n",
       ".dataframe > thead > tr,\n",
       ".dataframe > tbody > tr {\n",
       "  text-align: right;\n",
       "  white-space: pre-wrap;\n",
       "}\n",
       "</style>\n",
       "<small>shape: (98_368,)</small><table border=\"1\" class=\"dataframe\"><thead><tr><th>Experience</th></tr><tr><td>str</td></tr></thead><tbody><tr><td>&quot;None Required&quot;</td></tr><tr><td>&quot;1 Year Of Relevant&quot;</td></tr><tr><td>&quot;HT for 3 years; or MT for 2 ye…</td></tr><tr><td>&quot;2 years of relevant experience&quot;</td></tr><tr><td>&quot;3 Years Relevant&quot;</td></tr><tr><td>&hellip;</td></tr><tr><td>&quot;1 year of relevant experience&quot;</td></tr><tr><td>&quot;None required&quot;</td></tr><tr><td>&quot;2 years relevant experience&quot;</td></tr><tr><td>&quot;2 years of relevant experience&quot;</td></tr><tr><td>&quot;One (1) year relevant experien…</td></tr></tbody></table></div>"
      ],
      "text/plain": [
       "shape: (98_368,)\n",
       "Series: 'Experience' [str]\n",
       "[\n",
       "\t\"None Required\"\n",
       "\t\"1 Year Of Relevant\"\n",
       "\t\"HT for 3 years; or MT for 2 ye…\n",
       "\t\"2 years of relevant experience\"\n",
       "\t\"3 Years Relevant\"\n",
       "\t…\n",
       "\t\"1 year of relevant experience\"\n",
       "\t\"None required\"\n",
       "\t\"2 years relevant experience\"\n",
       "\t\"2 years of relevant experience\"\n",
       "\t\"One (1) year relevant experien…\n",
       "]"
      ]
     },
     "execution_count": 9,
     "metadata": {},
     "output_type": "execute_result"
    }
   ],
   "source": [
    "processed_df[\"Experience\"]"
   ]
  },
  {
   "cell_type": "code",
   "execution_count": null,
   "id": "3cfe0e83",
   "metadata": {},
   "outputs": [],
   "source": [
    "def word2number(s):\n",
    "    \"\"\"Convert words to numbers.\"\"\"\n",
    "    numbers = {\n",
    "        \"one\": 1,\n",
    "        \"two\": 2,\n",
    "        \"three\": 3,\n",
    "        \"four\": 4,\n",
    "            \"five\": 5,\n",
    "        \"six\": 6,\n",
    "        \"seven\": 7,\n",
    "        \"eight\": 8,\n",
    "        \"nine\": 9,\n",
    "        \"ten\": 10,\n",
    "    }\n",
    "    s = s.lower()\n",
    "    sentence = s.split(\" \")\n",
    "    numbers_list = [word for word in sentence if word in numbers.keys()]\n",
    "    numbers_list = [numbers[word] for word in numbers_list]\n",
    "\n",
    "    return sum(numbers_list) / len(numbers_list) if numbers_list else 0"
   ]
  },
  {
   "cell_type": "code",
   "execution_count": 38,
   "id": "8364c951",
   "metadata": {},
   "outputs": [],
   "source": [
    "def months_handler(s):\n",
    "    \"\"\"Convert months to numbers.\"\"\"\n",
    "    sentence = s.lower().split(\" \")\n",
    "    numbers_list = [int(word) for word in sentence if word.isdigit()]\n",
    "\n",
    "    YEAR = 12\n",
    "\n",
    "    months = []\n",
    "    for month in numbers_list:\n",
    "        months.append(month / YEAR)\n",
    "\n",
    "    return sum(months) / len(months) if months else 0"
   ]
  },
  {
   "cell_type": "code",
   "execution_count": 4,
   "id": "6ff18f3c",
   "metadata": {},
   "outputs": [
    {
     "data": {
      "text/plain": [
       "1.5"
      ]
     },
     "execution_count": 4,
     "metadata": {},
     "output_type": "execute_result"
    }
   ],
   "source": [
    "word2number(\"Two one year of relevant experience\")"
   ]
  },
  {
   "cell_type": "code",
   "execution_count": 39,
   "id": "2978ebb2",
   "metadata": {},
   "outputs": [
    {
     "data": {
      "text/html": [
       "<div><style>\n",
       ".dataframe > thead > tr,\n",
       ".dataframe > tbody > tr {\n",
       "  text-align: right;\n",
       "  white-space: pre-wrap;\n",
       "}\n",
       "</style>\n",
       "<small>shape: (110_244, 16)</small><table border=\"1\" class=\"dataframe\"><thead><tr><th>jobId</th><th>Agency</th><th>Region</th><th>PlaceOfAssignment</th><th>Posting Date</th><th>Closing Date</th><th>Position Title</th><th>SalaryGrade</th><th>MonthlySalary</th><th>Eligibility</th><th>Education</th><th>Training</th><th>Experience</th><th>Competency</th><th>Plantilla Item No.</th><th>Experience_years</th></tr><tr><td>i32</td><td>str</td><td>str</td><td>str</td><td>date</td><td>date</td><td>str</td><td>str</td><td>i32</td><td>str</td><td>str</td><td>str</td><td>str</td><td>str</td><td>str</td><td>f32</td></tr></thead><tbody><tr><td>4235342</td><td>&quot;BICOL MEDICAL CENTER&quot;</td><td>&quot;Region V&quot;</td><td>&quot;Division Office, Division of A…</td><td>2024-12-06</td><td>2024-12-16</td><td>&quot;NURSE III&quot;</td><td>&quot;14&quot;</td><td>33843</td><td>&quot;PBET/LET/RA1080 Teacher&quot;</td><td>&quot;Bachelor&#x27;s degree in&quot;</td><td>&quot;None Required&quot;</td><td>&quot;None Required&quot;</td><td>&quot;N/A&quot;</td><td>&quot;OSEC-DOHB-NURS3-390074-2015&quot;</td><td>0.0</td></tr><tr><td>4267059</td><td>&quot;COTABATO REGIONAL AND MEDICAL …</td><td>&quot;Region XII&quot;</td><td>&quot;PETDU-CRMC Cotabato City&quot;</td><td>2025-01-08</td><td>2025-01-18</td><td>&quot;Training Specialist II&quot;</td><td>&quot;15&quot;</td><td>38413</td><td>&quot;Career Service Professional/Se…</td><td>&quot;Bachelor&#x27;S Degree&quot;</td><td>&quot;Specialist II&quot;</td><td>&quot;1 Year Of Relevant&quot;</td><td>&quot;&quot;</td><td>&quot;OSEC-DOHB-TRNSP2-840012-2024&quot;</td><td>1.0</td></tr><tr><td>4325512</td><td>&quot;DEPARTMENT OF EDUCATION&quot;</td><td>&quot;Region XII&quot;</td><td>&quot;ELEMENTARY- SDO SULTAN KUDARAT&quot;</td><td>2025-02-07</td><td>2025-02-17</td><td>&quot;Head Teacher IV&quot;</td><td>&quot;17&quot;</td><td>47247</td><td>&quot;RA 1080, as amended (Teacher)&quot;</td><td>&quot;Bachelor&#x27;s degree in Elementar…</td><td>&quot;24 hours of relevant training&quot;</td><td>&quot;HT for 3 years; or MT for 2 ye…</td><td>&quot;&quot;</td><td>&quot;OSEC-DECSB-HTEACH4-840037-2021&quot;</td><td>2.5</td></tr><tr><td>4347023</td><td>&quot;MANILA, NCR&quot;</td><td>&quot;NCR&quot;</td><td>&quot;ELEMENTARY SCHOOLS&quot;</td><td>2025-02-19</td><td>2025-03-03</td><td>&quot;TEACHER III&quot;</td><td>&quot;13&quot;</td><td>34421</td><td>&quot;RA 1080 (TEACHER)&quot;</td><td>&quot;BEED or Bachelor&#x27;s Degree plus…</td><td>&quot;None Required&quot;</td><td>&quot;2 years of relevant experience&quot;</td><td>&quot;Not Applicable&quot;</td><td>&quot;OSEC-DECSB-TCH3-33077-1998&quot;</td><td>2.0</td></tr><tr><td>4318456</td><td>&quot;DEPARTMENT OF EDUCATION&quot;</td><td>&quot;Region XI&quot;</td><td>&quot;Sta. Cruz National High School&quot;</td><td>2025-02-04</td><td>2025-02-14</td><td>&quot;MASTER TEACHER I (Secondary Gr…</td><td>&quot;18&quot;</td><td>51304</td><td>&quot;PBET/Teacher/RA 1080&quot;</td><td>&quot;Bachelor of Secondary&quot;</td><td>&quot;None Required&quot;</td><td>&quot;3 Years Relevant&quot;</td><td>&quot;N/A&quot;</td><td>&quot;OSEC-DECSB-MTCHR1-750206-2021&quot;</td><td>3.0</td></tr><tr><td>&hellip;</td><td>&hellip;</td><td>&hellip;</td><td>&hellip;</td><td>&hellip;</td><td>&hellip;</td><td>&hellip;</td><td>&hellip;</td><td>&hellip;</td><td>&hellip;</td><td>&hellip;</td><td>&hellip;</td><td>&hellip;</td><td>&hellip;</td><td>&hellip;</td><td>&hellip;</td></tr><tr><td>4247090</td><td>&quot;DEPARTMENT OF EDUCATION&quot;</td><td>&quot;Region IV&quot;</td><td>&quot;Schools Division of Lipa City …</td><td>2024-12-17</td><td>2024-12-27</td><td>&quot;Teacher II&quot;</td><td>&quot;12&quot;</td><td>30705</td><td>&quot;RA 1080, Teacher&quot;</td><td>&quot;Bachelor of Secondary&quot;</td><td>&quot;None Required&quot;</td><td>&quot;1 year of relevant experience&quot;</td><td>&quot;N/A&quot;</td><td>&quot;OSEC-DECSB-TCH2-240048-2001&quot;</td><td>1.0</td></tr><tr><td>4319185</td><td>&quot;BUREAU OF CORRECTIONS&quot;</td><td>&quot;NCR&quot;</td><td>&quot;Bureau of Corrections&quot;</td><td>2025-01-14</td><td>2025-01-24</td><td>&quot;Corrections Officer I&quot;</td><td>&quot;11&quot;</td><td>29668</td><td>&quot;RA 1080/ CS Professional/ CSC …</td><td>&quot;Bachelor&#x27;s Degree&quot;</td><td>&quot;None required&quot;</td><td>&quot;None required&quot;</td><td>&quot;N/A&quot;</td><td>&quot;BCORB-CO1-890-2024&quot;</td><td>0.0</td></tr><tr><td>4365994</td><td>&quot;DEPARTMENT OF EDUCATION&quot;</td><td>&quot;Region V&quot;</td><td>&quot;Elementary&quot;</td><td>2025-02-24</td><td>2025-03-07</td><td>&quot;Teacher III&quot;</td><td>&quot;13&quot;</td><td>34421</td><td>&quot;RA 1080 (Teacher)&quot;</td><td>&quot;Bachelor of Elementary&quot;</td><td>&quot;None Required&quot;</td><td>&quot;2 years relevant experience&quot;</td><td>&quot;N/A&quot;</td><td>&quot;OSEC-DECSB-TCH3-391749-2020&quot;</td><td>2.0</td></tr><tr><td>4286569</td><td>&quot;DEPARTMENT OF INFORMATION AND …</td><td>&quot;NCR&quot;</td><td>&quot;Regional Office V - Technical …</td><td>2025-01-15</td><td>2025-01-25</td><td>&quot;Information Technology Officer…</td><td>&quot;19&quot;</td><td>53873</td><td>&quot;Career Service (Professional) …</td><td>&quot;Bachelor&#x27;s degree relevant to …</td><td>&quot;8 hours of relevant training&quot;</td><td>&quot;2 years of relevant experience&quot;</td><td>&quot;&quot;</td><td>&quot;OSEC-DICTB-ITO1-39-2021&quot;</td><td>2.0</td></tr><tr><td>4340306</td><td>&quot;MGO LA TRINIDAD (CAPITAL), BEN…</td><td>&quot;CAR&quot;</td><td>&quot;Municipal Accounting Office&quot;</td><td>2025-02-17</td><td>2025-03-04</td><td>&quot;Administrative Assistant II (B…</td><td>&quot;8&quot;</td><td>20534</td><td>&quot;Career Service Subrofessional/…</td><td>&quot;Completion of two (2) years st…</td><td>&quot;Four (4) hours relevant traini…</td><td>&quot;One (1) year relevant experien…</td><td>&quot;&quot;</td><td>&quot;180&quot;</td><td>1.0</td></tr></tbody></table></div>"
      ],
      "text/plain": [
       "shape: (110_244, 16)\n",
       "┌─────────┬────────────┬───────────┬───────────┬───┬───────────┬───────────┬───────────┬───────────┐\n",
       "│ jobId   ┆ Agency     ┆ Region    ┆ PlaceOfAs ┆ … ┆ Experienc ┆ Competenc ┆ Plantilla ┆ Experienc │\n",
       "│ ---     ┆ ---        ┆ ---       ┆ signment  ┆   ┆ e         ┆ y         ┆ Item No.  ┆ e_years   │\n",
       "│ i32     ┆ str        ┆ str       ┆ ---       ┆   ┆ ---       ┆ ---       ┆ ---       ┆ ---       │\n",
       "│         ┆            ┆           ┆ str       ┆   ┆ str       ┆ str       ┆ str       ┆ f32       │\n",
       "╞═════════╪════════════╪═══════════╪═══════════╪═══╪═══════════╪═══════════╪═══════════╪═══════════╡\n",
       "│ 4235342 ┆ BICOL      ┆ Region V  ┆ Division  ┆ … ┆ None      ┆ N/A       ┆ OSEC-DOHB ┆ 0.0       │\n",
       "│         ┆ MEDICAL    ┆           ┆ Office,   ┆   ┆ Required  ┆           ┆ -NURS3-39 ┆           │\n",
       "│         ┆ CENTER     ┆           ┆ Division  ┆   ┆           ┆           ┆ 0074-2015 ┆           │\n",
       "│         ┆            ┆           ┆ of A…     ┆   ┆           ┆           ┆           ┆           │\n",
       "│ 4267059 ┆ COTABATO   ┆ Region    ┆ PETDU-CRM ┆ … ┆ 1 Year Of ┆           ┆ OSEC-DOHB ┆ 1.0       │\n",
       "│         ┆ REGIONAL   ┆ XII       ┆ C         ┆   ┆ Relevant  ┆           ┆ -TRNSP2-8 ┆           │\n",
       "│         ┆ AND        ┆           ┆ Cotabato  ┆   ┆           ┆           ┆ 40012-202 ┆           │\n",
       "│         ┆ MEDICAL …  ┆           ┆ City      ┆   ┆           ┆           ┆ 4         ┆           │\n",
       "│ 4325512 ┆ DEPARTMENT ┆ Region    ┆ ELEMENTAR ┆ … ┆ HT for 3  ┆           ┆ OSEC-DECS ┆ 2.5       │\n",
       "│         ┆ OF         ┆ XII       ┆ Y- SDO    ┆   ┆ years; or ┆           ┆ B-HTEACH4 ┆           │\n",
       "│         ┆ EDUCATION  ┆           ┆ SULTAN    ┆   ┆ MT for 2  ┆           ┆ -840037-2 ┆           │\n",
       "│         ┆            ┆           ┆ KUDARAT   ┆   ┆ ye…       ┆           ┆ 021       ┆           │\n",
       "│ 4347023 ┆ MANILA,    ┆ NCR       ┆ ELEMENTAR ┆ … ┆ 2 years   ┆ Not Appli ┆ OSEC-DECS ┆ 2.0       │\n",
       "│         ┆ NCR        ┆           ┆ Y SCHOOLS ┆   ┆ of        ┆ cable     ┆ B-TCH3-33 ┆           │\n",
       "│         ┆            ┆           ┆           ┆   ┆ relevant  ┆           ┆ 077-1998  ┆           │\n",
       "│         ┆            ┆           ┆           ┆   ┆ experienc ┆           ┆           ┆           │\n",
       "│         ┆            ┆           ┆           ┆   ┆ e         ┆           ┆           ┆           │\n",
       "│ 4318456 ┆ DEPARTMENT ┆ Region XI ┆ Sta. Cruz ┆ … ┆ 3 Years   ┆ N/A       ┆ OSEC-DECS ┆ 3.0       │\n",
       "│         ┆ OF         ┆           ┆ National  ┆   ┆ Relevant  ┆           ┆ B-MTCHR1- ┆           │\n",
       "│         ┆ EDUCATION  ┆           ┆ High      ┆   ┆           ┆           ┆ 750206-20 ┆           │\n",
       "│         ┆            ┆           ┆ School    ┆   ┆           ┆           ┆ 21        ┆           │\n",
       "│ …       ┆ …          ┆ …         ┆ …         ┆ … ┆ …         ┆ …         ┆ …         ┆ …         │\n",
       "│ 4247090 ┆ DEPARTMENT ┆ Region IV ┆ Schools   ┆ … ┆ 1 year of ┆ N/A       ┆ OSEC-DECS ┆ 1.0       │\n",
       "│         ┆ OF         ┆           ┆ Division  ┆   ┆ relevant  ┆           ┆ B-TCH2-24 ┆           │\n",
       "│         ┆ EDUCATION  ┆           ┆ of Lipa   ┆   ┆ experienc ┆           ┆ 0048-2001 ┆           │\n",
       "│         ┆            ┆           ┆ City …    ┆   ┆ e         ┆           ┆           ┆           │\n",
       "│ 4319185 ┆ BUREAU OF  ┆ NCR       ┆ Bureau of ┆ … ┆ None      ┆ N/A       ┆ BCORB-CO1 ┆ 0.0       │\n",
       "│         ┆ CORRECTION ┆           ┆ Correctio ┆   ┆ required  ┆           ┆ -890-2024 ┆           │\n",
       "│         ┆ S          ┆           ┆ ns        ┆   ┆           ┆           ┆           ┆           │\n",
       "│ 4365994 ┆ DEPARTMENT ┆ Region V  ┆ Elementar ┆ … ┆ 2 years   ┆ N/A       ┆ OSEC-DECS ┆ 2.0       │\n",
       "│         ┆ OF         ┆           ┆ y         ┆   ┆ relevant  ┆           ┆ B-TCH3-39 ┆           │\n",
       "│         ┆ EDUCATION  ┆           ┆           ┆   ┆ experienc ┆           ┆ 1749-2020 ┆           │\n",
       "│         ┆            ┆           ┆           ┆   ┆ e         ┆           ┆           ┆           │\n",
       "│ 4286569 ┆ DEPARTMENT ┆ NCR       ┆ Regional  ┆ … ┆ 2 years   ┆           ┆ OSEC-DICT ┆ 2.0       │\n",
       "│         ┆ OF INFORMA ┆           ┆ Office V  ┆   ┆ of        ┆           ┆ B-ITO1-39 ┆           │\n",
       "│         ┆ TION AND … ┆           ┆ -         ┆   ┆ relevant  ┆           ┆ -2021     ┆           │\n",
       "│         ┆            ┆           ┆ Technical ┆   ┆ experienc ┆           ┆           ┆           │\n",
       "│         ┆            ┆           ┆ …         ┆   ┆ e         ┆           ┆           ┆           │\n",
       "│ 4340306 ┆ MGO LA     ┆ CAR       ┆ Municipal ┆ … ┆ One (1)   ┆           ┆ 180       ┆ 1.0       │\n",
       "│         ┆ TRINIDAD   ┆           ┆ Accountin ┆   ┆ year      ┆           ┆           ┆           │\n",
       "│         ┆ (CAPITAL), ┆           ┆ g Office  ┆   ┆ relevant  ┆           ┆           ┆           │\n",
       "│         ┆ BEN…       ┆           ┆           ┆   ┆ experien… ┆           ┆           ┆           │\n",
       "└─────────┴────────────┴───────────┴───────────┴───┴───────────┴───────────┴───────────┴───────────┘"
      ]
     },
     "execution_count": 39,
     "metadata": {},
     "output_type": "execute_result"
    }
   ],
   "source": [
    "def map_experience(experience: str) -> int:\n",
    "    try:\n",
    "        if len(experience) == 0:\n",
    "            return 0\n",
    "\n",
    "        if \"none\" in experience.lower():\n",
    "            return 0\n",
    "\n",
    "        if \"not required\" in experience.lower():\n",
    "            return 0\n",
    "\n",
    "        if \"hours\" in experience.lower():\n",
    "            return 0\n",
    "        \n",
    "        if \"hrs\" in experience.lower():\n",
    "            return 0\n",
    "        \n",
    "        if \"not specified\" in experience.lower():\n",
    "            return 0\n",
    "\n",
    "        if \"no experience\" in experience.lower():\n",
    "            return 0\n",
    "\n",
    "        if \"non required\" in experience.lower():\n",
    "            return 0\n",
    "        \n",
    "        if \"month\" in experience.lower():\n",
    "            return months_handler(experience)\n",
    "\n",
    "        # numbers = [int(num) for num in re.findall(r\"\\d+\", experience)]\n",
    "\n",
    "        sentence = experience.lower().split(\" \")\n",
    "        numbers_list = [int(word) for word in sentence if word.isdigit()]\n",
    "        numbers = numbers_list\n",
    "\n",
    "\n",
    "        # Compute the average\n",
    "        if numbers:\n",
    "            avg = sum(numbers) / len(numbers)\n",
    "            return avg\n",
    "        else:\n",
    "            return word2number(experience)\n",
    "    except ValueError:\n",
    "        print(f\"Warning: Failed to parse string: '{experience}'\")\n",
    "\n",
    "\n",
    "mapped_experience = df.with_columns(\n",
    "    pl.col(\"Experience\")\n",
    "    .map_elements(lambda x: map_experience(x), return_dtype=pl.Float32)\n",
    "    .alias(\"Experience_years\")\n",
    ")\n",
    "mapped_experience\n",
    "# map_experience(\"2 years relevant experience CSC Resolution No. 09-0080\")"
   ]
  },
  {
   "cell_type": "code",
   "execution_count": 43,
   "id": "d2801c9f",
   "metadata": {},
   "outputs": [
    {
     "data": {
      "text/plain": [
       "<Axes: ylabel='Count'>"
      ]
     },
     "execution_count": 43,
     "metadata": {},
     "output_type": "execute_result"
    },
    {
     "data": {
      "image/png": "[encoded data removed]",
      "text/plain": [
       "<Figure size 400x250 with 1 Axes>"
      ]
     },
     "metadata": {},
     "output_type": "display_data"
    }
   ],
   "source": [
    "sns.histplot(mapped_experience[\"Experience_years\"])"
   ]
  },
  {
   "cell_type": "code",
   "execution_count": 40,
   "id": "78c0ec42",
   "metadata": {},
   "outputs": [
    {
     "data": {
      "text/plain": [
       "12.0"
      ]
     },
     "execution_count": 40,
     "metadata": {},
     "output_type": "execute_result"
    }
   ],
   "source": [
    "mapped_experience[\"Experience_years\"].max()"
   ]
  },
  {
   "cell_type": "code",
   "execution_count": 37,
   "id": "b9e06f9d",
   "metadata": {},
   "outputs": [
    {
     "data": {
      "text/html": [
       "<div><style>\n",
       ".dataframe > thead > tr,\n",
       ".dataframe > tbody > tr {\n",
       "  text-align: right;\n",
       "  white-space: pre-wrap;\n",
       "}\n",
       "</style>\n",
       "<small>shape: (946,)</small><table border=\"1\" class=\"dataframe\"><thead><tr><th>Experience</th></tr><tr><td>str</td></tr></thead><tbody><tr><td>&quot;6 months of relevant teaching …</td></tr><tr><td>&quot;6 months of relevant teaching …</td></tr><tr><td>&quot;6 months of relevant teaching …</td></tr><tr><td>&quot;6 months of relevant or 6 mont…</td></tr><tr><td>&quot;6 years experience in technolo…</td></tr><tr><td>&hellip;</td></tr><tr><td>&quot;6 months experience in the pre…</td></tr><tr><td>&quot;9 years of relevant experience&quot;</td></tr><tr><td>&quot;6 years of experience in banki…</td></tr><tr><td>&quot;6 months of relevant teaching …</td></tr><tr><td>&quot;6 months of relevant teaching …</td></tr></tbody></table></div>"
      ],
      "text/plain": [
       "shape: (946,)\n",
       "Series: 'Experience' [str]\n",
       "[\n",
       "\t\"6 months of relevant teaching …\n",
       "\t\"6 months of relevant teaching …\n",
       "\t\"6 months of relevant teaching …\n",
       "\t\"6 months of relevant or 6 mont…\n",
       "\t\"6 years experience in technolo…\n",
       "\t…\n",
       "\t\"6 months experience in the pre…\n",
       "\t\"9 years of relevant experience\"\n",
       "\t\"6 years of experience in banki…\n",
       "\t\"6 months of relevant teaching …\n",
       "\t\"6 months of relevant teaching …\n",
       "]"
      ]
     },
     "execution_count": 37,
     "metadata": {},
     "output_type": "execute_result"
    }
   ],
   "source": [
    "mapped_experience.filter(pl.col(\"Experience_years\") > 5)[\"Experience\"]"
   ]
  },
  {
   "cell_type": "code",
   "execution_count": 44,
   "id": "de84fc80",
   "metadata": {},
   "outputs": [],
   "source": [
    "dataPath2 = PROCESSED_DATA_DIR / \"CivilServiceCommission\" / \"civilservicecommission-2.parquet\"\n",
    "\n",
    "mapped_experience.write_parquet(dataPath2)"
   ]
  }
 ],
 "metadata": {
  "kernelspec": {
   "display_name": ".venv",
   "language": "python",
   "name": "python3"
  },
  "language_info": {
   "codemirror_mode": {
    "name": "ipython",
    "version": 3
   },
   "file_extension": ".py",
   "mimetype": "text/x-python",
   "name": "python",
   "nbconvert_exporter": "python",
   "pygments_lexer": "ipython3",
   "version": "3.12.9"
  }
 },
 "nbformat": 4,
 "nbformat_minor": 5
}
