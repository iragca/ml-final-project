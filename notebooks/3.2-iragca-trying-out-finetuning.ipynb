{
 "cells": [
  {
   "cell_type": "code",
   "execution_count": 1,
   "id": "0f02fdca",
   "metadata": {},
   "outputs": [
    {
     "name": "stderr",
     "output_type": "stream",
     "text": [
      "\u001b[32m2025-05-12 09:18:05.954\u001b[0m | \u001b[1mINFO    \u001b[0m | \u001b[36mml_final_project.config\u001b[0m:\u001b[36m<module>\u001b[0m:\u001b[36m11\u001b[0m - \u001b[1mPROJ_ROOT path is: D:\\Documents\\3 Production Save Files\\1 Cloned repositories\\ml-final-project\u001b[0m\n"
     ]
    }
   ],
   "source": [
    "from ml_final_project.config import PROCESSED_DATA_DIR\n",
    "import polars as pl\n",
    "\n",
    "\n",
    "data = pl.scan_parquet(PROCESSED_DATA_DIR / \"CivilServiceCommission\" / \"civilservicecommission-2.parquet\")"
   ]
  },
  {
   "cell_type": "code",
   "execution_count": 2,
   "id": "f5a0a7b9",
   "metadata": {},
   "outputs": [],
   "source": [
    "position_titles: pl.LazyFrame = data.select([pl.col(\"Position Title\")])"
   ]
  },
  {
   "cell_type": "code",
   "execution_count": 3,
   "id": "5012fbff",
   "metadata": {},
   "outputs": [
    {
     "data": {
      "application/vnd.jupyter.widget-view+json": {
       "model_id": "dbd96259cfc342758b6f6d05b10f0199",
       "version_major": 2,
       "version_minor": 0
      },
      "text/plain": [
       "Map:   0%|          | 0/110244 [00:00<?, ? examples/s]"
      ]
     },
     "metadata": {},
     "output_type": "display_data"
    }
   ],
   "source": [
    "from datasets import Dataset\n",
    "from transformers import BertTokenizer\n",
    "\n",
    "titles = [\"Senior Software Engineer\", \"Lead Data Scientist\", \"UX Designer\"]\n",
    "tokenizer = BertTokenizer.from_pretrained(\"bert-base-uncased\")\n",
    "\n",
    "# Format data\n",
    "dataset = Dataset.from_dict({\"text\": list(position_titles.collect().to_numpy().ravel())})\n",
    "\n",
    "def tokenize_function(examples):\n",
    "    return tokenizer(examples[\"text\"], truncation=True, padding=\"max_length\", max_length=32)\n",
    "\n",
    "tokenized_dataset = dataset.map(tokenize_function, batched=True)\n"
   ]
  },
  {
   "cell_type": "code",
   "execution_count": 4,
   "id": "0e069125",
   "metadata": {},
   "outputs": [],
   "source": [
    "from transformers import DataCollatorForLanguageModeling\n",
    "\n",
    "data_collator = DataCollatorForLanguageModeling(\n",
    "    tokenizer=tokenizer, mlm=True, mlm_probability=0.15\n",
    ")\n"
   ]
  },
  {
   "cell_type": "code",
   "execution_count": 5,
   "id": "9fbaf2bf",
   "metadata": {},
   "outputs": [
    {
     "name": "stderr",
     "output_type": "stream",
     "text": [
      "Some weights of the model checkpoint at bert-base-uncased were not used when initializing BertForMaskedLM: ['bert.pooler.dense.bias', 'bert.pooler.dense.weight', 'cls.seq_relationship.bias', 'cls.seq_relationship.weight']\n",
      "- This IS expected if you are initializing BertForMaskedLM from the checkpoint of a model trained on another task or with another architecture (e.g. initializing a BertForSequenceClassification model from a BertForPreTraining model).\n",
      "- This IS NOT expected if you are initializing BertForMaskedLM from the checkpoint of a model that you expect to be exactly identical (initializing a BertForSequenceClassification model from a BertForSequenceClassification model).\n",
      "C:\\Users\\Andrei\\AppData\\Local\\Temp\\ipykernel_20728\\3553926853.py:14: FutureWarning: `tokenizer` is deprecated and will be removed in version 5.0.0 for `Trainer.__init__`. Use `processing_class` instead.\n",
      "  trainer = Trainer(\n",
      "d:\\Documents\\3 Production Save Files\\1 Cloned repositories\\ml-final-project\\.venv\\Lib\\site-packages\\torch\\utils\\data\\dataloader.py:665: UserWarning: 'pin_memory' argument is set as true but no accelerator is found, then device pinned memory won't be used.\n",
      "  warnings.warn(warn_msg)\n"
     ]
    },
    {
     "data": {
      "text/html": [
       "\n",
       "    <div>\n",
       "      \n",
       "      <progress value='20673' max='20673' style='width:300px; height:20px; vertical-align: middle;'></progress>\n",
       "      [20673/20673 11:05:54, Epoch 3/3]\n",
       "    </div>\n",
       "    <table border=\"1\" class=\"dataframe\">\n",
       "  <thead>\n",
       " <tr style=\"text-align: left;\">\n",
       "      <th>Step</th>\n",
       "      <th>Training Loss</th>\n",
       "    </tr>\n",
       "  </thead>\n",
       "  <tbody>\n",
       "    <tr>\n",
       "      <td>500</td>\n",
       "      <td>1.823200</td>\n",
       "    </tr>\n",
       "    <tr>\n",
       "      <td>1000</td>\n",
       "      <td>1.254800</td>\n",
       "    </tr>\n",
       "    <tr>\n",
       "      <td>1500</td>\n",
       "      <td>1.095100</td>\n",
       "    </tr>\n",
       "    <tr>\n",
       "      <td>2000</td>\n",
       "      <td>0.991600</td>\n",
       "    </tr>\n",
       "    <tr>\n",
       "      <td>2500</td>\n",
       "      <td>0.948700</td>\n",
       "    </tr>\n",
       "    <tr>\n",
       "      <td>3000</td>\n",
       "      <td>0.905600</td>\n",
       "    </tr>\n",
       "    <tr>\n",
       "      <td>3500</td>\n",
       "      <td>0.886000</td>\n",
       "    </tr>\n",
       "    <tr>\n",
       "      <td>4000</td>\n",
       "      <td>0.853200</td>\n",
       "    </tr>\n",
       "    <tr>\n",
       "      <td>4500</td>\n",
       "      <td>0.799900</td>\n",
       "    </tr>\n",
       "    <tr>\n",
       "      <td>5000</td>\n",
       "      <td>0.808400</td>\n",
       "    </tr>\n",
       "    <tr>\n",
       "      <td>5500</td>\n",
       "      <td>0.811100</td>\n",
       "    </tr>\n",
       "    <tr>\n",
       "      <td>6000</td>\n",
       "      <td>0.768200</td>\n",
       "    </tr>\n",
       "    <tr>\n",
       "      <td>6500</td>\n",
       "      <td>0.773000</td>\n",
       "    </tr>\n",
       "    <tr>\n",
       "      <td>7000</td>\n",
       "      <td>0.708100</td>\n",
       "    </tr>\n",
       "    <tr>\n",
       "      <td>7500</td>\n",
       "      <td>0.716600</td>\n",
       "    </tr>\n",
       "    <tr>\n",
       "      <td>8000</td>\n",
       "      <td>0.686000</td>\n",
       "    </tr>\n",
       "    <tr>\n",
       "      <td>8500</td>\n",
       "      <td>0.712800</td>\n",
       "    </tr>\n",
       "    <tr>\n",
       "      <td>9000</td>\n",
       "      <td>0.718300</td>\n",
       "    </tr>\n",
       "    <tr>\n",
       "      <td>9500</td>\n",
       "      <td>0.716500</td>\n",
       "    </tr>\n",
       "    <tr>\n",
       "      <td>10000</td>\n",
       "      <td>0.612600</td>\n",
       "    </tr>\n",
       "    <tr>\n",
       "      <td>10500</td>\n",
       "      <td>0.660400</td>\n",
       "    </tr>\n",
       "    <tr>\n",
       "      <td>11000</td>\n",
       "      <td>0.663700</td>\n",
       "    </tr>\n",
       "    <tr>\n",
       "      <td>11500</td>\n",
       "      <td>0.623000</td>\n",
       "    </tr>\n",
       "    <tr>\n",
       "      <td>12000</td>\n",
       "      <td>0.622500</td>\n",
       "    </tr>\n",
       "    <tr>\n",
       "      <td>12500</td>\n",
       "      <td>0.636700</td>\n",
       "    </tr>\n",
       "    <tr>\n",
       "      <td>13000</td>\n",
       "      <td>0.614700</td>\n",
       "    </tr>\n",
       "    <tr>\n",
       "      <td>13500</td>\n",
       "      <td>0.609400</td>\n",
       "    </tr>\n",
       "    <tr>\n",
       "      <td>14000</td>\n",
       "      <td>0.582900</td>\n",
       "    </tr>\n",
       "    <tr>\n",
       "      <td>14500</td>\n",
       "      <td>0.560700</td>\n",
       "    </tr>\n",
       "    <tr>\n",
       "      <td>15000</td>\n",
       "      <td>0.624000</td>\n",
       "    </tr>\n",
       "    <tr>\n",
       "      <td>15500</td>\n",
       "      <td>0.613200</td>\n",
       "    </tr>\n",
       "    <tr>\n",
       "      <td>16000</td>\n",
       "      <td>0.547000</td>\n",
       "    </tr>\n",
       "    <tr>\n",
       "      <td>16500</td>\n",
       "      <td>0.630800</td>\n",
       "    </tr>\n",
       "    <tr>\n",
       "      <td>17000</td>\n",
       "      <td>0.590000</td>\n",
       "    </tr>\n",
       "    <tr>\n",
       "      <td>17500</td>\n",
       "      <td>0.562100</td>\n",
       "    </tr>\n",
       "    <tr>\n",
       "      <td>18000</td>\n",
       "      <td>0.590200</td>\n",
       "    </tr>\n",
       "    <tr>\n",
       "      <td>18500</td>\n",
       "      <td>0.543100</td>\n",
       "    </tr>\n",
       "    <tr>\n",
       "      <td>19000</td>\n",
       "      <td>0.600100</td>\n",
       "    </tr>\n",
       "    <tr>\n",
       "      <td>19500</td>\n",
       "      <td>0.567900</td>\n",
       "    </tr>\n",
       "    <tr>\n",
       "      <td>20000</td>\n",
       "      <td>0.537600</td>\n",
       "    </tr>\n",
       "    <tr>\n",
       "      <td>20500</td>\n",
       "      <td>0.576500</td>\n",
       "    </tr>\n",
       "  </tbody>\n",
       "</table><p>"
      ],
      "text/plain": [
       "<IPython.core.display.HTML object>"
      ]
     },
     "metadata": {},
     "output_type": "display_data"
    },
    {
     "name": "stderr",
     "output_type": "stream",
     "text": [
      "d:\\Documents\\3 Production Save Files\\1 Cloned repositories\\ml-final-project\\.venv\\Lib\\site-packages\\torch\\utils\\data\\dataloader.py:665: UserWarning: 'pin_memory' argument is set as true but no accelerator is found, then device pinned memory won't be used.\n",
      "  warnings.warn(warn_msg)\n",
      "d:\\Documents\\3 Production Save Files\\1 Cloned repositories\\ml-final-project\\.venv\\Lib\\site-packages\\torch\\utils\\data\\dataloader.py:665: UserWarning: 'pin_memory' argument is set as true but no accelerator is found, then device pinned memory won't be used.\n",
      "  warnings.warn(warn_msg)\n"
     ]
    },
    {
     "data": {
      "text/plain": [
       "TrainOutput(global_step=20673, training_loss=0.7335336582123129, metrics={'train_runtime': 39959.3163, 'train_samples_per_second': 8.277, 'train_steps_per_second': 0.517, 'total_flos': 5440640884185600.0, 'train_loss': 0.7335336582123129, 'epoch': 3.0})"
      ]
     },
     "execution_count": 5,
     "metadata": {},
     "output_type": "execute_result"
    }
   ],
   "source": [
    "from transformers import BertForMaskedLM, Trainer, TrainingArguments\n",
    "\n",
    "model = BertForMaskedLM.from_pretrained(\"bert-base-uncased\")\n",
    "\n",
    "training_args = TrainingArguments(\n",
    "    output_dir=\"./bert-jobtitles\",\n",
    "    eval_strategy=\"no\",\n",
    "    per_device_train_batch_size=16,\n",
    "    num_train_epochs=3,\n",
    "    save_steps=500,\n",
    "    save_total_limit=1\n",
    ")\n",
    "\n",
    "trainer = Trainer(\n",
    "    model=model,\n",
    "    args=training_args,\n",
    "    train_dataset=tokenized_dataset,\n",
    "    tokenizer=tokenizer,\n",
    "    data_collator=data_collator,\n",
    ")\n",
    "\n",
    "trainer.train()\n"
   ]
  },
  {
   "cell_type": "code",
   "execution_count": 6,
   "id": "42963e39",
   "metadata": {},
   "outputs": [
    {
     "data": {
      "text/plain": [
       "('./bert-jobtitles-adapted\\\\tokenizer_config.json',\n",
       " './bert-jobtitles-adapted\\\\special_tokens_map.json',\n",
       " './bert-jobtitles-adapted\\\\vocab.txt',\n",
       " './bert-jobtitles-adapted\\\\added_tokens.json')"
      ]
     },
     "execution_count": 6,
     "metadata": {},
     "output_type": "execute_result"
    }
   ],
   "source": [
    "trainer.save_model(\"./bert-jobtitles-adapted\")\n",
    "tokenizer.save_pretrained(\"./bert-jobtitles-adapted\")\n"
   ]
  },
  {
   "cell_type": "code",
   "execution_count": 33,
   "id": "15a06930",
   "metadata": {},
   "outputs": [],
   "source": [
    "from ml_final_project.config import PROJ_ROOT, PROCESSED_DATA_DIR, INTERIM_DATA_DIR\n",
    "import torch"
   ]
  },
  {
   "cell_type": "code",
   "execution_count": 27,
   "id": "f4077250",
   "metadata": {},
   "outputs": [
    {
     "name": "stderr",
     "output_type": "stream",
     "text": [
      "Some weights of BertModel were not initialized from the model checkpoint at D:\\Documents\\3 Production Save Files\\1 Cloned repositories\\ml-final-project\\notebooks\\bert-jobtitles-adapted and are newly initialized: ['pooler.dense.bias', 'pooler.dense.weight']\n",
      "You should probably TRAIN this model on a down-stream task to be able to use it for predictions and inference.\n"
     ]
    }
   ],
   "source": [
    "from transformers import BertTokenizer, BertModel\n",
    "\n",
    "model_path = PROJ_ROOT / \"notebooks\" / \"bert-jobtitles-adapted\" # or the path you used in TrainingArguments\n",
    "\n",
    "# Load tokenizer and model\n",
    "tokenizer = BertTokenizer.from_pretrained(model_path)\n",
    "model = BertModel.from_pretrained(model_path)  # ⚠️ Note: using BertModel here"
   ]
  },
  {
   "cell_type": "code",
   "execution_count": 41,
   "id": "56204dc4",
   "metadata": {},
   "outputs": [],
   "source": [
    "def get_cls_embedding(text, tokenizer, model):\n",
    "    \"\"\"\n",
    "    Generate CLS embedding for a given text using a pre-trained BERT model.\n",
    "\n",
    "    Parameters:\n",
    "    - text (str): The input text to encode.\n",
    "    - tokenizer (transformers.BertTokenizer): The tokenizer for the BERT model.\n",
    "    - model (transformers.BertModel): The pre-trained BERT model.\n",
    "\n",
    "    Returns:\n",
    "    - torch.Tensor: The CLS embedding of the input text.\n",
    "    \"\"\"\n",
    "    # Tokenize and convert to input IDs\n",
    "    inputs = tokenizer(text, return_tensors='pt')\n",
    "\n",
    "    # Forward pass through BERT\n",
    "    with torch.no_grad():\n",
    "        outputs = model(**inputs)\n",
    "\n",
    "    # Get the last hidden state (sequence output)\n",
    "    last_hidden_state = outputs.last_hidden_state  # shape: [1, seq_len, hidden_size]\n",
    "\n",
    "    # To get sentence embedding, use the [CLS] token (first token)\n",
    "    cls_embedding = last_hidden_state[0, 0]  # shape: [hidden_size]\n",
    "    return cls_embedding.sum()"
   ]
  },
  {
   "cell_type": "code",
   "execution_count": 42,
   "id": "9145609d",
   "metadata": {},
   "outputs": [
    {
     "data": {
      "text/plain": [
       "tensor(-6.8373)"
      ]
     },
     "execution_count": 42,
     "metadata": {},
     "output_type": "execute_result"
    }
   ],
   "source": [
    "get_cls_embedding(\"Senior Software Engineer\", tokenizer, model)"
   ]
  },
  {
   "cell_type": "code",
   "execution_count": 37,
   "id": "53abab4a",
   "metadata": {},
   "outputs": [],
   "source": [
    "data = pl.read_parquet(PROCESSED_DATA_DIR / \"CivilServiceCommission\" / \"civilservicecommission-unclean-training-data.parquet\")\n",
    "# embedded_data = pl.read_csv(INTERIM_DATA_DIR / \"CivilServiceCommission\" / \"civilservicecommission-filtered-embedded.parquet\")"
   ]
  },
  {
   "cell_type": "code",
   "execution_count": 38,
   "id": "126d546f",
   "metadata": {},
   "outputs": [
    {
     "data": {
      "text/html": [
       "<div><style>\n",
       ".dataframe > thead > tr,\n",
       ".dataframe > tbody > tr {\n",
       "  text-align: right;\n",
       "  white-space: pre-wrap;\n",
       "}\n",
       "</style>\n",
       "<small>shape: (109_525, 22)</small><table border=\"1\" class=\"dataframe\"><thead><tr><th>jobId</th><th>Agency</th><th>Region</th><th>PlaceOfAssignment</th><th>Posting Date</th><th>Closing Date</th><th>Position Title</th><th>SalaryGrade</th><th>MonthlySalary</th><th>Eligibility</th><th>Education</th><th>Training</th><th>Experience</th><th>Competency</th><th>Plantilla Item No.</th><th>positiontitle_embedding</th><th>agency_embedding</th><th>education_embedding</th><th>experience_embedding</th><th>eligibility_embedding</th><th>salarygrade_embedding</th><th>experience_years</th></tr><tr><td>i64</td><td>str</td><td>str</td><td>str</td><td>str</td><td>str</td><td>str</td><td>str</td><td>i64</td><td>str</td><td>str</td><td>str</td><td>str</td><td>str</td><td>str</td><td>f64</td><td>f64</td><td>f64</td><td>f64</td><td>f64</td><td>f64</td><td>f32</td></tr></thead><tbody><tr><td>4235342</td><td>&quot;BICOL MEDICAL CENTER&quot;</td><td>&quot;Region V&quot;</td><td>&quot;Division Office, Division of A…</td><td>&quot;2024-12-06&quot;</td><td>&quot;2024-12-16&quot;</td><td>&quot;NURSE III&quot;</td><td>&quot;14&quot;</td><td>33843</td><td>&quot;PBET/LET/RA1080 Teacher&quot;</td><td>&quot;Bachelor&#x27;s degree in&quot;</td><td>&quot;None Required&quot;</td><td>&quot;None Required&quot;</td><td>&quot;N/A&quot;</td><td>&quot;OSEC-DOHB-NURS3-390074-2015&quot;</td><td>-7.324668</td><td>-7.893728</td><td>-7.534733</td><td>-8.596694</td><td>-7.49356</td><td>-8.301358</td><td>0.0</td></tr><tr><td>4267059</td><td>&quot;COTABATO REGIONAL AND MEDICAL …</td><td>&quot;Region XII&quot;</td><td>&quot;PETDU-CRMC Cotabato City&quot;</td><td>&quot;2025-01-08&quot;</td><td>&quot;2025-01-18&quot;</td><td>&quot;Training Specialist II&quot;</td><td>&quot;15&quot;</td><td>38413</td><td>&quot;Career Service Professional/Se…</td><td>&quot;Bachelor&#x27;S Degree&quot;</td><td>&quot;Specialist II&quot;</td><td>&quot;1 Year Of Relevant&quot;</td><td>&quot;&quot;</td><td>&quot;OSEC-DOHB-TRNSP2-840012-2024&quot;</td><td>-6.994604</td><td>-7.494605</td><td>-8.148396</td><td>-6.840691</td><td>-7.659439</td><td>-8.37644</td><td>1.0</td></tr><tr><td>4325512</td><td>&quot;DEPARTMENT OF EDUCATION&quot;</td><td>&quot;Region XII&quot;</td><td>&quot;ELEMENTARY- SDO SULTAN KUDARAT&quot;</td><td>&quot;2025-02-07&quot;</td><td>&quot;2025-02-17&quot;</td><td>&quot;Head Teacher IV&quot;</td><td>&quot;17&quot;</td><td>47247</td><td>&quot;RA 1080, as amended (Teacher)&quot;</td><td>&quot;Bachelor&#x27;s degree in Elementar…</td><td>&quot;24 hours of relevant training&quot;</td><td>&quot;HT for 3 years; or MT for 2 ye…</td><td>&quot;&quot;</td><td>&quot;OSEC-DECSB-HTEACH4-840037-2021&quot;</td><td>-7.060712</td><td>-9.257008</td><td>-7.813778</td><td>-6.978828</td><td>-7.597981</td><td>-8.679143</td><td>2.5</td></tr><tr><td>4347023</td><td>&quot;MANILA, NCR&quot;</td><td>&quot;NCR&quot;</td><td>&quot;ELEMENTARY SCHOOLS&quot;</td><td>&quot;2025-02-19&quot;</td><td>&quot;2025-03-03&quot;</td><td>&quot;TEACHER III&quot;</td><td>&quot;13&quot;</td><td>34421</td><td>&quot;RA 1080 (TEACHER)&quot;</td><td>&quot;BEED or Bachelor&#x27;s Degree plus…</td><td>&quot;None Required&quot;</td><td>&quot;2 years of relevant experience&quot;</td><td>&quot;Not Applicable&quot;</td><td>&quot;OSEC-DECSB-TCH3-33077-1998&quot;</td><td>-7.144463</td><td>-7.815163</td><td>-6.617424</td><td>-7.69224</td><td>-7.368425</td><td>-8.287629</td><td>2.0</td></tr><tr><td>4318456</td><td>&quot;DEPARTMENT OF EDUCATION&quot;</td><td>&quot;Region XI&quot;</td><td>&quot;Sta. Cruz National High School&quot;</td><td>&quot;2025-02-04&quot;</td><td>&quot;2025-02-14&quot;</td><td>&quot;MASTER TEACHER I (Secondary Gr…</td><td>&quot;18&quot;</td><td>51304</td><td>&quot;PBET/Teacher/RA 1080&quot;</td><td>&quot;Bachelor of Secondary&quot;</td><td>&quot;None Required&quot;</td><td>&quot;3 Years Relevant&quot;</td><td>&quot;N/A&quot;</td><td>&quot;OSEC-DECSB-MTCHR1-750206-2021&quot;</td><td>-6.430348</td><td>-9.257008</td><td>-7.452889</td><td>-7.33181</td><td>-6.765957</td><td>-8.259463</td><td>3.0</td></tr><tr><td>&hellip;</td><td>&hellip;</td><td>&hellip;</td><td>&hellip;</td><td>&hellip;</td><td>&hellip;</td><td>&hellip;</td><td>&hellip;</td><td>&hellip;</td><td>&hellip;</td><td>&hellip;</td><td>&hellip;</td><td>&hellip;</td><td>&hellip;</td><td>&hellip;</td><td>&hellip;</td><td>&hellip;</td><td>&hellip;</td><td>&hellip;</td><td>&hellip;</td><td>&hellip;</td><td>&hellip;</td></tr><tr><td>4247090</td><td>&quot;DEPARTMENT OF EDUCATION&quot;</td><td>&quot;Region IV&quot;</td><td>&quot;Schools Division of Lipa City …</td><td>&quot;2024-12-17&quot;</td><td>&quot;2024-12-27&quot;</td><td>&quot;Teacher II&quot;</td><td>&quot;12&quot;</td><td>30705</td><td>&quot;RA 1080, Teacher&quot;</td><td>&quot;Bachelor of Secondary&quot;</td><td>&quot;None Required&quot;</td><td>&quot;1 year of relevant experience&quot;</td><td>&quot;N/A&quot;</td><td>&quot;OSEC-DECSB-TCH2-240048-2001&quot;</td><td>-7.142153</td><td>-9.257008</td><td>-7.452889</td><td>-7.732252</td><td>-7.570666</td><td>-7.962153</td><td>1.0</td></tr><tr><td>4319185</td><td>&quot;BUREAU OF CORRECTIONS&quot;</td><td>&quot;NCR&quot;</td><td>&quot;Bureau of Corrections&quot;</td><td>&quot;2025-01-14&quot;</td><td>&quot;2025-01-24&quot;</td><td>&quot;Corrections Officer I&quot;</td><td>&quot;11&quot;</td><td>29668</td><td>&quot;RA 1080/ CS Professional/ CSC …</td><td>&quot;Bachelor&#x27;s Degree&quot;</td><td>&quot;None required&quot;</td><td>&quot;None required&quot;</td><td>&quot;N/A&quot;</td><td>&quot;BCORB-CO1-890-2024&quot;</td><td>-7.061832</td><td>-7.387201</td><td>-8.148396</td><td>-8.596694</td><td>-7.173544</td><td>-7.792544</td><td>0.0</td></tr><tr><td>4365994</td><td>&quot;DEPARTMENT OF EDUCATION&quot;</td><td>&quot;Region V&quot;</td><td>&quot;Elementary&quot;</td><td>&quot;2025-02-24&quot;</td><td>&quot;2025-03-07&quot;</td><td>&quot;Teacher III&quot;</td><td>&quot;13&quot;</td><td>34421</td><td>&quot;RA 1080 (Teacher)&quot;</td><td>&quot;Bachelor of Elementary&quot;</td><td>&quot;None Required&quot;</td><td>&quot;2 years relevant experience&quot;</td><td>&quot;N/A&quot;</td><td>&quot;OSEC-DECSB-TCH3-391749-2020&quot;</td><td>-7.144463</td><td>-9.257008</td><td>-7.199483</td><td>-7.627974</td><td>-7.368425</td><td>-8.287629</td><td>2.0</td></tr><tr><td>4286569</td><td>&quot;DEPARTMENT OF INFORMATION AND …</td><td>&quot;NCR&quot;</td><td>&quot;Regional Office V - Technical …</td><td>&quot;2025-01-15&quot;</td><td>&quot;2025-01-25&quot;</td><td>&quot;Information Technology Officer…</td><td>&quot;19&quot;</td><td>53873</td><td>&quot;Career Service (Professional) …</td><td>&quot;Bachelor&#x27;s degree relevant to …</td><td>&quot;8 hours of relevant training&quot;</td><td>&quot;2 years of relevant experience&quot;</td><td>&quot;&quot;</td><td>&quot;OSEC-DICTB-ITO1-39-2021&quot;</td><td>-7.524817</td><td>-10.336653</td><td>-8.253963</td><td>-7.69224</td><td>-8.715439</td><td>-8.864186</td><td>2.0</td></tr><tr><td>4340306</td><td>&quot;MGO LA TRINIDAD (CAPITAL), BEN…</td><td>&quot;CAR&quot;</td><td>&quot;Municipal Accounting Office&quot;</td><td>&quot;2025-02-17&quot;</td><td>&quot;2025-03-04&quot;</td><td>&quot;Administrative Assistant II (B…</td><td>&quot;8&quot;</td><td>20534</td><td>&quot;Career Service Subrofessional/…</td><td>&quot;Completion of two (2) years st…</td><td>&quot;Four (4) hours relevant traini…</td><td>&quot;One (1) year relevant experien…</td><td>&quot;&quot;</td><td>&quot;180&quot;</td><td>-6.499417</td><td>-9.645591</td><td>-9.569311</td><td>-7.626398</td><td>-7.607036</td><td>-7.880908</td><td>1.0</td></tr></tbody></table></div>"
      ],
      "text/plain": [
       "shape: (109_525, 22)\n",
       "┌─────────┬────────────┬───────────┬───────────┬───┬───────────┬───────────┬───────────┬───────────┐\n",
       "│ jobId   ┆ Agency     ┆ Region    ┆ PlaceOfAs ┆ … ┆ experienc ┆ eligibili ┆ salarygra ┆ experienc │\n",
       "│ ---     ┆ ---        ┆ ---       ┆ signment  ┆   ┆ e_embeddi ┆ ty_embedd ┆ de_embedd ┆ e_years   │\n",
       "│ i64     ┆ str        ┆ str       ┆ ---       ┆   ┆ ng        ┆ ing       ┆ ing       ┆ ---       │\n",
       "│         ┆            ┆           ┆ str       ┆   ┆ ---       ┆ ---       ┆ ---       ┆ f32       │\n",
       "│         ┆            ┆           ┆           ┆   ┆ f64       ┆ f64       ┆ f64       ┆           │\n",
       "╞═════════╪════════════╪═══════════╪═══════════╪═══╪═══════════╪═══════════╪═══════════╪═══════════╡\n",
       "│ 4235342 ┆ BICOL      ┆ Region V  ┆ Division  ┆ … ┆ -8.596694 ┆ -7.49356  ┆ -8.301358 ┆ 0.0       │\n",
       "│         ┆ MEDICAL    ┆           ┆ Office,   ┆   ┆           ┆           ┆           ┆           │\n",
       "│         ┆ CENTER     ┆           ┆ Division  ┆   ┆           ┆           ┆           ┆           │\n",
       "│         ┆            ┆           ┆ of A…     ┆   ┆           ┆           ┆           ┆           │\n",
       "│ 4267059 ┆ COTABATO   ┆ Region    ┆ PETDU-CRM ┆ … ┆ -6.840691 ┆ -7.659439 ┆ -8.37644  ┆ 1.0       │\n",
       "│         ┆ REGIONAL   ┆ XII       ┆ C         ┆   ┆           ┆           ┆           ┆           │\n",
       "│         ┆ AND        ┆           ┆ Cotabato  ┆   ┆           ┆           ┆           ┆           │\n",
       "│         ┆ MEDICAL …  ┆           ┆ City      ┆   ┆           ┆           ┆           ┆           │\n",
       "│ 4325512 ┆ DEPARTMENT ┆ Region    ┆ ELEMENTAR ┆ … ┆ -6.978828 ┆ -7.597981 ┆ -8.679143 ┆ 2.5       │\n",
       "│         ┆ OF         ┆ XII       ┆ Y- SDO    ┆   ┆           ┆           ┆           ┆           │\n",
       "│         ┆ EDUCATION  ┆           ┆ SULTAN    ┆   ┆           ┆           ┆           ┆           │\n",
       "│         ┆            ┆           ┆ KUDARAT   ┆   ┆           ┆           ┆           ┆           │\n",
       "│ 4347023 ┆ MANILA,    ┆ NCR       ┆ ELEMENTAR ┆ … ┆ -7.69224  ┆ -7.368425 ┆ -8.287629 ┆ 2.0       │\n",
       "│         ┆ NCR        ┆           ┆ Y SCHOOLS ┆   ┆           ┆           ┆           ┆           │\n",
       "│ 4318456 ┆ DEPARTMENT ┆ Region XI ┆ Sta. Cruz ┆ … ┆ -7.33181  ┆ -6.765957 ┆ -8.259463 ┆ 3.0       │\n",
       "│         ┆ OF         ┆           ┆ National  ┆   ┆           ┆           ┆           ┆           │\n",
       "│         ┆ EDUCATION  ┆           ┆ High      ┆   ┆           ┆           ┆           ┆           │\n",
       "│         ┆            ┆           ┆ School    ┆   ┆           ┆           ┆           ┆           │\n",
       "│ …       ┆ …          ┆ …         ┆ …         ┆ … ┆ …         ┆ …         ┆ …         ┆ …         │\n",
       "│ 4247090 ┆ DEPARTMENT ┆ Region IV ┆ Schools   ┆ … ┆ -7.732252 ┆ -7.570666 ┆ -7.962153 ┆ 1.0       │\n",
       "│         ┆ OF         ┆           ┆ Division  ┆   ┆           ┆           ┆           ┆           │\n",
       "│         ┆ EDUCATION  ┆           ┆ of Lipa   ┆   ┆           ┆           ┆           ┆           │\n",
       "│         ┆            ┆           ┆ City …    ┆   ┆           ┆           ┆           ┆           │\n",
       "│ 4319185 ┆ BUREAU OF  ┆ NCR       ┆ Bureau of ┆ … ┆ -8.596694 ┆ -7.173544 ┆ -7.792544 ┆ 0.0       │\n",
       "│         ┆ CORRECTION ┆           ┆ Correctio ┆   ┆           ┆           ┆           ┆           │\n",
       "│         ┆ S          ┆           ┆ ns        ┆   ┆           ┆           ┆           ┆           │\n",
       "│ 4365994 ┆ DEPARTMENT ┆ Region V  ┆ Elementar ┆ … ┆ -7.627974 ┆ -7.368425 ┆ -8.287629 ┆ 2.0       │\n",
       "│         ┆ OF         ┆           ┆ y         ┆   ┆           ┆           ┆           ┆           │\n",
       "│         ┆ EDUCATION  ┆           ┆           ┆   ┆           ┆           ┆           ┆           │\n",
       "│ 4286569 ┆ DEPARTMENT ┆ NCR       ┆ Regional  ┆ … ┆ -7.69224  ┆ -8.715439 ┆ -8.864186 ┆ 2.0       │\n",
       "│         ┆ OF INFORMA ┆           ┆ Office V  ┆   ┆           ┆           ┆           ┆           │\n",
       "│         ┆ TION AND … ┆           ┆ -         ┆   ┆           ┆           ┆           ┆           │\n",
       "│         ┆            ┆           ┆ Technical ┆   ┆           ┆           ┆           ┆           │\n",
       "│         ┆            ┆           ┆ …         ┆   ┆           ┆           ┆           ┆           │\n",
       "│ 4340306 ┆ MGO LA     ┆ CAR       ┆ Municipal ┆ … ┆ -7.626398 ┆ -7.607036 ┆ -7.880908 ┆ 1.0       │\n",
       "│         ┆ TRINIDAD   ┆           ┆ Accountin ┆   ┆           ┆           ┆           ┆           │\n",
       "│         ┆ (CAPITAL), ┆           ┆ g Office  ┆   ┆           ┆           ┆           ┆           │\n",
       "│         ┆ BEN…       ┆           ┆           ┆   ┆           ┆           ┆           ┆           │\n",
       "└─────────┴────────────┴───────────┴───────────┴───┴───────────┴───────────┴───────────┴───────────┘"
      ]
     },
     "execution_count": 38,
     "metadata": {},
     "output_type": "execute_result"
    }
   ],
   "source": [
    "data"
   ]
  },
  {
   "cell_type": "code",
   "execution_count": 45,
   "id": "e2879307",
   "metadata": {},
   "outputs": [
    {
     "name": "stderr",
     "output_type": "stream",
     "text": [
      "C:\\Users\\Andrei\\AppData\\Local\\Temp\\ipykernel_20728\\3395952824.py:1: MapWithoutReturnDtypeWarning: Calling `map_elements` without specifying `return_dtype` can lead to unpredictable results. Specify `return_dtype` to silence this warning.\n",
      "  test_data = data.with_columns(pl.col(\"Position Title\").map_elements(lambda x: get_cls_embedding(x, tokenizer, model)).alias(\"positiontitle_embedding\"))\n"
     ]
    }
   ],
   "source": [
    "test_data = data.with_columns(pl.col(\"Position Title\").map_elements(lambda x: get_cls_embedding(x, tokenizer, model)).alias(\"positiontitle_embedding\"))"
   ]
  },
  {
   "cell_type": "code",
   "execution_count": 47,
   "id": "544751b3",
   "metadata": {},
   "outputs": [
    {
     "data": {
      "text/html": [
       "<div><style>\n",
       ".dataframe > thead > tr,\n",
       ".dataframe > tbody > tr {\n",
       "  text-align: right;\n",
       "  white-space: pre-wrap;\n",
       "}\n",
       "</style>\n",
       "<small>shape: (109_525, 22)</small><table border=\"1\" class=\"dataframe\"><thead><tr><th>jobId</th><th>Agency</th><th>Region</th><th>PlaceOfAssignment</th><th>Posting Date</th><th>Closing Date</th><th>Position Title</th><th>SalaryGrade</th><th>MonthlySalary</th><th>Eligibility</th><th>Education</th><th>Training</th><th>Experience</th><th>Competency</th><th>Plantilla Item No.</th><th>positiontitle_embedding</th><th>agency_embedding</th><th>education_embedding</th><th>experience_embedding</th><th>eligibility_embedding</th><th>salarygrade_embedding</th><th>experience_years</th></tr><tr><td>i64</td><td>str</td><td>str</td><td>str</td><td>str</td><td>str</td><td>str</td><td>str</td><td>i64</td><td>str</td><td>str</td><td>str</td><td>str</td><td>str</td><td>str</td><td>f64</td><td>f64</td><td>f64</td><td>f64</td><td>f64</td><td>f64</td><td>f32</td></tr></thead><tbody><tr><td>4235342</td><td>&quot;BICOL MEDICAL CENTER&quot;</td><td>&quot;Region V&quot;</td><td>&quot;Division Office, Division of A…</td><td>&quot;2024-12-06&quot;</td><td>&quot;2024-12-16&quot;</td><td>&quot;NURSE III&quot;</td><td>&quot;14&quot;</td><td>33843</td><td>&quot;PBET/LET/RA1080 Teacher&quot;</td><td>&quot;Bachelor&#x27;s degree in&quot;</td><td>&quot;None Required&quot;</td><td>&quot;None Required&quot;</td><td>&quot;N/A&quot;</td><td>&quot;OSEC-DOHB-NURS3-390074-2015&quot;</td><td>-6.958827</td><td>-7.893728</td><td>-7.534733</td><td>-8.596694</td><td>-7.49356</td><td>-8.301358</td><td>0.0</td></tr><tr><td>4267059</td><td>&quot;COTABATO REGIONAL AND MEDICAL …</td><td>&quot;Region XII&quot;</td><td>&quot;PETDU-CRMC Cotabato City&quot;</td><td>&quot;2025-01-08&quot;</td><td>&quot;2025-01-18&quot;</td><td>&quot;Training Specialist II&quot;</td><td>&quot;15&quot;</td><td>38413</td><td>&quot;Career Service Professional/Se…</td><td>&quot;Bachelor&#x27;S Degree&quot;</td><td>&quot;Specialist II&quot;</td><td>&quot;1 Year Of Relevant&quot;</td><td>&quot;&quot;</td><td>&quot;OSEC-DOHB-TRNSP2-840012-2024&quot;</td><td>-6.890889</td><td>-7.494605</td><td>-8.148396</td><td>-6.840691</td><td>-7.659439</td><td>-8.37644</td><td>1.0</td></tr><tr><td>4325512</td><td>&quot;DEPARTMENT OF EDUCATION&quot;</td><td>&quot;Region XII&quot;</td><td>&quot;ELEMENTARY- SDO SULTAN KUDARAT&quot;</td><td>&quot;2025-02-07&quot;</td><td>&quot;2025-02-17&quot;</td><td>&quot;Head Teacher IV&quot;</td><td>&quot;17&quot;</td><td>47247</td><td>&quot;RA 1080, as amended (Teacher)&quot;</td><td>&quot;Bachelor&#x27;s degree in Elementar…</td><td>&quot;24 hours of relevant training&quot;</td><td>&quot;HT for 3 years; or MT for 2 ye…</td><td>&quot;&quot;</td><td>&quot;OSEC-DECSB-HTEACH4-840037-2021&quot;</td><td>-6.772378</td><td>-9.257008</td><td>-7.813778</td><td>-6.978828</td><td>-7.597981</td><td>-8.679143</td><td>2.5</td></tr><tr><td>4347023</td><td>&quot;MANILA, NCR&quot;</td><td>&quot;NCR&quot;</td><td>&quot;ELEMENTARY SCHOOLS&quot;</td><td>&quot;2025-02-19&quot;</td><td>&quot;2025-03-03&quot;</td><td>&quot;TEACHER III&quot;</td><td>&quot;13&quot;</td><td>34421</td><td>&quot;RA 1080 (TEACHER)&quot;</td><td>&quot;BEED or Bachelor&#x27;s Degree plus…</td><td>&quot;None Required&quot;</td><td>&quot;2 years of relevant experience&quot;</td><td>&quot;Not Applicable&quot;</td><td>&quot;OSEC-DECSB-TCH3-33077-1998&quot;</td><td>-6.761898</td><td>-7.815163</td><td>-6.617424</td><td>-7.69224</td><td>-7.368425</td><td>-8.287629</td><td>2.0</td></tr><tr><td>4318456</td><td>&quot;DEPARTMENT OF EDUCATION&quot;</td><td>&quot;Region XI&quot;</td><td>&quot;Sta. Cruz National High School&quot;</td><td>&quot;2025-02-04&quot;</td><td>&quot;2025-02-14&quot;</td><td>&quot;MASTER TEACHER I (Secondary Gr…</td><td>&quot;18&quot;</td><td>51304</td><td>&quot;PBET/Teacher/RA 1080&quot;</td><td>&quot;Bachelor of Secondary&quot;</td><td>&quot;None Required&quot;</td><td>&quot;3 Years Relevant&quot;</td><td>&quot;N/A&quot;</td><td>&quot;OSEC-DECSB-MTCHR1-750206-2021&quot;</td><td>-6.923392</td><td>-9.257008</td><td>-7.452889</td><td>-7.33181</td><td>-6.765957</td><td>-8.259463</td><td>3.0</td></tr><tr><td>&hellip;</td><td>&hellip;</td><td>&hellip;</td><td>&hellip;</td><td>&hellip;</td><td>&hellip;</td><td>&hellip;</td><td>&hellip;</td><td>&hellip;</td><td>&hellip;</td><td>&hellip;</td><td>&hellip;</td><td>&hellip;</td><td>&hellip;</td><td>&hellip;</td><td>&hellip;</td><td>&hellip;</td><td>&hellip;</td><td>&hellip;</td><td>&hellip;</td><td>&hellip;</td><td>&hellip;</td></tr><tr><td>4247090</td><td>&quot;DEPARTMENT OF EDUCATION&quot;</td><td>&quot;Region IV&quot;</td><td>&quot;Schools Division of Lipa City …</td><td>&quot;2024-12-17&quot;</td><td>&quot;2024-12-27&quot;</td><td>&quot;Teacher II&quot;</td><td>&quot;12&quot;</td><td>30705</td><td>&quot;RA 1080, Teacher&quot;</td><td>&quot;Bachelor of Secondary&quot;</td><td>&quot;None Required&quot;</td><td>&quot;1 year of relevant experience&quot;</td><td>&quot;N/A&quot;</td><td>&quot;OSEC-DECSB-TCH2-240048-2001&quot;</td><td>-6.548726</td><td>-9.257008</td><td>-7.452889</td><td>-7.732252</td><td>-7.570666</td><td>-7.962153</td><td>1.0</td></tr><tr><td>4319185</td><td>&quot;BUREAU OF CORRECTIONS&quot;</td><td>&quot;NCR&quot;</td><td>&quot;Bureau of Corrections&quot;</td><td>&quot;2025-01-14&quot;</td><td>&quot;2025-01-24&quot;</td><td>&quot;Corrections Officer I&quot;</td><td>&quot;11&quot;</td><td>29668</td><td>&quot;RA 1080/ CS Professional/ CSC …</td><td>&quot;Bachelor&#x27;s Degree&quot;</td><td>&quot;None required&quot;</td><td>&quot;None required&quot;</td><td>&quot;N/A&quot;</td><td>&quot;BCORB-CO1-890-2024&quot;</td><td>-6.973213</td><td>-7.387201</td><td>-8.148396</td><td>-8.596694</td><td>-7.173544</td><td>-7.792544</td><td>0.0</td></tr><tr><td>4365994</td><td>&quot;DEPARTMENT OF EDUCATION&quot;</td><td>&quot;Region V&quot;</td><td>&quot;Elementary&quot;</td><td>&quot;2025-02-24&quot;</td><td>&quot;2025-03-07&quot;</td><td>&quot;Teacher III&quot;</td><td>&quot;13&quot;</td><td>34421</td><td>&quot;RA 1080 (Teacher)&quot;</td><td>&quot;Bachelor of Elementary&quot;</td><td>&quot;None Required&quot;</td><td>&quot;2 years relevant experience&quot;</td><td>&quot;N/A&quot;</td><td>&quot;OSEC-DECSB-TCH3-391749-2020&quot;</td><td>-6.761898</td><td>-9.257008</td><td>-7.199483</td><td>-7.627974</td><td>-7.368425</td><td>-8.287629</td><td>2.0</td></tr><tr><td>4286569</td><td>&quot;DEPARTMENT OF INFORMATION AND …</td><td>&quot;NCR&quot;</td><td>&quot;Regional Office V - Technical …</td><td>&quot;2025-01-15&quot;</td><td>&quot;2025-01-25&quot;</td><td>&quot;Information Technology Officer…</td><td>&quot;19&quot;</td><td>53873</td><td>&quot;Career Service (Professional) …</td><td>&quot;Bachelor&#x27;s degree relevant to …</td><td>&quot;8 hours of relevant training&quot;</td><td>&quot;2 years of relevant experience&quot;</td><td>&quot;&quot;</td><td>&quot;OSEC-DICTB-ITO1-39-2021&quot;</td><td>-7.036417</td><td>-10.336653</td><td>-8.253963</td><td>-7.69224</td><td>-8.715439</td><td>-8.864186</td><td>2.0</td></tr><tr><td>4340306</td><td>&quot;MGO LA TRINIDAD (CAPITAL), BEN…</td><td>&quot;CAR&quot;</td><td>&quot;Municipal Accounting Office&quot;</td><td>&quot;2025-02-17&quot;</td><td>&quot;2025-03-04&quot;</td><td>&quot;Administrative Assistant II (B…</td><td>&quot;8&quot;</td><td>20534</td><td>&quot;Career Service Subrofessional/…</td><td>&quot;Completion of two (2) years st…</td><td>&quot;Four (4) hours relevant traini…</td><td>&quot;One (1) year relevant experien…</td><td>&quot;&quot;</td><td>&quot;180&quot;</td><td>-8.02503</td><td>-9.645591</td><td>-9.569311</td><td>-7.626398</td><td>-7.607036</td><td>-7.880908</td><td>1.0</td></tr></tbody></table></div>"
      ],
      "text/plain": [
       "shape: (109_525, 22)\n",
       "┌─────────┬────────────┬───────────┬───────────┬───┬───────────┬───────────┬───────────┬───────────┐\n",
       "│ jobId   ┆ Agency     ┆ Region    ┆ PlaceOfAs ┆ … ┆ experienc ┆ eligibili ┆ salarygra ┆ experienc │\n",
       "│ ---     ┆ ---        ┆ ---       ┆ signment  ┆   ┆ e_embeddi ┆ ty_embedd ┆ de_embedd ┆ e_years   │\n",
       "│ i64     ┆ str        ┆ str       ┆ ---       ┆   ┆ ng        ┆ ing       ┆ ing       ┆ ---       │\n",
       "│         ┆            ┆           ┆ str       ┆   ┆ ---       ┆ ---       ┆ ---       ┆ f32       │\n",
       "│         ┆            ┆           ┆           ┆   ┆ f64       ┆ f64       ┆ f64       ┆           │\n",
       "╞═════════╪════════════╪═══════════╪═══════════╪═══╪═══════════╪═══════════╪═══════════╪═══════════╡\n",
       "│ 4235342 ┆ BICOL      ┆ Region V  ┆ Division  ┆ … ┆ -8.596694 ┆ -7.49356  ┆ -8.301358 ┆ 0.0       │\n",
       "│         ┆ MEDICAL    ┆           ┆ Office,   ┆   ┆           ┆           ┆           ┆           │\n",
       "│         ┆ CENTER     ┆           ┆ Division  ┆   ┆           ┆           ┆           ┆           │\n",
       "│         ┆            ┆           ┆ of A…     ┆   ┆           ┆           ┆           ┆           │\n",
       "│ 4267059 ┆ COTABATO   ┆ Region    ┆ PETDU-CRM ┆ … ┆ -6.840691 ┆ -7.659439 ┆ -8.37644  ┆ 1.0       │\n",
       "│         ┆ REGIONAL   ┆ XII       ┆ C         ┆   ┆           ┆           ┆           ┆           │\n",
       "│         ┆ AND        ┆           ┆ Cotabato  ┆   ┆           ┆           ┆           ┆           │\n",
       "│         ┆ MEDICAL …  ┆           ┆ City      ┆   ┆           ┆           ┆           ┆           │\n",
       "│ 4325512 ┆ DEPARTMENT ┆ Region    ┆ ELEMENTAR ┆ … ┆ -6.978828 ┆ -7.597981 ┆ -8.679143 ┆ 2.5       │\n",
       "│         ┆ OF         ┆ XII       ┆ Y- SDO    ┆   ┆           ┆           ┆           ┆           │\n",
       "│         ┆ EDUCATION  ┆           ┆ SULTAN    ┆   ┆           ┆           ┆           ┆           │\n",
       "│         ┆            ┆           ┆ KUDARAT   ┆   ┆           ┆           ┆           ┆           │\n",
       "│ 4347023 ┆ MANILA,    ┆ NCR       ┆ ELEMENTAR ┆ … ┆ -7.69224  ┆ -7.368425 ┆ -8.287629 ┆ 2.0       │\n",
       "│         ┆ NCR        ┆           ┆ Y SCHOOLS ┆   ┆           ┆           ┆           ┆           │\n",
       "│ 4318456 ┆ DEPARTMENT ┆ Region XI ┆ Sta. Cruz ┆ … ┆ -7.33181  ┆ -6.765957 ┆ -8.259463 ┆ 3.0       │\n",
       "│         ┆ OF         ┆           ┆ National  ┆   ┆           ┆           ┆           ┆           │\n",
       "│         ┆ EDUCATION  ┆           ┆ High      ┆   ┆           ┆           ┆           ┆           │\n",
       "│         ┆            ┆           ┆ School    ┆   ┆           ┆           ┆           ┆           │\n",
       "│ …       ┆ …          ┆ …         ┆ …         ┆ … ┆ …         ┆ …         ┆ …         ┆ …         │\n",
       "│ 4247090 ┆ DEPARTMENT ┆ Region IV ┆ Schools   ┆ … ┆ -7.732252 ┆ -7.570666 ┆ -7.962153 ┆ 1.0       │\n",
       "│         ┆ OF         ┆           ┆ Division  ┆   ┆           ┆           ┆           ┆           │\n",
       "│         ┆ EDUCATION  ┆           ┆ of Lipa   ┆   ┆           ┆           ┆           ┆           │\n",
       "│         ┆            ┆           ┆ City …    ┆   ┆           ┆           ┆           ┆           │\n",
       "│ 4319185 ┆ BUREAU OF  ┆ NCR       ┆ Bureau of ┆ … ┆ -8.596694 ┆ -7.173544 ┆ -7.792544 ┆ 0.0       │\n",
       "│         ┆ CORRECTION ┆           ┆ Correctio ┆   ┆           ┆           ┆           ┆           │\n",
       "│         ┆ S          ┆           ┆ ns        ┆   ┆           ┆           ┆           ┆           │\n",
       "│ 4365994 ┆ DEPARTMENT ┆ Region V  ┆ Elementar ┆ … ┆ -7.627974 ┆ -7.368425 ┆ -8.287629 ┆ 2.0       │\n",
       "│         ┆ OF         ┆           ┆ y         ┆   ┆           ┆           ┆           ┆           │\n",
       "│         ┆ EDUCATION  ┆           ┆           ┆   ┆           ┆           ┆           ┆           │\n",
       "│ 4286569 ┆ DEPARTMENT ┆ NCR       ┆ Regional  ┆ … ┆ -7.69224  ┆ -8.715439 ┆ -8.864186 ┆ 2.0       │\n",
       "│         ┆ OF INFORMA ┆           ┆ Office V  ┆   ┆           ┆           ┆           ┆           │\n",
       "│         ┆ TION AND … ┆           ┆ -         ┆   ┆           ┆           ┆           ┆           │\n",
       "│         ┆            ┆           ┆ Technical ┆   ┆           ┆           ┆           ┆           │\n",
       "│         ┆            ┆           ┆ …         ┆   ┆           ┆           ┆           ┆           │\n",
       "│ 4340306 ┆ MGO LA     ┆ CAR       ┆ Municipal ┆ … ┆ -7.626398 ┆ -7.607036 ┆ -7.880908 ┆ 1.0       │\n",
       "│         ┆ TRINIDAD   ┆           ┆ Accountin ┆   ┆           ┆           ┆           ┆           │\n",
       "│         ┆ (CAPITAL), ┆           ┆ g Office  ┆   ┆           ┆           ┆           ┆           │\n",
       "│         ┆ BEN…       ┆           ┆           ┆   ┆           ┆           ┆           ┆           │\n",
       "└─────────┴────────────┴───────────┴───────────┴───┴───────────┴───────────┴───────────┴───────────┘"
      ]
     },
     "execution_count": 47,
     "metadata": {},
     "output_type": "execute_result"
    }
   ],
   "source": [
    "from sklearn.model_selection import train_test_split\n",
    "test_data"
   ]
  },
  {
   "cell_type": "code",
   "execution_count": 61,
   "id": "ff237da4",
   "metadata": {},
   "outputs": [],
   "source": [
    "step1 = test_data.filter(pl.col(\"MonthlySalary\") > 100)\n",
    "\n",
    "q1 = step1[\"MonthlySalary\"].quantile(0.25)\n",
    "q3 = step1[\"MonthlySalary\"].quantile(0.75)\n",
    "iqr = q3 - q1\n",
    "\n",
    "step2 = step1.filter(\n",
    "        (pl.col(\"MonthlySalary\") >= q1 - 1.5 * iqr)\n",
    "        & (pl.col(\"MonthlySalary\") <= q3 + 1.5 * iqr)\n",
    "    )\n",
    "\n",
    "processed_df_2 = step2\n",
    "\n",
    "train_data = processed_df_2.select(\n",
    "    [\n",
    "        pl.col(\"positiontitle_embedding\"),\n",
    "        pl.col(\"agency_embedding\"),\n",
    "        pl.col(\"education_embedding\"),\n",
    "        pl.col(\"experience_years\"),\n",
    "        pl.col(\"eligibility_embedding\"),\n",
    "        pl.col(\"MonthlySalary\"),\n",
    "    ]\n",
    ")"
   ]
  },
  {
   "cell_type": "code",
   "execution_count": 72,
   "id": "59466a95",
   "metadata": {},
   "outputs": [
    {
     "data": {
      "text/html": [
       "<div><style>\n",
       ".dataframe > thead > tr,\n",
       ".dataframe > tbody > tr {\n",
       "  text-align: right;\n",
       "  white-space: pre-wrap;\n",
       "}\n",
       "</style>\n",
       "<small>shape: (98_368, 6)</small><table border=\"1\" class=\"dataframe\"><thead><tr><th>positiontitle_embedding</th><th>agency_embedding</th><th>education_embedding</th><th>experience_years</th><th>eligibility_embedding</th><th>MonthlySalary</th></tr><tr><td>f64</td><td>f64</td><td>f64</td><td>f32</td><td>f64</td><td>i64</td></tr></thead><tbody><tr><td>-6.958827</td><td>-7.893728</td><td>-7.534733</td><td>0.0</td><td>-7.49356</td><td>33843</td></tr><tr><td>-6.890889</td><td>-7.494605</td><td>-8.148396</td><td>1.0</td><td>-7.659439</td><td>38413</td></tr><tr><td>-6.772378</td><td>-9.257008</td><td>-7.813778</td><td>2.5</td><td>-7.597981</td><td>47247</td></tr><tr><td>-6.761898</td><td>-7.815163</td><td>-6.617424</td><td>2.0</td><td>-7.368425</td><td>34421</td></tr><tr><td>-6.923392</td><td>-9.257008</td><td>-7.452889</td><td>3.0</td><td>-6.765957</td><td>51304</td></tr><tr><td>&hellip;</td><td>&hellip;</td><td>&hellip;</td><td>&hellip;</td><td>&hellip;</td><td>&hellip;</td></tr><tr><td>-6.548726</td><td>-9.257008</td><td>-7.452889</td><td>1.0</td><td>-7.570666</td><td>30705</td></tr><tr><td>-6.973213</td><td>-7.387201</td><td>-8.148396</td><td>0.0</td><td>-7.173544</td><td>29668</td></tr><tr><td>-6.761898</td><td>-9.257008</td><td>-7.199483</td><td>2.0</td><td>-7.368425</td><td>34421</td></tr><tr><td>-7.036417</td><td>-10.336653</td><td>-8.253963</td><td>2.0</td><td>-8.715439</td><td>53873</td></tr><tr><td>-8.02503</td><td>-9.645591</td><td>-9.569311</td><td>1.0</td><td>-7.607036</td><td>20534</td></tr></tbody></table></div>"
      ],
      "text/plain": [
       "shape: (98_368, 6)\n",
       "┌────────────────┬────────────────┬────────────────┬───────────────┬───────────────┬───────────────┐\n",
       "│ positiontitle_ ┆ agency_embeddi ┆ education_embe ┆ experience_ye ┆ eligibility_e ┆ MonthlySalary │\n",
       "│ embedding      ┆ ng             ┆ dding          ┆ ars           ┆ mbedding      ┆ ---           │\n",
       "│ ---            ┆ ---            ┆ ---            ┆ ---           ┆ ---           ┆ i64           │\n",
       "│ f64            ┆ f64            ┆ f64            ┆ f32           ┆ f64           ┆               │\n",
       "╞════════════════╪════════════════╪════════════════╪═══════════════╪═══════════════╪═══════════════╡\n",
       "│ -6.958827      ┆ -7.893728      ┆ -7.534733      ┆ 0.0           ┆ -7.49356      ┆ 33843         │\n",
       "│ -6.890889      ┆ -7.494605      ┆ -8.148396      ┆ 1.0           ┆ -7.659439     ┆ 38413         │\n",
       "│ -6.772378      ┆ -9.257008      ┆ -7.813778      ┆ 2.5           ┆ -7.597981     ┆ 47247         │\n",
       "│ -6.761898      ┆ -7.815163      ┆ -6.617424      ┆ 2.0           ┆ -7.368425     ┆ 34421         │\n",
       "│ -6.923392      ┆ -9.257008      ┆ -7.452889      ┆ 3.0           ┆ -6.765957     ┆ 51304         │\n",
       "│ …              ┆ …              ┆ …              ┆ …             ┆ …             ┆ …             │\n",
       "│ -6.548726      ┆ -9.257008      ┆ -7.452889      ┆ 1.0           ┆ -7.570666     ┆ 30705         │\n",
       "│ -6.973213      ┆ -7.387201      ┆ -8.148396      ┆ 0.0           ┆ -7.173544     ┆ 29668         │\n",
       "│ -6.761898      ┆ -9.257008      ┆ -7.199483      ┆ 2.0           ┆ -7.368425     ┆ 34421         │\n",
       "│ -7.036417      ┆ -10.336653     ┆ -8.253963      ┆ 2.0           ┆ -8.715439     ┆ 53873         │\n",
       "│ -8.02503       ┆ -9.645591      ┆ -9.569311      ┆ 1.0           ┆ -7.607036     ┆ 20534         │\n",
       "└────────────────┴────────────────┴────────────────┴───────────────┴───────────────┴───────────────┘"
      ]
     },
     "execution_count": 72,
     "metadata": {},
     "output_type": "execute_result"
    }
   ],
   "source": [
    "train_data"
   ]
  },
  {
   "cell_type": "code",
   "execution_count": 73,
   "id": "7d1e1542",
   "metadata": {},
   "outputs": [],
   "source": [
    "processed_df_2.write_parquet(PROCESSED_DATA_DIR / \"CivilServiceCommission\" / \"civilservicecommission-embedded-training-data-(finetuned-position).parquet\")"
   ]
  },
  {
   "cell_type": "code",
   "execution_count": null,
   "id": "432c2843",
   "metadata": {},
   "outputs": [],
   "source": [
    "X = train_data.drop(\"MonthlySalary\").to_numpy()\n",
    "y = train_data.select(\"MonthlySalary\").to_numpy()\n",
    "\n",
    "X_train, X_test, y_train, y_test = train_test_split(X, y, test_size=0.2)\n",
    "\n",
    "from sklearn.neighbors import KNeighborsRegressor\n",
    "best_knn_model = KNeighborsRegressor(metric=\"manhattan\", n_neighbors=11)\n",
    "best_knn_model.fit(X_train, y_train)\n",
    "\n",
    "best_preds = best_knn_model.predict(X_test)\n",
    "\n",
    "# print_results(y_test, best_preds, \"Best KNN Model (Just Right)\")\n",
    "# print_results(y_test, overfitting_model.predict(X_test), \"Overfitting KNN Model\")\n",
    "best_knn_model.score(X_test, y_test)"
   ]
  },
  {
   "cell_type": "code",
   "execution_count": 69,
   "id": "3f566541",
   "metadata": {},
   "outputs": [],
   "source": [
    "results = []\n",
    "\n",
    "\n",
    "for i in range(0, 100):\n",
    "    score = best_knn_model.score(X_test, y_test)\n",
    "    results.append(score)"
   ]
  },
  {
   "cell_type": "code",
   "execution_count": 71,
   "id": "18ef5cd2",
   "metadata": {},
   "outputs": [
    {
     "data": {
      "text/plain": [
       "(np.float64(0.8814091979391937), np.float64(2.220446049250313e-16))"
      ]
     },
     "execution_count": 71,
     "metadata": {},
     "output_type": "execute_result"
    }
   ],
   "source": [
    "import numpy as np\n",
    "import matplotlib.pyplot as plt\n",
    "\n",
    "np.mean(results), np.std(results)\n",
    "\n",
    "\n",
    "# plt.hist(results, bins=20)"
   ]
  }
 ],
 "metadata": {
  "kernelspec": {
   "display_name": ".venv",
   "language": "python",
   "name": "python3"
  },
  "language_info": {
   "codemirror_mode": {
    "name": "ipython",
    "version": 3
   },
   "file_extension": ".py",
   "mimetype": "text/x-python",
   "name": "python",
   "nbconvert_exporter": "python",
   "pygments_lexer": "ipython3",
   "version": "3.12.9"
  }
 },
 "nbformat": 4,
 "nbformat_minor": 5
}
