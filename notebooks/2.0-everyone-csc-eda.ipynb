{
 "cells": [
  {
   "cell_type": "markdown",
   "id": "7ddecb09",
   "metadata": {},
   "source": [
    "# Notebook Setup"
   ]
  },
  {
   "cell_type": "markdown",
   "id": "1c29807c",
   "metadata": {},
   "source": [
    "Importing libraries"
   ]
  },
  {
   "cell_type": "code",
   "execution_count": 7,
   "id": "d5198c11",
   "metadata": {},
   "outputs": [],
   "source": [
    "import pandas as pd\n",
    "import polars as pl\n",
    "import seaborn as sns\n",
    "import matplotlib.pyplot as plt\n",
    "\n",
    "from ml_final_project.config import PROCESSED_DATA_DIR, MPL_STYLE_DIR\n",
    "\n",
    "# Custom plotting style\n",
    "plt.style.use(MPL_STYLE_DIR / \"iragca_cmr10.mplstyle\")"
   ]
  },
  {
   "cell_type": "markdown",
   "id": "62c799cd",
   "metadata": {},
   "source": [
    "Loading the data"
   ]
  },
  {
   "cell_type": "code",
   "execution_count": null,
   "id": "44ced2b3",
   "metadata": {},
   "outputs": [
    {
     "data": {
      "text/html": [
       "<div><style>\n",
       ".dataframe > thead > tr,\n",
       ".dataframe > tbody > tr {\n",
       "  text-align: right;\n",
       "  white-space: pre-wrap;\n",
       "}\n",
       "</style>\n",
       "<small>shape: (133_942, 7)</small><table border=\"1\" class=\"dataframe\"><thead><tr><th>Agency</th><th>Region</th><th>Position Title</th><th>Plantilla Item No.</th><th>Posting Date</th><th>Closing Date</th><th>Action</th></tr><tr><td>str</td><td>str</td><td>str</td><td>str</td><td>str</td><td>str</td><td>i64</td></tr></thead><tbody><tr><td>&quot;TECHNICAL EDUCATION AND SKILLS…</td><td>&quot;NCR&quot;</td><td>&quot;Supervising Technical Educatio…</td><td>&quot;TESDAB-SVTESDS-30017-2020&quot;</td><td>&quot;2025-04-10&quot;</td><td>&quot;2025-04-20&quot;</td><td>4397161</td></tr><tr><td>&quot;TECHNICAL EDUCATION AND SKILLS…</td><td>&quot;NCR&quot;</td><td>&quot;Administrative Assistant III&quot;</td><td>&quot;TESDAB-ADAS3-63-2017&quot;</td><td>&quot;2025-04-10&quot;</td><td>&quot;2025-04-20&quot;</td><td>4397165</td></tr><tr><td>&quot;TECHNICAL EDUCATION AND SKILLS…</td><td>&quot;NCR&quot;</td><td>&quot;Senior Technical Education and…</td><td>&quot;TESDAB-SRTESDS-30021-2020&quot;</td><td>&quot;2025-04-10&quot;</td><td>&quot;2025-04-20&quot;</td><td>4397164</td></tr><tr><td>&quot;TECHNICAL EDUCATION AND SKILLS…</td><td>&quot;NCR&quot;</td><td>&quot;Senior Technical Education and…</td><td>&quot;TESDAB-SRTESDS-30016-2020&quot;</td><td>&quot;2025-04-10&quot;</td><td>&quot;2025-04-20&quot;</td><td>4397163</td></tr><tr><td>&quot;TECHNICAL EDUCATION AND SKILLS…</td><td>&quot;NCR&quot;</td><td>&quot;Senior Technical Education and…</td><td>&quot;TESDAB-SRTESDS-30013-2020&quot;</td><td>&quot;2025-04-10&quot;</td><td>&quot;2025-04-20&quot;</td><td>4397162</td></tr><tr><td>&hellip;</td><td>&hellip;</td><td>&hellip;</td><td>&hellip;</td><td>&hellip;</td><td>&hellip;</td><td>&hellip;</td></tr><tr><td>&quot;DEPARTMENT OF EDUCATION&quot;</td><td>&quot;Region VIII&quot;</td><td>&quot;Administrative Aide III (Utili…</td><td>&quot;OSEC-DECSB-ADA3-540173-2004&quot;</td><td>&quot;2014-03-14&quot;</td><td>&quot;2027-03-24&quot;</td><td>3750678</td></tr><tr><td>&quot;DEPARTMENT OF EDUCATION&quot;</td><td>&quot;Region VIII&quot;</td><td>&quot;Administrative Assistant I (Se…</td><td>&quot;OSEC-DECSB-ADAS1-540036-2014&quot;</td><td>&quot;2014-03-14&quot;</td><td>&quot;2027-03-24&quot;</td><td>3750677</td></tr><tr><td>&quot;DEPARTMENT OF EDUCATION&quot;</td><td>&quot;Region VIII&quot;</td><td>&quot;Accountant I&quot;</td><td>&quot;OSEC-DECSB-A1-540034-2014&quot;</td><td>&quot;2014-03-14&quot;</td><td>&quot;2027-03-24&quot;</td><td>3750676</td></tr><tr><td>&quot;DEPARTMENT OF EDUCATION&quot;</td><td>&quot;Region VIII&quot;</td><td>&quot;Education Program Specialist I…</td><td>&quot;OSEC-DECSB-EPS2-540004-1998&quot;</td><td>&quot;2014-03-14&quot;</td><td>&quot;2027-03-24&quot;</td><td>3750675</td></tr><tr><td>&quot;DEPARTMENT OF HEALTH&quot;</td><td>&quot;CAR&quot;</td><td>&quot;Development Management Officer…</td><td>&quot;OSEC-DOHB-DMO4-90010-2014&quot;</td><td>&quot;2000-01-08&quot;</td><td>&quot;2025-01-19&quot;</td><td>4270568</td></tr></tbody></table></div>"
      ],
      "text/plain": [
       "shape: (133_942, 7)\n",
       "┌──────────────┬─────────────┬──────────────┬──────────────┬──────────────┬──────────────┬─────────┐\n",
       "│ Agency       ┆ Region      ┆ Position     ┆ Plantilla    ┆ Posting Date ┆ Closing Date ┆ Action  │\n",
       "│ ---          ┆ ---         ┆ Title        ┆ Item No.     ┆ ---          ┆ ---          ┆ ---     │\n",
       "│ str          ┆ str         ┆ ---          ┆ ---          ┆ str          ┆ str          ┆ i64     │\n",
       "│              ┆             ┆ str          ┆ str          ┆              ┆              ┆         │\n",
       "╞══════════════╪═════════════╪══════════════╪══════════════╪══════════════╪══════════════╪═════════╡\n",
       "│ TECHNICAL    ┆ NCR         ┆ Supervising  ┆ TESDAB-SVTES ┆ 2025-04-10   ┆ 2025-04-20   ┆ 4397161 │\n",
       "│ EDUCATION    ┆             ┆ Technical    ┆ DS-30017-202 ┆              ┆              ┆         │\n",
       "│ AND SKILLS…  ┆             ┆ Educatio…    ┆ 0            ┆              ┆              ┆         │\n",
       "│ TECHNICAL    ┆ NCR         ┆ Administrati ┆ TESDAB-ADAS3 ┆ 2025-04-10   ┆ 2025-04-20   ┆ 4397165 │\n",
       "│ EDUCATION    ┆             ┆ ve Assistant ┆ -63-2017     ┆              ┆              ┆         │\n",
       "│ AND SKILLS…  ┆             ┆ III          ┆              ┆              ┆              ┆         │\n",
       "│ TECHNICAL    ┆ NCR         ┆ Senior       ┆ TESDAB-SRTES ┆ 2025-04-10   ┆ 2025-04-20   ┆ 4397164 │\n",
       "│ EDUCATION    ┆             ┆ Technical    ┆ DS-30021-202 ┆              ┆              ┆         │\n",
       "│ AND SKILLS…  ┆             ┆ Education    ┆ 0            ┆              ┆              ┆         │\n",
       "│              ┆             ┆ and…         ┆              ┆              ┆              ┆         │\n",
       "│ TECHNICAL    ┆ NCR         ┆ Senior       ┆ TESDAB-SRTES ┆ 2025-04-10   ┆ 2025-04-20   ┆ 4397163 │\n",
       "│ EDUCATION    ┆             ┆ Technical    ┆ DS-30016-202 ┆              ┆              ┆         │\n",
       "│ AND SKILLS…  ┆             ┆ Education    ┆ 0            ┆              ┆              ┆         │\n",
       "│              ┆             ┆ and…         ┆              ┆              ┆              ┆         │\n",
       "│ TECHNICAL    ┆ NCR         ┆ Senior       ┆ TESDAB-SRTES ┆ 2025-04-10   ┆ 2025-04-20   ┆ 4397162 │\n",
       "│ EDUCATION    ┆             ┆ Technical    ┆ DS-30013-202 ┆              ┆              ┆         │\n",
       "│ AND SKILLS…  ┆             ┆ Education    ┆ 0            ┆              ┆              ┆         │\n",
       "│              ┆             ┆ and…         ┆              ┆              ┆              ┆         │\n",
       "│ …            ┆ …           ┆ …            ┆ …            ┆ …            ┆ …            ┆ …       │\n",
       "│ DEPARTMENT   ┆ Region VIII ┆ Administrati ┆ OSEC-DECSB-A ┆ 2014-03-14   ┆ 2027-03-24   ┆ 3750678 │\n",
       "│ OF EDUCATION ┆             ┆ ve Aide III  ┆ DA3-540173-2 ┆              ┆              ┆         │\n",
       "│              ┆             ┆ (Utili…      ┆ 004          ┆              ┆              ┆         │\n",
       "│ DEPARTMENT   ┆ Region VIII ┆ Administrati ┆ OSEC-DECSB-A ┆ 2014-03-14   ┆ 2027-03-24   ┆ 3750677 │\n",
       "│ OF EDUCATION ┆             ┆ ve Assistant ┆ DAS1-540036- ┆              ┆              ┆         │\n",
       "│              ┆             ┆ I (Se…       ┆ 2014         ┆              ┆              ┆         │\n",
       "│ DEPARTMENT   ┆ Region VIII ┆ Accountant I ┆ OSEC-DECSB-A ┆ 2014-03-14   ┆ 2027-03-24   ┆ 3750676 │\n",
       "│ OF EDUCATION ┆             ┆              ┆ 1-540034-201 ┆              ┆              ┆         │\n",
       "│              ┆             ┆              ┆ 4            ┆              ┆              ┆         │\n",
       "│ DEPARTMENT   ┆ Region VIII ┆ Education    ┆ OSEC-DECSB-E ┆ 2014-03-14   ┆ 2027-03-24   ┆ 3750675 │\n",
       "│ OF EDUCATION ┆             ┆ Program      ┆ PS2-540004-1 ┆              ┆              ┆         │\n",
       "│              ┆             ┆ Specialist   ┆ 998          ┆              ┆              ┆         │\n",
       "│              ┆             ┆ I…           ┆              ┆              ┆              ┆         │\n",
       "│ DEPARTMENT   ┆ CAR         ┆ Development  ┆ OSEC-DOHB-DM ┆ 2000-01-08   ┆ 2025-01-19   ┆ 4270568 │\n",
       "│ OF HEALTH    ┆             ┆ Management   ┆ O4-90010-201 ┆              ┆              ┆         │\n",
       "│              ┆             ┆ Officer…     ┆ 4            ┆              ┆              ┆         │\n",
       "└──────────────┴─────────────┴──────────────┴──────────────┴──────────────┴──────────────┴─────────┘"
      ]
     },
     "execution_count": 11,
     "metadata": {},
     "output_type": "execute_result"
    }
   ],
   "source": [
    "data_path = PROCESSED_DATA_DIR / \"civilservicecommission.csv\"\n",
    "\n",
    "pd_data = pd.read_csv(data_path) # Use this if you want to use pandas\n",
    "pl_data = pl.read_csv(data_path) # Use this if you want to use polars\n",
    "\n",
    "pl_data"
   ]
  },
  {
   "cell_type": "markdown",
   "id": "7f0baabe",
   "metadata": {},
   "source": [
    "# Data Analysis"
   ]
  },
  {
   "cell_type": "markdown",
   "id": "6e44a27a",
   "metadata": {},
   "source": [
    "## Airyll \n",
    "\n",
    "Visualize the daily trend of job postings:\n",
    "- Group by date, either posting or closing date\n",
    "- Plot using a scatterplot"
   ]
  },
  {
   "cell_type": "code",
   "execution_count": null,
   "id": "d81f8112",
   "metadata": {},
   "outputs": [],
   "source": [
    "## code here"
   ]
  },
  {
   "cell_type": "markdown",
   "id": "3efac317",
   "metadata": {},
   "source": [
    "## Jasmine\n",
    "\n",
    "Count the number of job postings per region\n",
    "- Maybe use a barplot"
   ]
  },
  {
   "cell_type": "code",
   "execution_count": null,
   "id": "23f29749",
   "metadata": {},
   "outputs": [],
   "source": [
    "## code here"
   ]
  },
  {
   "cell_type": "markdown",
   "id": "bffba304",
   "metadata": {},
   "source": [
    "## Kobe\n",
    "\n",
    "Count jobs posts per agency\n",
    "- Maybe use a barplot"
   ]
  },
  {
   "cell_type": "code",
   "execution_count": null,
   "id": "3d28d9eb",
   "metadata": {},
   "outputs": [],
   "source": [
    "## code here"
   ]
  },
  {
   "cell_type": "markdown",
   "id": "2bfbd510",
   "metadata": {},
   "source": [
    "## Visaviern\n",
    "\n",
    "Visualize the most common job post positions\n",
    "- Maybe use a wordcloud"
   ]
  },
  {
   "cell_type": "code",
   "execution_count": null,
   "id": "8048d234",
   "metadata": {},
   "outputs": [],
   "source": [
    "## code here"
   ]
  }
 ],
 "metadata": {
  "kernelspec": {
   "display_name": ".venv",
   "language": "python",
   "name": "python3"
  },
  "language_info": {
   "codemirror_mode": {
    "name": "ipython",
    "version": 3
   },
   "file_extension": ".py",
   "mimetype": "text/x-python",
   "name": "python",
   "nbconvert_exporter": "python",
   "pygments_lexer": "ipython3",
   "version": "3.12.9"
  }
 },
 "nbformat": 4,
 "nbformat_minor": 5
}
