{
 "cells": [
  {
   "cell_type": "markdown",
   "id": "7ddecb09",
   "metadata": {},
   "source": [
    "# Notebook Setup"
   ]
  },
  {
   "cell_type": "markdown",
   "id": "1c29807c",
   "metadata": {},
   "source": [
    "Importing libraries"
   ]
  },
  {
   "cell_type": "code",
   "execution_count": 1,
   "id": "d5198c11",
   "metadata": {},
   "outputs": [
    {
     "name": "stderr",
     "output_type": "stream",
     "text": [
      "\u001b[32m2025-05-02 09:20:50.311\u001b[0m | \u001b[1mINFO    \u001b[0m | \u001b[36mml_final_project.config\u001b[0m:\u001b[36m<module>\u001b[0m:\u001b[36m11\u001b[0m - \u001b[1mPROJ_ROOT path is: D:\\Documents\\3 Production Save Files\\1 Cloned repositories\\ml-final-project\u001b[0m\n"
     ]
    }
   ],
   "source": [
    "import pandas as pd\n",
    "import polars as pl\n",
    "import seaborn as sns\n",
    "import matplotlib.pyplot as plt\n",
    "\n",
    "from ml_final_project.config import PROCESSED_DATA_DIR, MPL_STYLE_DIR\n",
    "\n",
    "# Custom plotting style\n",
    "plt.style.use(MPL_STYLE_DIR / \"iragca_cmr10.mplstyle\")"
   ]
  },
  {
   "cell_type": "markdown",
   "id": "62c799cd",
   "metadata": {},
   "source": [
    "Loading the data"
   ]
  },
  {
   "cell_type": "code",
   "execution_count": 2,
   "id": "44ced2b3",
   "metadata": {},
   "outputs": [
    {
     "data": {
      "text/html": [
       "<div><style>\n",
       ".dataframe > thead > tr,\n",
       ".dataframe > tbody > tr {\n",
       "  text-align: right;\n",
       "  white-space: pre-wrap;\n",
       "}\n",
       "</style>\n",
       "<small>shape: (110_244, 15)</small><table border=\"1\" class=\"dataframe\"><thead><tr><th>jobId</th><th>Agency</th><th>Region</th><th>PlaceOfAssignment</th><th>Posting Date</th><th>Closing Date</th><th>Position Title</th><th>SalaryGrade</th><th>MonthlySalary</th><th>Eligibility</th><th>Education</th><th>Training</th><th>Experience</th><th>Competency</th><th>Plantilla Item No.</th></tr><tr><td>i32</td><td>str</td><td>str</td><td>str</td><td>date</td><td>date</td><td>str</td><td>str</td><td>i32</td><td>str</td><td>str</td><td>str</td><td>str</td><td>str</td><td>str</td></tr></thead><tbody><tr><td>4235342</td><td>&quot;BICOL MEDICAL CENTER&quot;</td><td>&quot;Region V&quot;</td><td>&quot;Division Office, Division of A…</td><td>2024-12-06</td><td>2024-12-16</td><td>&quot;NURSE III&quot;</td><td>&quot;14&quot;</td><td>33843</td><td>&quot;PBET/LET/RA1080 Teacher&quot;</td><td>&quot;Bachelor&#x27;s degree in&quot;</td><td>&quot;None Required&quot;</td><td>&quot;None Required&quot;</td><td>&quot;N/A&quot;</td><td>&quot;OSEC-DOHB-NURS3-390074-2015&quot;</td></tr><tr><td>4267059</td><td>&quot;COTABATO REGIONAL AND MEDICAL …</td><td>&quot;Region XII&quot;</td><td>&quot;PETDU-CRMC Cotabato City&quot;</td><td>2025-01-08</td><td>2025-01-18</td><td>&quot;Training Specialist II&quot;</td><td>&quot;15&quot;</td><td>38413</td><td>&quot;Career Service Professional/Se…</td><td>&quot;Bachelor&#x27;S Degree&quot;</td><td>&quot;Specialist II&quot;</td><td>&quot;1 Year Of Relevant&quot;</td><td>&quot;&quot;</td><td>&quot;OSEC-DOHB-TRNSP2-840012-2024&quot;</td></tr><tr><td>4325512</td><td>&quot;DEPARTMENT OF EDUCATION&quot;</td><td>&quot;Region XII&quot;</td><td>&quot;ELEMENTARY- SDO SULTAN KUDARAT&quot;</td><td>2025-02-07</td><td>2025-02-17</td><td>&quot;Head Teacher IV&quot;</td><td>&quot;17&quot;</td><td>47247</td><td>&quot;RA 1080, as amended (Teacher)&quot;</td><td>&quot;Bachelor&#x27;s degree in Elementar…</td><td>&quot;24 hours of relevant training&quot;</td><td>&quot;HT for 3 years; or MT for 2 ye…</td><td>&quot;&quot;</td><td>&quot;OSEC-DECSB-HTEACH4-840037-2021&quot;</td></tr><tr><td>4347023</td><td>&quot;MANILA, NCR&quot;</td><td>&quot;NCR&quot;</td><td>&quot;ELEMENTARY SCHOOLS&quot;</td><td>2025-02-19</td><td>2025-03-03</td><td>&quot;TEACHER III&quot;</td><td>&quot;13&quot;</td><td>34421</td><td>&quot;RA 1080 (TEACHER)&quot;</td><td>&quot;BEED or Bachelor&#x27;s Degree plus…</td><td>&quot;None Required&quot;</td><td>&quot;2 years of relevant experience&quot;</td><td>&quot;Not Applicable&quot;</td><td>&quot;OSEC-DECSB-TCH3-33077-1998&quot;</td></tr><tr><td>4318456</td><td>&quot;DEPARTMENT OF EDUCATION&quot;</td><td>&quot;Region XI&quot;</td><td>&quot;Sta. Cruz National High School&quot;</td><td>2025-02-04</td><td>2025-02-14</td><td>&quot;MASTER TEACHER I (Secondary Gr…</td><td>&quot;18&quot;</td><td>51304</td><td>&quot;PBET/Teacher/RA 1080&quot;</td><td>&quot;Bachelor of Secondary&quot;</td><td>&quot;None Required&quot;</td><td>&quot;3 Years Relevant&quot;</td><td>&quot;N/A&quot;</td><td>&quot;OSEC-DECSB-MTCHR1-750206-2021&quot;</td></tr><tr><td>&hellip;</td><td>&hellip;</td><td>&hellip;</td><td>&hellip;</td><td>&hellip;</td><td>&hellip;</td><td>&hellip;</td><td>&hellip;</td><td>&hellip;</td><td>&hellip;</td><td>&hellip;</td><td>&hellip;</td><td>&hellip;</td><td>&hellip;</td><td>&hellip;</td></tr><tr><td>4247090</td><td>&quot;DEPARTMENT OF EDUCATION&quot;</td><td>&quot;Region IV&quot;</td><td>&quot;Schools Division of Lipa City …</td><td>2024-12-17</td><td>2024-12-27</td><td>&quot;Teacher II&quot;</td><td>&quot;12&quot;</td><td>30705</td><td>&quot;RA 1080, Teacher&quot;</td><td>&quot;Bachelor of Secondary&quot;</td><td>&quot;None Required&quot;</td><td>&quot;1 year of relevant experience&quot;</td><td>&quot;N/A&quot;</td><td>&quot;OSEC-DECSB-TCH2-240048-2001&quot;</td></tr><tr><td>4319185</td><td>&quot;BUREAU OF CORRECTIONS&quot;</td><td>&quot;NCR&quot;</td><td>&quot;Bureau of Corrections&quot;</td><td>2025-01-14</td><td>2025-01-24</td><td>&quot;Corrections Officer I&quot;</td><td>&quot;11&quot;</td><td>29668</td><td>&quot;RA 1080/ CS Professional/ CSC …</td><td>&quot;Bachelor&#x27;s Degree&quot;</td><td>&quot;None required&quot;</td><td>&quot;None required&quot;</td><td>&quot;N/A&quot;</td><td>&quot;BCORB-CO1-890-2024&quot;</td></tr><tr><td>4365994</td><td>&quot;DEPARTMENT OF EDUCATION&quot;</td><td>&quot;Region V&quot;</td><td>&quot;Elementary&quot;</td><td>2025-02-24</td><td>2025-03-07</td><td>&quot;Teacher III&quot;</td><td>&quot;13&quot;</td><td>34421</td><td>&quot;RA 1080 (Teacher)&quot;</td><td>&quot;Bachelor of Elementary&quot;</td><td>&quot;None Required&quot;</td><td>&quot;2 years relevant experience&quot;</td><td>&quot;N/A&quot;</td><td>&quot;OSEC-DECSB-TCH3-391749-2020&quot;</td></tr><tr><td>4286569</td><td>&quot;DEPARTMENT OF INFORMATION AND …</td><td>&quot;NCR&quot;</td><td>&quot;Regional Office V - Technical …</td><td>2025-01-15</td><td>2025-01-25</td><td>&quot;Information Technology Officer…</td><td>&quot;19&quot;</td><td>53873</td><td>&quot;Career Service (Professional) …</td><td>&quot;Bachelor&#x27;s degree relevant to …</td><td>&quot;8 hours of relevant training&quot;</td><td>&quot;2 years of relevant experience&quot;</td><td>&quot;&quot;</td><td>&quot;OSEC-DICTB-ITO1-39-2021&quot;</td></tr><tr><td>4340306</td><td>&quot;MGO LA TRINIDAD (CAPITAL), BEN…</td><td>&quot;CAR&quot;</td><td>&quot;Municipal Accounting Office&quot;</td><td>2025-02-17</td><td>2025-03-04</td><td>&quot;Administrative Assistant II (B…</td><td>&quot;8&quot;</td><td>20534</td><td>&quot;Career Service Subrofessional/…</td><td>&quot;Completion of two (2) years st…</td><td>&quot;Four (4) hours relevant traini…</td><td>&quot;One (1) year relevant experien…</td><td>&quot;&quot;</td><td>&quot;180&quot;</td></tr></tbody></table></div>"
      ],
      "text/plain": [
       "shape: (110_244, 15)\n",
       "┌─────────┬────────────┬───────────┬───────────┬───┬───────────┬───────────┬───────────┬───────────┐\n",
       "│ jobId   ┆ Agency     ┆ Region    ┆ PlaceOfAs ┆ … ┆ Training  ┆ Experienc ┆ Competenc ┆ Plantilla │\n",
       "│ ---     ┆ ---        ┆ ---       ┆ signment  ┆   ┆ ---       ┆ e         ┆ y         ┆ Item No.  │\n",
       "│ i32     ┆ str        ┆ str       ┆ ---       ┆   ┆ str       ┆ ---       ┆ ---       ┆ ---       │\n",
       "│         ┆            ┆           ┆ str       ┆   ┆           ┆ str       ┆ str       ┆ str       │\n",
       "╞═════════╪════════════╪═══════════╪═══════════╪═══╪═══════════╪═══════════╪═══════════╪═══════════╡\n",
       "│ 4235342 ┆ BICOL      ┆ Region V  ┆ Division  ┆ … ┆ None      ┆ None      ┆ N/A       ┆ OSEC-DOHB │\n",
       "│         ┆ MEDICAL    ┆           ┆ Office,   ┆   ┆ Required  ┆ Required  ┆           ┆ -NURS3-39 │\n",
       "│         ┆ CENTER     ┆           ┆ Division  ┆   ┆           ┆           ┆           ┆ 0074-2015 │\n",
       "│         ┆            ┆           ┆ of A…     ┆   ┆           ┆           ┆           ┆           │\n",
       "│ 4267059 ┆ COTABATO   ┆ Region    ┆ PETDU-CRM ┆ … ┆ Specialis ┆ 1 Year Of ┆           ┆ OSEC-DOHB │\n",
       "│         ┆ REGIONAL   ┆ XII       ┆ C         ┆   ┆ t II      ┆ Relevant  ┆           ┆ -TRNSP2-8 │\n",
       "│         ┆ AND        ┆           ┆ Cotabato  ┆   ┆           ┆           ┆           ┆ 40012-202 │\n",
       "│         ┆ MEDICAL …  ┆           ┆ City      ┆   ┆           ┆           ┆           ┆ 4         │\n",
       "│ 4325512 ┆ DEPARTMENT ┆ Region    ┆ ELEMENTAR ┆ … ┆ 24 hours  ┆ HT for 3  ┆           ┆ OSEC-DECS │\n",
       "│         ┆ OF         ┆ XII       ┆ Y- SDO    ┆   ┆ of        ┆ years; or ┆           ┆ B-HTEACH4 │\n",
       "│         ┆ EDUCATION  ┆           ┆ SULTAN    ┆   ┆ relevant  ┆ MT for 2  ┆           ┆ -840037-2 │\n",
       "│         ┆            ┆           ┆ KUDARAT   ┆   ┆ training  ┆ ye…       ┆           ┆ 021       │\n",
       "│ 4347023 ┆ MANILA,    ┆ NCR       ┆ ELEMENTAR ┆ … ┆ None      ┆ 2 years   ┆ Not Appli ┆ OSEC-DECS │\n",
       "│         ┆ NCR        ┆           ┆ Y SCHOOLS ┆   ┆ Required  ┆ of        ┆ cable     ┆ B-TCH3-33 │\n",
       "│         ┆            ┆           ┆           ┆   ┆           ┆ relevant  ┆           ┆ 077-1998  │\n",
       "│         ┆            ┆           ┆           ┆   ┆           ┆ experienc ┆           ┆           │\n",
       "│         ┆            ┆           ┆           ┆   ┆           ┆ e         ┆           ┆           │\n",
       "│ 4318456 ┆ DEPARTMENT ┆ Region XI ┆ Sta. Cruz ┆ … ┆ None      ┆ 3 Years   ┆ N/A       ┆ OSEC-DECS │\n",
       "│         ┆ OF         ┆           ┆ National  ┆   ┆ Required  ┆ Relevant  ┆           ┆ B-MTCHR1- │\n",
       "│         ┆ EDUCATION  ┆           ┆ High      ┆   ┆           ┆           ┆           ┆ 750206-20 │\n",
       "│         ┆            ┆           ┆ School    ┆   ┆           ┆           ┆           ┆ 21        │\n",
       "│ …       ┆ …          ┆ …         ┆ …         ┆ … ┆ …         ┆ …         ┆ …         ┆ …         │\n",
       "│ 4247090 ┆ DEPARTMENT ┆ Region IV ┆ Schools   ┆ … ┆ None      ┆ 1 year of ┆ N/A       ┆ OSEC-DECS │\n",
       "│         ┆ OF         ┆           ┆ Division  ┆   ┆ Required  ┆ relevant  ┆           ┆ B-TCH2-24 │\n",
       "│         ┆ EDUCATION  ┆           ┆ of Lipa   ┆   ┆           ┆ experienc ┆           ┆ 0048-2001 │\n",
       "│         ┆            ┆           ┆ City …    ┆   ┆           ┆ e         ┆           ┆           │\n",
       "│ 4319185 ┆ BUREAU OF  ┆ NCR       ┆ Bureau of ┆ … ┆ None      ┆ None      ┆ N/A       ┆ BCORB-CO1 │\n",
       "│         ┆ CORRECTION ┆           ┆ Correctio ┆   ┆ required  ┆ required  ┆           ┆ -890-2024 │\n",
       "│         ┆ S          ┆           ┆ ns        ┆   ┆           ┆           ┆           ┆           │\n",
       "│ 4365994 ┆ DEPARTMENT ┆ Region V  ┆ Elementar ┆ … ┆ None      ┆ 2 years   ┆ N/A       ┆ OSEC-DECS │\n",
       "│         ┆ OF         ┆           ┆ y         ┆   ┆ Required  ┆ relevant  ┆           ┆ B-TCH3-39 │\n",
       "│         ┆ EDUCATION  ┆           ┆           ┆   ┆           ┆ experienc ┆           ┆ 1749-2020 │\n",
       "│         ┆            ┆           ┆           ┆   ┆           ┆ e         ┆           ┆           │\n",
       "│ 4286569 ┆ DEPARTMENT ┆ NCR       ┆ Regional  ┆ … ┆ 8 hours   ┆ 2 years   ┆           ┆ OSEC-DICT │\n",
       "│         ┆ OF INFORMA ┆           ┆ Office V  ┆   ┆ of        ┆ of        ┆           ┆ B-ITO1-39 │\n",
       "│         ┆ TION AND … ┆           ┆ -         ┆   ┆ relevant  ┆ relevant  ┆           ┆ -2021     │\n",
       "│         ┆            ┆           ┆ Technical ┆   ┆ training  ┆ experienc ┆           ┆           │\n",
       "│         ┆            ┆           ┆ …         ┆   ┆           ┆ e         ┆           ┆           │\n",
       "│ 4340306 ┆ MGO LA     ┆ CAR       ┆ Municipal ┆ … ┆ Four (4)  ┆ One (1)   ┆           ┆ 180       │\n",
       "│         ┆ TRINIDAD   ┆           ┆ Accountin ┆   ┆ hours     ┆ year      ┆           ┆           │\n",
       "│         ┆ (CAPITAL), ┆           ┆ g Office  ┆   ┆ relevant  ┆ relevant  ┆           ┆           │\n",
       "│         ┆ BEN…       ┆           ┆           ┆   ┆ traini…   ┆ experien… ┆           ┆           │\n",
       "└─────────┴────────────┴───────────┴───────────┴───┴───────────┴───────────┴───────────┴───────────┘"
      ]
     },
     "execution_count": 2,
     "metadata": {},
     "output_type": "execute_result"
    }
   ],
   "source": [
    "data_path = PROCESSED_DATA_DIR / \"CivilServiceCommission\" / \"civilservicecommission.parquet\"\n",
    "\n",
    "pd_data = pd.read_parquet(data_path) # Use this if you want to use pandas\n",
    "pl_data = pl.read_parquet(data_path) # Use this if you want to use polars\n",
    "\n",
    "pl_data"
   ]
  },
  {
   "cell_type": "markdown",
   "id": "7f0baabe",
   "metadata": {},
   "source": [
    "# Data Analysis"
   ]
  },
  {
   "cell_type": "markdown",
   "id": "6e44a27a",
   "metadata": {},
   "source": [
    "## Airyll \n",
    "\n",
    "Visualize the daily trend of job postings:\n",
    "- Group by date, either posting or closing date\n",
    "- Plot using a scatterplot"
   ]
  },
  {
   "cell_type": "code",
   "execution_count": null,
   "id": "d81f8112",
   "metadata": {},
   "outputs": [],
   "source": [
    "## code here"
   ]
  },
  {
   "cell_type": "markdown",
   "id": "3efac317",
   "metadata": {},
   "source": [
    "## Jasmine\n",
    "\n",
    "Count the number of job postings per region\n",
    "- Maybe use a barplot"
   ]
  },
  {
   "cell_type": "code",
   "execution_count": null,
   "id": "23f29749",
   "metadata": {},
   "outputs": [],
   "source": [
    "## code here"
   ]
  },
  {
   "cell_type": "markdown",
   "id": "bffba304",
   "metadata": {},
   "source": [
    "## Kobe\n",
    "\n",
    "Count jobs posts per agency\n",
    "- Maybe use a barplot"
   ]
  },
  {
   "cell_type": "code",
   "execution_count": null,
   "id": "3d28d9eb",
   "metadata": {},
   "outputs": [],
   "source": [
    "## code here"
   ]
  },
  {
   "cell_type": "markdown",
   "id": "2bfbd510",
   "metadata": {},
   "source": [
    "## Visaviern\n",
    "\n",
    "Visualize the most common job post positions\n",
    "- Maybe use a wordcloud"
   ]
  },
  {
   "cell_type": "code",
   "execution_count": null,
   "id": "8048d234",
   "metadata": {},
   "outputs": [],
   "source": [
    "## code here"
   ]
  }
 ],
 "metadata": {
  "kernelspec": {
   "display_name": ".venv",
   "language": "python",
   "name": "python3"
  },
  "language_info": {
   "codemirror_mode": {
    "name": "ipython",
    "version": 3
   },
   "file_extension": ".py",
   "mimetype": "text/x-python",
   "name": "python",
   "nbconvert_exporter": "python",
   "pygments_lexer": "ipython3",
   "version": "3.12.9"
  }
 },
 "nbformat": 4,
 "nbformat_minor": 5
}
