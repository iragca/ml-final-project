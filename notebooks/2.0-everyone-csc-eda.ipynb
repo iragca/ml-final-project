{
 "cells": [
  {
   "cell_type": "markdown",
   "id": "7ddecb09",
   "metadata": {},
   "source": [
    "# Notebook Setup"
   ]
  },
  {
   "cell_type": "markdown",
   "id": "1c29807c",
   "metadata": {},
   "source": [
    "Importing libraries"
   ]
  },
  {
   "cell_type": "code",
   "execution_count": 2,
   "id": "d5198c11",
   "metadata": {},
   "outputs": [
    {
     "name": "stderr",
     "output_type": "stream",
     "text": [
      "\u001b[32m2025-05-03 19:04:49.881\u001b[0m | \u001b[1mINFO    \u001b[0m | \u001b[36mml_final_project.config\u001b[0m:\u001b[36m<module>\u001b[0m:\u001b[36m11\u001b[0m - \u001b[1mPROJ_ROOT path is: D:\\Documents\\3 Production Save Files\\1 Cloned repositories\\ml-final-project\u001b[0m\n"
     ]
    }
   ],
   "source": [
    "import pandas as pd\n",
    "import polars as pl\n",
    "import seaborn as sns\n",
    "import matplotlib.pyplot as plt\n",
    "\n",
    "from ml_final_project.config import PROCESSED_DATA_DIR, MPL_STYLE_DIR\n",
    "\n",
    "# Custom plotting style\n",
    "plt.style.use(MPL_STYLE_DIR / \"iragca_ml.mplstyle\")"
   ]
  },
  {
   "cell_type": "markdown",
   "id": "62c799cd",
   "metadata": {},
   "source": [
    "Loading the data"
   ]
  },
  {
   "cell_type": "code",
   "execution_count": 1,
   "id": "44ced2b3",
   "metadata": {},
   "outputs": [
    {
     "ename": "NameError",
     "evalue": "name 'PROCESSED_DATA_DIR' is not defined",
     "output_type": "error",
     "traceback": [
      "\u001b[31m---------------------------------------------------------------------------\u001b[39m",
      "\u001b[31mNameError\u001b[39m                                 Traceback (most recent call last)",
      "\u001b[36mCell\u001b[39m\u001b[36m \u001b[39m\u001b[32mIn[1]\u001b[39m\u001b[32m, line 1\u001b[39m\n\u001b[32m----> \u001b[39m\u001b[32m1\u001b[39m data_path = \u001b[43mPROCESSED_DATA_DIR\u001b[49m / \u001b[33m\"\u001b[39m\u001b[33mCivilServiceCommission\u001b[39m\u001b[33m\"\u001b[39m / \u001b[33m\"\u001b[39m\u001b[33mcivilservicecommission-2.parquet\u001b[39m\u001b[33m\"\u001b[39m\n\u001b[32m      3\u001b[39m pd_data = pd.read_parquet(data_path) \u001b[38;5;66;03m# Use this if you want to use pandas\u001b[39;00m\n\u001b[32m      4\u001b[39m pl_data = pl.read_parquet(data_path) \u001b[38;5;66;03m# Use this if you want to use polars\u001b[39;00m\n",
      "\u001b[31mNameError\u001b[39m: name 'PROCESSED_DATA_DIR' is not defined"
     ]
    }
   ],
   "source": [
    "data_path = PROCESSED_DATA_DIR / \"CivilServiceCommission\" / \"civilservicecommission-2.parquet\"\n",
    "\n",
    "pd_data = pd.read_parquet(data_path) # Use this if you want to use pandas\n",
    "pl_data = pl.read_parquet(data_path) # Use this if you want to use polars\n",
    "\n",
    "pl_data"
   ]
  },
  {
   "cell_type": "markdown",
   "id": "7f0baabe",
   "metadata": {},
   "source": [
    "# Data Analysis"
   ]
  },
  {
   "cell_type": "markdown",
   "id": "6e44a27a",
   "metadata": {},
   "source": [
    "## Airyll \n",
    "\n",
    "Visualize the daily trend of job postings:\n",
    "- Group by date, either posting or closing date\n",
    "- Plot using a scatterplot"
   ]
  },
  {
   "cell_type": "code",
   "execution_count": 4,
   "id": "d81f8112",
   "metadata": {},
   "outputs": [],
   "source": [
    "## code here"
   ]
  },
  {
   "cell_type": "markdown",
   "id": "3efac317",
   "metadata": {},
   "source": [
    "## Jasmine\n",
    "\n",
    "Count the number of job postings per region\n",
    "- Maybe use a barplot"
   ]
  },
  {
   "cell_type": "code",
   "execution_count": 5,
   "id": "23f29749",
   "metadata": {},
   "outputs": [],
   "source": [
    "## code here"
   ]
  },
  {
   "cell_type": "markdown",
   "id": "bffba304",
   "metadata": {},
   "source": [
    "## Kobe\n",
    "\n",
    "Count jobs posts per agency\n",
    "- Maybe use a barplot"
   ]
  },
  {
   "cell_type": "code",
   "execution_count": 6,
   "id": "3d28d9eb",
   "metadata": {},
   "outputs": [],
   "source": [
    "## code here"
   ]
  },
  {
   "cell_type": "markdown",
   "id": "2bfbd510",
   "metadata": {},
   "source": [
    "## Visaviern\n",
    "\n",
    "Visualize the most common job post positions\n",
    "- Maybe use a wordcloud"
   ]
  },
  {
   "cell_type": "code",
   "execution_count": 7,
   "id": "8048d234",
   "metadata": {},
   "outputs": [],
   "source": [
    "## code here"
   ]
  },
  {
   "cell_type": "markdown",
   "id": "d70773c0",
   "metadata": {},
   "source": [
    "## Irag\n",
    "\n"
   ]
  },
  {
   "cell_type": "code",
   "execution_count": 8,
   "id": "f743e5b0",
   "metadata": {},
   "outputs": [
    {
     "data": {
      "text/html": [
       "<div><style>\n",
       ".dataframe > thead > tr,\n",
       ".dataframe > tbody > tr {\n",
       "  text-align: right;\n",
       "  white-space: pre-wrap;\n",
       "}\n",
       "</style>\n",
       "<small>shape: (19_857, 15)</small><table border=\"1\" class=\"dataframe\"><thead><tr><th>jobId</th><th>Agency</th><th>Region</th><th>PlaceOfAssignment</th><th>Posting Date</th><th>Closing Date</th><th>Position Title</th><th>SalaryGrade</th><th>MonthlySalary</th><th>Eligibility</th><th>Education</th><th>Training</th><th>Experience</th><th>Competency</th><th>Plantilla Item No.</th></tr><tr><td>i32</td><td>str</td><td>str</td><td>str</td><td>date</td><td>date</td><td>str</td><td>str</td><td>i32</td><td>str</td><td>str</td><td>str</td><td>str</td><td>str</td><td>str</td></tr></thead><tbody><tr><td>4235342</td><td>&quot;BICOL MEDICAL CENTER&quot;</td><td>&quot;Region V&quot;</td><td>&quot;Division Office, Division of A…</td><td>2024-12-06</td><td>2024-12-16</td><td>&quot;NURSE III&quot;</td><td>&quot;14&quot;</td><td>33843</td><td>&quot;PBET/LET/RA1080 Teacher&quot;</td><td>&quot;Bachelor&#x27;s degree in&quot;</td><td>&quot;None Required&quot;</td><td>&quot;None Required&quot;</td><td>&quot;N/A&quot;</td><td>&quot;OSEC-DOHB-NURS3-390074-2015&quot;</td></tr><tr><td>4250687</td><td>&quot;CGO NAVOTAS, CITY&quot;</td><td>&quot;NCR&quot;</td><td>&quot;City Health Office&quot;</td><td>2024-12-17</td><td>2025-01-02</td><td>&quot;Midwife II&quot;</td><td>&quot;11&quot;</td><td>28512</td><td>&quot;RA 1080&quot;</td><td>&quot;Completion of the Midwifery Co…</td><td>&quot;8 hours of relevant training&quot;</td><td>&quot;2 years of relevant experience&quot;</td><td>&quot;&quot;</td><td>&quot;67&quot;</td></tr><tr><td>4234044</td><td>&quot;DEPARTMENT OF EDUCATION&quot;</td><td>&quot;Region IV&quot;</td><td>&quot;SDO&quot;</td><td>2024-12-05</td><td>2024-12-15</td><td>&quot;Teacher II&quot;</td><td>&quot;12&quot;</td><td>30705</td><td>&quot;RA 1080&quot;</td><td>&quot;Bachelor of Elementary&quot;</td><td>&quot;none required&quot;</td><td>&quot;1 year relevant experience&quot;</td><td>&quot;none&quot;</td><td>&quot;OSEC-DECSB-TCH2-242341-1998&quot;</td></tr><tr><td>4248067</td><td>&quot;DEPARTMENT OF EDUCATION&quot;</td><td>&quot;Region XI&quot;</td><td>&quot;Any Elementary School within D…</td><td>2024-12-19</td><td>2024-12-30</td><td>&quot;Teacher II&quot;</td><td>&quot;12&quot;</td><td>30705</td><td>&quot;RA 1080 ( Teacher)&quot;</td><td>&quot;Bachelor of Elementary&quot;</td><td>&quot;None required&quot;</td><td>&quot;1 year of relevant experience&quot;</td><td>&quot;Self-Management, Professionali…</td><td>&quot;OSEC-DECSB-TCH2-750237-2021&quot;</td></tr><tr><td>4242553</td><td>&quot;DEPARTMENT OF EDUCATION&quot;</td><td>&quot;Region X&quot;</td><td>&quot;Division of Bukidnon&quot;</td><td>2024-12-13</td><td>2024-12-27</td><td>&quot;Teacher I (Elementary School)&quot;</td><td>&quot;11&quot;</td><td>28512</td><td>&quot;RA 1080 (TEACHER)&quot;</td><td>&quot;Bachelor of Elementary&quot;</td><td>&quot;None required&quot;</td><td>&quot;None required&quot;</td><td>&quot;Core Behavioral Competencies; …</td><td>&quot;OSEC-DECSB-TCH1-681331-1998&quot;</td></tr><tr><td>&hellip;</td><td>&hellip;</td><td>&hellip;</td><td>&hellip;</td><td>&hellip;</td><td>&hellip;</td><td>&hellip;</td><td>&hellip;</td><td>&hellip;</td><td>&hellip;</td><td>&hellip;</td><td>&hellip;</td><td>&hellip;</td><td>&hellip;</td><td>&hellip;</td></tr><tr><td>4233076</td><td>&quot;DEPARTMENT OF EDUCATION&quot;</td><td>&quot;Region I&quot;</td><td>&quot;PHO - Tarlac Provincial Hospit…</td><td>2024-12-02</td><td>2024-12-12</td><td>&quot;Teacher III&quot;</td><td>&quot;23&quot;</td><td>83659</td><td>&quot;RA 1080, as amended, (Physicia…</td><td>&quot;Doctor of Medicine&quot;</td><td>&quot;4 hours of relevant training&quot;</td><td>&quot;1 year of relevant experience&quot;</td><td>&quot;-&quot;</td><td>&quot;OSEC-DECSB-TCH3-61250-2016&quot;</td></tr><tr><td>4234139</td><td>&quot;DEPARTMENT OF EDUCATION&quot;</td><td>&quot;Region IV&quot;</td><td>&quot;RO IV-Division Office&quot;</td><td>2024-12-05</td><td>2024-12-15</td><td>&quot;Administrative Assistant II&quot;</td><td>&quot;8&quot;</td><td>20534</td><td>&quot;Career Service (Sub-profession…</td><td>&quot;Completion of 2 years studies …</td><td>&quot;4 hours relevant training&quot;</td><td>&quot;1 year relevant experience&quot;</td><td>&quot;n/a&quot;</td><td>&quot;OSEC-DECSB-ADAS2-270285-2016&quot;</td></tr><tr><td>4244235</td><td>&quot;NATIONAL POLICE COMMISSION&quot;</td><td>&quot;NCR&quot;</td><td>&quot;Deped SDO Bulacan-(SHS)&quot;</td><td>2024-12-11</td><td>2024-12-21</td><td>&quot;Director III&quot;</td><td>&quot;13&quot;</td><td>32870</td><td>&quot;Applicant for a permanent appo…</td><td>&quot;Bachelor&#x27;s degree with a major…</td><td>&quot;4 hours of training relevant t…</td><td>&quot;2 years relevant teaching/ ind…</td><td>&quot;n/a&quot;</td><td>&quot;DIR3-19-1998&quot;</td></tr><tr><td>4246328</td><td>&quot;Department of Health&quot;</td><td>&quot;NCR&quot;</td><td>&quot;Integrated Policy and Strategy…</td><td>2024-12-13</td><td>2024-12-23</td><td>&quot;Medical Officer IV&quot;</td><td>&quot;23&quot;</td><td>83659</td><td>&quot;R.A. 1080&quot;</td><td>&quot;Doctor of Medicine&quot;</td><td>&quot;Four (4) hours of relevant tra…</td><td>&quot;One (1) year of relevant exper…</td><td>&quot;N/A&quot;</td><td>&quot;OSEC-DOHB-MDOF4-3-2024&quot;</td></tr><tr><td>4247090</td><td>&quot;DEPARTMENT OF EDUCATION&quot;</td><td>&quot;Region IV&quot;</td><td>&quot;Schools Division of Lipa City …</td><td>2024-12-17</td><td>2024-12-27</td><td>&quot;Teacher II&quot;</td><td>&quot;12&quot;</td><td>30705</td><td>&quot;RA 1080, Teacher&quot;</td><td>&quot;Bachelor of Secondary&quot;</td><td>&quot;None Required&quot;</td><td>&quot;1 year of relevant experience&quot;</td><td>&quot;N/A&quot;</td><td>&quot;OSEC-DECSB-TCH2-240048-2001&quot;</td></tr></tbody></table></div>"
      ],
      "text/plain": [
       "shape: (19_857, 15)\n",
       "┌─────────┬────────────┬───────────┬───────────┬───┬───────────┬───────────┬───────────┬───────────┐\n",
       "│ jobId   ┆ Agency     ┆ Region    ┆ PlaceOfAs ┆ … ┆ Training  ┆ Experienc ┆ Competenc ┆ Plantilla │\n",
       "│ ---     ┆ ---        ┆ ---       ┆ signment  ┆   ┆ ---       ┆ e         ┆ y         ┆ Item No.  │\n",
       "│ i32     ┆ str        ┆ str       ┆ ---       ┆   ┆ str       ┆ ---       ┆ ---       ┆ ---       │\n",
       "│         ┆            ┆           ┆ str       ┆   ┆           ┆ str       ┆ str       ┆ str       │\n",
       "╞═════════╪════════════╪═══════════╪═══════════╪═══╪═══════════╪═══════════╪═══════════╪═══════════╡\n",
       "│ 4235342 ┆ BICOL      ┆ Region V  ┆ Division  ┆ … ┆ None      ┆ None      ┆ N/A       ┆ OSEC-DOHB │\n",
       "│         ┆ MEDICAL    ┆           ┆ Office,   ┆   ┆ Required  ┆ Required  ┆           ┆ -NURS3-39 │\n",
       "│         ┆ CENTER     ┆           ┆ Division  ┆   ┆           ┆           ┆           ┆ 0074-2015 │\n",
       "│         ┆            ┆           ┆ of A…     ┆   ┆           ┆           ┆           ┆           │\n",
       "│ 4250687 ┆ CGO        ┆ NCR       ┆ City      ┆ … ┆ 8 hours   ┆ 2 years   ┆           ┆ 67        │\n",
       "│         ┆ NAVOTAS,   ┆           ┆ Health    ┆   ┆ of        ┆ of        ┆           ┆           │\n",
       "│         ┆ CITY       ┆           ┆ Office    ┆   ┆ relevant  ┆ relevant  ┆           ┆           │\n",
       "│         ┆            ┆           ┆           ┆   ┆ training  ┆ experienc ┆           ┆           │\n",
       "│         ┆            ┆           ┆           ┆   ┆           ┆ e         ┆           ┆           │\n",
       "│ 4234044 ┆ DEPARTMENT ┆ Region IV ┆ SDO       ┆ … ┆ none      ┆ 1 year    ┆ none      ┆ OSEC-DECS │\n",
       "│         ┆ OF         ┆           ┆           ┆   ┆ required  ┆ relevant  ┆           ┆ B-TCH2-24 │\n",
       "│         ┆ EDUCATION  ┆           ┆           ┆   ┆           ┆ experienc ┆           ┆ 2341-1998 │\n",
       "│         ┆            ┆           ┆           ┆   ┆           ┆ e         ┆           ┆           │\n",
       "│ 4248067 ┆ DEPARTMENT ┆ Region XI ┆ Any Eleme ┆ … ┆ None      ┆ 1 year of ┆ Self-Mana ┆ OSEC-DECS │\n",
       "│         ┆ OF         ┆           ┆ ntary     ┆   ┆ required  ┆ relevant  ┆ gement,   ┆ B-TCH2-75 │\n",
       "│         ┆ EDUCATION  ┆           ┆ School    ┆   ┆           ┆ experienc ┆ Professio ┆ 0237-2021 │\n",
       "│         ┆            ┆           ┆ within D… ┆   ┆           ┆ e         ┆ nali…     ┆           │\n",
       "│ 4242553 ┆ DEPARTMENT ┆ Region X  ┆ Division  ┆ … ┆ None      ┆ None      ┆ Core Beha ┆ OSEC-DECS │\n",
       "│         ┆ OF         ┆           ┆ of        ┆   ┆ required  ┆ required  ┆ vioral    ┆ B-TCH1-68 │\n",
       "│         ┆ EDUCATION  ┆           ┆ Bukidnon  ┆   ┆           ┆           ┆ Competenc ┆ 1331-1998 │\n",
       "│         ┆            ┆           ┆           ┆   ┆           ┆           ┆ ies; …    ┆           │\n",
       "│ …       ┆ …          ┆ …         ┆ …         ┆ … ┆ …         ┆ …         ┆ …         ┆ …         │\n",
       "│ 4233076 ┆ DEPARTMENT ┆ Region I  ┆ PHO -     ┆ … ┆ 4 hours   ┆ 1 year of ┆ -         ┆ OSEC-DECS │\n",
       "│         ┆ OF         ┆           ┆ Tarlac    ┆   ┆ of        ┆ relevant  ┆           ┆ B-TCH3-61 │\n",
       "│         ┆ EDUCATION  ┆           ┆ Provincia ┆   ┆ relevant  ┆ experienc ┆           ┆ 250-2016  │\n",
       "│         ┆            ┆           ┆ l Hospit… ┆   ┆ training  ┆ e         ┆           ┆           │\n",
       "│ 4234139 ┆ DEPARTMENT ┆ Region IV ┆ RO IV-Div ┆ … ┆ 4 hours   ┆ 1 year    ┆ n/a       ┆ OSEC-DECS │\n",
       "│         ┆ OF         ┆           ┆ ision     ┆   ┆ relevant  ┆ relevant  ┆           ┆ B-ADAS2-2 │\n",
       "│         ┆ EDUCATION  ┆           ┆ Office    ┆   ┆ training  ┆ experienc ┆           ┆ 70285-201 │\n",
       "│         ┆            ┆           ┆           ┆   ┆           ┆ e         ┆           ┆ 6         │\n",
       "│ 4244235 ┆ NATIONAL   ┆ NCR       ┆ Deped SDO ┆ … ┆ 4 hours   ┆ 2 years   ┆ n/a       ┆ DIR3-19-1 │\n",
       "│         ┆ POLICE     ┆           ┆ Bulacan-( ┆   ┆ of        ┆ relevant  ┆           ┆ 998       │\n",
       "│         ┆ COMMISSION ┆           ┆ SHS)      ┆   ┆ training  ┆ teaching/ ┆           ┆           │\n",
       "│         ┆            ┆           ┆           ┆   ┆ relevant  ┆ ind…      ┆           ┆           │\n",
       "│         ┆            ┆           ┆           ┆   ┆ t…        ┆           ┆           ┆           │\n",
       "│ 4246328 ┆ Department ┆ NCR       ┆ Integrate ┆ … ┆ Four (4)  ┆ One (1)   ┆ N/A       ┆ OSEC-DOHB │\n",
       "│         ┆ of Health  ┆           ┆ d Policy  ┆   ┆ hours of  ┆ year of   ┆           ┆ -MDOF4-3- │\n",
       "│         ┆            ┆           ┆ and       ┆   ┆ relevant  ┆ relevant  ┆           ┆ 2024      │\n",
       "│         ┆            ┆           ┆ Strategy… ┆   ┆ tra…      ┆ exper…    ┆           ┆           │\n",
       "│ 4247090 ┆ DEPARTMENT ┆ Region IV ┆ Schools   ┆ … ┆ None      ┆ 1 year of ┆ N/A       ┆ OSEC-DECS │\n",
       "│         ┆ OF         ┆           ┆ Division  ┆   ┆ Required  ┆ relevant  ┆           ┆ B-TCH2-24 │\n",
       "│         ┆ EDUCATION  ┆           ┆ of Lipa   ┆   ┆           ┆ experienc ┆           ┆ 0048-2001 │\n",
       "│         ┆            ┆           ┆ City …    ┆   ┆           ┆ e         ┆           ┆           │\n",
       "└─────────┴────────────┴───────────┴───────────┴───┴───────────┴───────────┴───────────┴───────────┘"
      ]
     },
     "execution_count": 8,
     "metadata": {},
     "output_type": "execute_result"
    }
   ],
   "source": [
    "pl_data.filter(pl.col(\"Posting Date\") > pl.lit(\"2024-04-01\", pl.Date)).filter(pl.col(\"Posting Date\") < pl.lit(\"2025-01-01\", pl.Date))"
   ]
  },
  {
   "cell_type": "code",
   "execution_count": 9,
   "id": "9256ba69",
   "metadata": {},
   "outputs": [
    {
     "data": {
      "text/plain": [
       "(array([19936., 19967., 19997., 20028., 20058., 20089., 20120., 20148.,\n",
       "        20179.]),\n",
       " [Text(19936.0, 0, '2024-08'),\n",
       "  Text(19967.0, 0, '2024-09'),\n",
       "  Text(19997.0, 0, '2024-10'),\n",
       "  Text(20028.0, 0, '2024-11'),\n",
       "  Text(20058.0, 0, '2024-12'),\n",
       "  Text(20089.0, 0, '2025-01'),\n",
       "  Text(20120.0, 0, '2025-02'),\n",
       "  Text(20148.0, 0, '2025-03'),\n",
       "  Text(20179.0, 0, '2025-04')])"
      ]
     },
     "execution_count": 9,
     "metadata": {},
     "output_type": "execute_result"
    },
    {
     "data": {
      "image/png": "[encoded data removed]",
      "text/plain": [
       "<Figure size 400x250 with 1 Axes>"
      ]
     },
     "metadata": {},
     "output_type": "display_data"
    }
   ],
   "source": [
    "grouped_data = (\n",
    "    pl_data.group_by(\"Posting Date\")\n",
    "    .agg(pl.col(\"MonthlySalary\").mean().alias(\"MonthlySalary\"))\n",
    "    .filter(pl.col(\"Posting Date\") > pl.lit(\"2024-04-01\", pl.Date))\n",
    ")\n",
    "sns.lineplot(data=grouped_data, x=\"Posting Date\", y=\"MonthlySalary\")\n",
    "\n",
    "plt.xticks(rotation=45)\n"
   ]
  },
  {
   "cell_type": "code",
   "execution_count": 10,
   "id": "25a93b8f",
   "metadata": {},
   "outputs": [
    {
     "name": "stderr",
     "output_type": "stream",
     "text": [
      "C:\\Users\\Andrei\\AppData\\Local\\Temp\\ipykernel_12560\\528698457.py:4: DeprecationWarning: `pl.count()` is deprecated. Please use `pl.len()` instead.\n",
      "  .agg(pl.count().alias(\"count\"))\n"
     ]
    },
    {
     "data": {
      "text/html": [
       "<div><style>\n",
       ".dataframe > thead > tr,\n",
       ".dataframe > tbody > tr {\n",
       "  text-align: right;\n",
       "  white-space: pre-wrap;\n",
       "}\n",
       "</style>\n",
       "<small>shape: (113, 2)</small><table border=\"1\" class=\"dataframe\"><thead><tr><th>Posting Date</th><th>count</th></tr><tr><td>date</td><td>u32</td></tr></thead><tbody><tr><td>2024-12-04</td><td>1261</td></tr><tr><td>2024-12-16</td><td>592</td></tr><tr><td>2024-12-25</td><td>3</td></tr><tr><td>2024-12-19</td><td>1135</td></tr><tr><td>2024-12-10</td><td>1520</td></tr><tr><td>&hellip;</td><td>&hellip;</td></tr><tr><td>2025-04-02</td><td>1485</td></tr><tr><td>2025-03-24</td><td>371</td></tr><tr><td>2025-03-12</td><td>826</td></tr><tr><td>2025-03-21</td><td>557</td></tr><tr><td>2024-07-17</td><td>1</td></tr></tbody></table></div>"
      ],
      "text/plain": [
       "shape: (113, 2)\n",
       "┌──────────────┬───────┐\n",
       "│ Posting Date ┆ count │\n",
       "│ ---          ┆ ---   │\n",
       "│ date         ┆ u32   │\n",
       "╞══════════════╪═══════╡\n",
       "│ 2024-12-04   ┆ 1261  │\n",
       "│ 2024-12-16   ┆ 592   │\n",
       "│ 2024-12-25   ┆ 3     │\n",
       "│ 2024-12-19   ┆ 1135  │\n",
       "│ 2024-12-10   ┆ 1520  │\n",
       "│ …            ┆ …     │\n",
       "│ 2025-04-02   ┆ 1485  │\n",
       "│ 2025-03-24   ┆ 371   │\n",
       "│ 2025-03-12   ┆ 826   │\n",
       "│ 2025-03-21   ┆ 557   │\n",
       "│ 2024-07-17   ┆ 1     │\n",
       "└──────────────┴───────┘"
      ]
     },
     "execution_count": 10,
     "metadata": {},
     "output_type": "execute_result"
    }
   ],
   "source": [
    "date_counts = (\n",
    "    pl_data.filter(pl.col(\"Posting Date\") > pl.lit(\"2024-07-01\", pl.Date)).filter(pl.col(\"Posting Date\") < pl.lit(\"2026-01-01\", pl.Date))\n",
    "    .group_by(\"Posting Date\")\n",
    "    .agg(pl.count().alias(\"count\"))\n",
    ")\n",
    "date_counts"
   ]
  },
  {
   "cell_type": "code",
   "execution_count": 11,
   "id": "3ea6976d",
   "metadata": {},
   "outputs": [
    {
     "data": {
      "text/plain": [
       "<Axes: xlabel='Posting Date', ylabel='count'>"
      ]
     },
     "execution_count": 11,
     "metadata": {},
     "output_type": "execute_result"
    },
    {
     "data": {
      "image/png": "[encoded data removed]",
      "text/plain": [
       "<Figure size 400x250 with 1 Axes>"
      ]
     },
     "metadata": {},
     "output_type": "display_data"
    }
   ],
   "source": [
    "sns.lineplot(data=date_counts, x=\"Posting Date\", y=\"count\")"
   ]
  },
  {
   "cell_type": "code",
   "execution_count": 12,
   "id": "8e6a5299",
   "metadata": {},
   "outputs": [
    {
     "data": {
      "text/html": [
       "<div><style>\n",
       ".dataframe > thead > tr,\n",
       ".dataframe > tbody > tr {\n",
       "  text-align: right;\n",
       "  white-space: pre-wrap;\n",
       "}\n",
       "</style>\n",
       "<small>shape: (110_219, 15)</small><table border=\"1\" class=\"dataframe\"><thead><tr><th>jobId</th><th>Agency</th><th>Region</th><th>PlaceOfAssignment</th><th>Posting Date</th><th>Closing Date</th><th>Position Title</th><th>SalaryGrade</th><th>MonthlySalary</th><th>Eligibility</th><th>Education</th><th>Training</th><th>Experience</th><th>Competency</th><th>Plantilla Item No.</th></tr><tr><td>i32</td><td>str</td><td>str</td><td>str</td><td>date</td><td>date</td><td>str</td><td>str</td><td>i32</td><td>str</td><td>str</td><td>str</td><td>str</td><td>str</td><td>str</td></tr></thead><tbody><tr><td>4235342</td><td>&quot;BICOL MEDICAL CENTER&quot;</td><td>&quot;Region V&quot;</td><td>&quot;Division Office, Division of A…</td><td>2024-12-06</td><td>2024-12-16</td><td>&quot;NURSE III&quot;</td><td>&quot;14&quot;</td><td>33843</td><td>&quot;PBET/LET/RA1080 Teacher&quot;</td><td>&quot;Bachelor&#x27;s degree in&quot;</td><td>&quot;None Required&quot;</td><td>&quot;None Required&quot;</td><td>&quot;N/A&quot;</td><td>&quot;OSEC-DOHB-NURS3-390074-2015&quot;</td></tr><tr><td>4267059</td><td>&quot;COTABATO REGIONAL AND MEDICAL …</td><td>&quot;Region XII&quot;</td><td>&quot;PETDU-CRMC Cotabato City&quot;</td><td>2025-01-08</td><td>2025-01-18</td><td>&quot;Training Specialist II&quot;</td><td>&quot;15&quot;</td><td>38413</td><td>&quot;Career Service Professional/Se…</td><td>&quot;Bachelor&#x27;S Degree&quot;</td><td>&quot;Specialist II&quot;</td><td>&quot;1 Year Of Relevant&quot;</td><td>&quot;&quot;</td><td>&quot;OSEC-DOHB-TRNSP2-840012-2024&quot;</td></tr><tr><td>4325512</td><td>&quot;DEPARTMENT OF EDUCATION&quot;</td><td>&quot;Region XII&quot;</td><td>&quot;ELEMENTARY- SDO SULTAN KUDARAT&quot;</td><td>2025-02-07</td><td>2025-02-17</td><td>&quot;Head Teacher IV&quot;</td><td>&quot;17&quot;</td><td>47247</td><td>&quot;RA 1080, as amended (Teacher)&quot;</td><td>&quot;Bachelor&#x27;s degree in Elementar…</td><td>&quot;24 hours of relevant training&quot;</td><td>&quot;HT for 3 years; or MT for 2 ye…</td><td>&quot;&quot;</td><td>&quot;OSEC-DECSB-HTEACH4-840037-2021&quot;</td></tr><tr><td>4347023</td><td>&quot;MANILA, NCR&quot;</td><td>&quot;NCR&quot;</td><td>&quot;ELEMENTARY SCHOOLS&quot;</td><td>2025-02-19</td><td>2025-03-03</td><td>&quot;TEACHER III&quot;</td><td>&quot;13&quot;</td><td>34421</td><td>&quot;RA 1080 (TEACHER)&quot;</td><td>&quot;BEED or Bachelor&#x27;s Degree plus…</td><td>&quot;None Required&quot;</td><td>&quot;2 years of relevant experience&quot;</td><td>&quot;Not Applicable&quot;</td><td>&quot;OSEC-DECSB-TCH3-33077-1998&quot;</td></tr><tr><td>4318456</td><td>&quot;DEPARTMENT OF EDUCATION&quot;</td><td>&quot;Region XI&quot;</td><td>&quot;Sta. Cruz National High School&quot;</td><td>2025-02-04</td><td>2025-02-14</td><td>&quot;MASTER TEACHER I (Secondary Gr…</td><td>&quot;18&quot;</td><td>51304</td><td>&quot;PBET/Teacher/RA 1080&quot;</td><td>&quot;Bachelor of Secondary&quot;</td><td>&quot;None Required&quot;</td><td>&quot;3 Years Relevant&quot;</td><td>&quot;N/A&quot;</td><td>&quot;OSEC-DECSB-MTCHR1-750206-2021&quot;</td></tr><tr><td>&hellip;</td><td>&hellip;</td><td>&hellip;</td><td>&hellip;</td><td>&hellip;</td><td>&hellip;</td><td>&hellip;</td><td>&hellip;</td><td>&hellip;</td><td>&hellip;</td><td>&hellip;</td><td>&hellip;</td><td>&hellip;</td><td>&hellip;</td><td>&hellip;</td></tr><tr><td>4247090</td><td>&quot;DEPARTMENT OF EDUCATION&quot;</td><td>&quot;Region IV&quot;</td><td>&quot;Schools Division of Lipa City …</td><td>2024-12-17</td><td>2024-12-27</td><td>&quot;Teacher II&quot;</td><td>&quot;12&quot;</td><td>30705</td><td>&quot;RA 1080, Teacher&quot;</td><td>&quot;Bachelor of Secondary&quot;</td><td>&quot;None Required&quot;</td><td>&quot;1 year of relevant experience&quot;</td><td>&quot;N/A&quot;</td><td>&quot;OSEC-DECSB-TCH2-240048-2001&quot;</td></tr><tr><td>4319185</td><td>&quot;BUREAU OF CORRECTIONS&quot;</td><td>&quot;NCR&quot;</td><td>&quot;Bureau of Corrections&quot;</td><td>2025-01-14</td><td>2025-01-24</td><td>&quot;Corrections Officer I&quot;</td><td>&quot;11&quot;</td><td>29668</td><td>&quot;RA 1080/ CS Professional/ CSC …</td><td>&quot;Bachelor&#x27;s Degree&quot;</td><td>&quot;None required&quot;</td><td>&quot;None required&quot;</td><td>&quot;N/A&quot;</td><td>&quot;BCORB-CO1-890-2024&quot;</td></tr><tr><td>4365994</td><td>&quot;DEPARTMENT OF EDUCATION&quot;</td><td>&quot;Region V&quot;</td><td>&quot;Elementary&quot;</td><td>2025-02-24</td><td>2025-03-07</td><td>&quot;Teacher III&quot;</td><td>&quot;13&quot;</td><td>34421</td><td>&quot;RA 1080 (Teacher)&quot;</td><td>&quot;Bachelor of Elementary&quot;</td><td>&quot;None Required&quot;</td><td>&quot;2 years relevant experience&quot;</td><td>&quot;N/A&quot;</td><td>&quot;OSEC-DECSB-TCH3-391749-2020&quot;</td></tr><tr><td>4286569</td><td>&quot;DEPARTMENT OF INFORMATION AND …</td><td>&quot;NCR&quot;</td><td>&quot;Regional Office V - Technical …</td><td>2025-01-15</td><td>2025-01-25</td><td>&quot;Information Technology Officer…</td><td>&quot;19&quot;</td><td>53873</td><td>&quot;Career Service (Professional) …</td><td>&quot;Bachelor&#x27;s degree relevant to …</td><td>&quot;8 hours of relevant training&quot;</td><td>&quot;2 years of relevant experience&quot;</td><td>&quot;&quot;</td><td>&quot;OSEC-DICTB-ITO1-39-2021&quot;</td></tr><tr><td>4340306</td><td>&quot;MGO LA TRINIDAD (CAPITAL), BEN…</td><td>&quot;CAR&quot;</td><td>&quot;Municipal Accounting Office&quot;</td><td>2025-02-17</td><td>2025-03-04</td><td>&quot;Administrative Assistant II (B…</td><td>&quot;8&quot;</td><td>20534</td><td>&quot;Career Service Subrofessional/…</td><td>&quot;Completion of two (2) years st…</td><td>&quot;Four (4) hours relevant traini…</td><td>&quot;One (1) year relevant experien…</td><td>&quot;&quot;</td><td>&quot;180&quot;</td></tr></tbody></table></div>"
      ],
      "text/plain": [
       "shape: (110_219, 15)\n",
       "┌─────────┬────────────┬───────────┬───────────┬───┬───────────┬───────────┬───────────┬───────────┐\n",
       "│ jobId   ┆ Agency     ┆ Region    ┆ PlaceOfAs ┆ … ┆ Training  ┆ Experienc ┆ Competenc ┆ Plantilla │\n",
       "│ ---     ┆ ---        ┆ ---       ┆ signment  ┆   ┆ ---       ┆ e         ┆ y         ┆ Item No.  │\n",
       "│ i32     ┆ str        ┆ str       ┆ ---       ┆   ┆ str       ┆ ---       ┆ ---       ┆ ---       │\n",
       "│         ┆            ┆           ┆ str       ┆   ┆           ┆ str       ┆ str       ┆ str       │\n",
       "╞═════════╪════════════╪═══════════╪═══════════╪═══╪═══════════╪═══════════╪═══════════╪═══════════╡\n",
       "│ 4235342 ┆ BICOL      ┆ Region V  ┆ Division  ┆ … ┆ None      ┆ None      ┆ N/A       ┆ OSEC-DOHB │\n",
       "│         ┆ MEDICAL    ┆           ┆ Office,   ┆   ┆ Required  ┆ Required  ┆           ┆ -NURS3-39 │\n",
       "│         ┆ CENTER     ┆           ┆ Division  ┆   ┆           ┆           ┆           ┆ 0074-2015 │\n",
       "│         ┆            ┆           ┆ of A…     ┆   ┆           ┆           ┆           ┆           │\n",
       "│ 4267059 ┆ COTABATO   ┆ Region    ┆ PETDU-CRM ┆ … ┆ Specialis ┆ 1 Year Of ┆           ┆ OSEC-DOHB │\n",
       "│         ┆ REGIONAL   ┆ XII       ┆ C         ┆   ┆ t II      ┆ Relevant  ┆           ┆ -TRNSP2-8 │\n",
       "│         ┆ AND        ┆           ┆ Cotabato  ┆   ┆           ┆           ┆           ┆ 40012-202 │\n",
       "│         ┆ MEDICAL …  ┆           ┆ City      ┆   ┆           ┆           ┆           ┆ 4         │\n",
       "│ 4325512 ┆ DEPARTMENT ┆ Region    ┆ ELEMENTAR ┆ … ┆ 24 hours  ┆ HT for 3  ┆           ┆ OSEC-DECS │\n",
       "│         ┆ OF         ┆ XII       ┆ Y- SDO    ┆   ┆ of        ┆ years; or ┆           ┆ B-HTEACH4 │\n",
       "│         ┆ EDUCATION  ┆           ┆ SULTAN    ┆   ┆ relevant  ┆ MT for 2  ┆           ┆ -840037-2 │\n",
       "│         ┆            ┆           ┆ KUDARAT   ┆   ┆ training  ┆ ye…       ┆           ┆ 021       │\n",
       "│ 4347023 ┆ MANILA,    ┆ NCR       ┆ ELEMENTAR ┆ … ┆ None      ┆ 2 years   ┆ Not Appli ┆ OSEC-DECS │\n",
       "│         ┆ NCR        ┆           ┆ Y SCHOOLS ┆   ┆ Required  ┆ of        ┆ cable     ┆ B-TCH3-33 │\n",
       "│         ┆            ┆           ┆           ┆   ┆           ┆ relevant  ┆           ┆ 077-1998  │\n",
       "│         ┆            ┆           ┆           ┆   ┆           ┆ experienc ┆           ┆           │\n",
       "│         ┆            ┆           ┆           ┆   ┆           ┆ e         ┆           ┆           │\n",
       "│ 4318456 ┆ DEPARTMENT ┆ Region XI ┆ Sta. Cruz ┆ … ┆ None      ┆ 3 Years   ┆ N/A       ┆ OSEC-DECS │\n",
       "│         ┆ OF         ┆           ┆ National  ┆   ┆ Required  ┆ Relevant  ┆           ┆ B-MTCHR1- │\n",
       "│         ┆ EDUCATION  ┆           ┆ High      ┆   ┆           ┆           ┆           ┆ 750206-20 │\n",
       "│         ┆            ┆           ┆ School    ┆   ┆           ┆           ┆           ┆ 21        │\n",
       "│ …       ┆ …          ┆ …         ┆ …         ┆ … ┆ …         ┆ …         ┆ …         ┆ …         │\n",
       "│ 4247090 ┆ DEPARTMENT ┆ Region IV ┆ Schools   ┆ … ┆ None      ┆ 1 year of ┆ N/A       ┆ OSEC-DECS │\n",
       "│         ┆ OF         ┆           ┆ Division  ┆   ┆ Required  ┆ relevant  ┆           ┆ B-TCH2-24 │\n",
       "│         ┆ EDUCATION  ┆           ┆ of Lipa   ┆   ┆           ┆ experienc ┆           ┆ 0048-2001 │\n",
       "│         ┆            ┆           ┆ City …    ┆   ┆           ┆ e         ┆           ┆           │\n",
       "│ 4319185 ┆ BUREAU OF  ┆ NCR       ┆ Bureau of ┆ … ┆ None      ┆ None      ┆ N/A       ┆ BCORB-CO1 │\n",
       "│         ┆ CORRECTION ┆           ┆ Correctio ┆   ┆ required  ┆ required  ┆           ┆ -890-2024 │\n",
       "│         ┆ S          ┆           ┆ ns        ┆   ┆           ┆           ┆           ┆           │\n",
       "│ 4365994 ┆ DEPARTMENT ┆ Region V  ┆ Elementar ┆ … ┆ None      ┆ 2 years   ┆ N/A       ┆ OSEC-DECS │\n",
       "│         ┆ OF         ┆           ┆ y         ┆   ┆ Required  ┆ relevant  ┆           ┆ B-TCH3-39 │\n",
       "│         ┆ EDUCATION  ┆           ┆           ┆   ┆           ┆ experienc ┆           ┆ 1749-2020 │\n",
       "│         ┆            ┆           ┆           ┆   ┆           ┆ e         ┆           ┆           │\n",
       "│ 4286569 ┆ DEPARTMENT ┆ NCR       ┆ Regional  ┆ … ┆ 8 hours   ┆ 2 years   ┆           ┆ OSEC-DICT │\n",
       "│         ┆ OF INFORMA ┆           ┆ Office V  ┆   ┆ of        ┆ of        ┆           ┆ B-ITO1-39 │\n",
       "│         ┆ TION AND … ┆           ┆ -         ┆   ┆ relevant  ┆ relevant  ┆           ┆ -2021     │\n",
       "│         ┆            ┆           ┆ Technical ┆   ┆ training  ┆ experienc ┆           ┆           │\n",
       "│         ┆            ┆           ┆ …         ┆   ┆           ┆ e         ┆           ┆           │\n",
       "│ 4340306 ┆ MGO LA     ┆ CAR       ┆ Municipal ┆ … ┆ Four (4)  ┆ One (1)   ┆           ┆ 180       │\n",
       "│         ┆ TRINIDAD   ┆           ┆ Accountin ┆   ┆ hours     ┆ year      ┆           ┆           │\n",
       "│         ┆ (CAPITAL), ┆           ┆ g Office  ┆   ┆ relevant  ┆ relevant  ┆           ┆           │\n",
       "│         ┆ BEN…       ┆           ┆           ┆   ┆ traini…   ┆ experien… ┆           ┆           │\n",
       "└─────────┴────────────┴───────────┴───────────┴───┴───────────┴───────────┴───────────┴───────────┘"
      ]
     },
     "execution_count": 12,
     "metadata": {},
     "output_type": "execute_result"
    }
   ],
   "source": [
    "pl_data.filter(pl.col(\"Posting Date\") > pl.lit(\"2024-07-01\", pl.Date)).filter(pl.col(\"Posting Date\") < pl.lit(\"2026-01-01\", pl.Date))"
   ]
  },
  {
   "cell_type": "code",
   "execution_count": 13,
   "id": "228805f1",
   "metadata": {},
   "outputs": [],
   "source": [
    "sorted_data = pl_data.sort(\"Posting Date\")\n",
    "# .filter(pl.col(\"Posting Date\") > pl.lit(\"2024-07-01\", pl.Date)).filter(pl.col(\"Posting Date\") < pl.lit(\"2026-01-01\", pl.Date))"
   ]
  },
  {
   "cell_type": "code",
   "execution_count": 14,
   "id": "29d0b8ce",
   "metadata": {},
   "outputs": [
    {
     "data": {
      "text/html": [
       "<div><style>\n",
       ".dataframe > thead > tr,\n",
       ".dataframe > tbody > tr {\n",
       "  text-align: right;\n",
       "  white-space: pre-wrap;\n",
       "}\n",
       "</style>\n",
       "<small>shape: (122, 2)</small><table border=\"1\" class=\"dataframe\"><thead><tr><th>Posting Date</th><th>count</th></tr><tr><td>date</td><td>u32</td></tr></thead><tbody><tr><td>2000-01-08</td><td>1</td></tr><tr><td>2014-03-14</td><td>4</td></tr><tr><td>2014-11-23</td><td>2</td></tr><tr><td>2014-11-24</td><td>1</td></tr><tr><td>2018-01-24</td><td>1</td></tr><tr><td>&hellip;</td><td>&hellip;</td></tr><tr><td>2025-04-04</td><td>541</td></tr><tr><td>2025-04-07</td><td>268</td></tr><tr><td>2025-04-08</td><td>397</td></tr><tr><td>2025-04-09</td><td>1</td></tr><tr><td>2025-04-10</td><td>5</td></tr></tbody></table></div>"
      ],
      "text/plain": [
       "shape: (122, 2)\n",
       "┌──────────────┬───────┐\n",
       "│ Posting Date ┆ count │\n",
       "│ ---          ┆ ---   │\n",
       "│ date         ┆ u32   │\n",
       "╞══════════════╪═══════╡\n",
       "│ 2000-01-08   ┆ 1     │\n",
       "│ 2014-03-14   ┆ 4     │\n",
       "│ 2014-11-23   ┆ 2     │\n",
       "│ 2014-11-24   ┆ 1     │\n",
       "│ 2018-01-24   ┆ 1     │\n",
       "│ …            ┆ …     │\n",
       "│ 2025-04-04   ┆ 541   │\n",
       "│ 2025-04-07   ┆ 268   │\n",
       "│ 2025-04-08   ┆ 397   │\n",
       "│ 2025-04-09   ┆ 1     │\n",
       "│ 2025-04-10   ┆ 5     │\n",
       "└──────────────┴───────┘"
      ]
     },
     "execution_count": 14,
     "metadata": {},
     "output_type": "execute_result"
    }
   ],
   "source": [
    "counts = sorted_data.group_by_dynamic(\n",
    "    \"Posting Date\",\n",
    "    every=\"1m\",\n",
    ").agg(pl.col(\"MonthlySalary\").count().alias(\"count\"))\n",
    "counts"
   ]
  },
  {
   "cell_type": "code",
   "execution_count": 15,
   "id": "fb001912",
   "metadata": {},
   "outputs": [],
   "source": [
    "date_range = pl.date_range(\n",
    "    start=sorted_data[\"Posting Date\"].min(),\n",
    "    end=sorted_data[\"Posting Date\"].max(),\n",
    "    interval=\"1mo\",\n",
    "    eager=True\n",
    ").alias(\"Posting Date\")"
   ]
  },
  {
   "cell_type": "code",
   "execution_count": 16,
   "id": "21f77b04",
   "metadata": {},
   "outputs": [],
   "source": [
    "full_result = pl.DataFrame([date_range]).join(\n",
    "    counts,\n",
    "    on=\"Posting Date\",\n",
    "    how=\"left\"\n",
    ").fill_null(0)"
   ]
  },
  {
   "cell_type": "code",
   "execution_count": 17,
   "id": "fd86a43b",
   "metadata": {},
   "outputs": [
    {
     "data": {
      "text/html": [
       "<div><style>\n",
       ".dataframe > thead > tr,\n",
       ".dataframe > tbody > tr {\n",
       "  text-align: right;\n",
       "  white-space: pre-wrap;\n",
       "}\n",
       "</style>\n",
       "<small>shape: (304, 2)</small><table border=\"1\" class=\"dataframe\"><thead><tr><th>Posting Date</th><th>count</th></tr><tr><td>date</td><td>u32</td></tr></thead><tbody><tr><td>2000-01-08</td><td>1</td></tr><tr><td>2000-02-08</td><td>0</td></tr><tr><td>2000-03-08</td><td>0</td></tr><tr><td>2000-04-08</td><td>0</td></tr><tr><td>2000-05-08</td><td>0</td></tr><tr><td>&hellip;</td><td>&hellip;</td></tr><tr><td>2024-12-08</td><td>0</td></tr><tr><td>2025-01-08</td><td>1603</td></tr><tr><td>2025-02-08</td><td>0</td></tr><tr><td>2025-03-08</td><td>0</td></tr><tr><td>2025-04-08</td><td>397</td></tr></tbody></table></div>"
      ],
      "text/plain": [
       "shape: (304, 2)\n",
       "┌──────────────┬───────┐\n",
       "│ Posting Date ┆ count │\n",
       "│ ---          ┆ ---   │\n",
       "│ date         ┆ u32   │\n",
       "╞══════════════╪═══════╡\n",
       "│ 2000-01-08   ┆ 1     │\n",
       "│ 2000-02-08   ┆ 0     │\n",
       "│ 2000-03-08   ┆ 0     │\n",
       "│ 2000-04-08   ┆ 0     │\n",
       "│ 2000-05-08   ┆ 0     │\n",
       "│ …            ┆ …     │\n",
       "│ 2024-12-08   ┆ 0     │\n",
       "│ 2025-01-08   ┆ 1603  │\n",
       "│ 2025-02-08   ┆ 0     │\n",
       "│ 2025-03-08   ┆ 0     │\n",
       "│ 2025-04-08   ┆ 397   │\n",
       "└──────────────┴───────┘"
      ]
     },
     "execution_count": 17,
     "metadata": {},
     "output_type": "execute_result"
    }
   ],
   "source": [
    "full_result"
   ]
  },
  {
   "cell_type": "code",
   "execution_count": 18,
   "id": "48ac622b",
   "metadata": {},
   "outputs": [
    {
     "data": {
      "text/html": [
       "<div><style>\n",
       ".dataframe > thead > tr,\n",
       ".dataframe > tbody > tr {\n",
       "  text-align: right;\n",
       "  white-space: pre-wrap;\n",
       "}\n",
       "</style>\n",
       "<small>shape: (16, 3)</small><table border=\"1\" class=\"dataframe\"><thead><tr><th>year</th><th>month</th><th>count</th></tr><tr><td>i32</td><td>i8</td><td>u32</td></tr></thead><tbody><tr><td>2000</td><td>1</td><td>1</td></tr><tr><td>2025</td><td>4</td><td>4310</td></tr><tr><td>2024</td><td>1</td><td>8</td></tr><tr><td>2014</td><td>3</td><td>4</td></tr><tr><td>2024</td><td>11</td><td>1742</td></tr><tr><td>&hellip;</td><td>&hellip;</td><td>&hellip;</td></tr><tr><td>2018</td><td>1</td><td>1</td></tr><tr><td>2014</td><td>11</td><td>3</td></tr><tr><td>2023</td><td>12</td><td>3</td></tr><tr><td>2024</td><td>9</td><td>1</td></tr><tr><td>2019</td><td>4</td><td>5</td></tr></tbody></table></div>"
      ],
      "text/plain": [
       "shape: (16, 3)\n",
       "┌──────┬───────┬───────┐\n",
       "│ year ┆ month ┆ count │\n",
       "│ ---  ┆ ---   ┆ ---   │\n",
       "│ i32  ┆ i8    ┆ u32   │\n",
       "╞══════╪═══════╪═══════╡\n",
       "│ 2000 ┆ 1     ┆ 1     │\n",
       "│ 2025 ┆ 4     ┆ 4310  │\n",
       "│ 2024 ┆ 1     ┆ 8     │\n",
       "│ 2014 ┆ 3     ┆ 4     │\n",
       "│ 2024 ┆ 11    ┆ 1742  │\n",
       "│ …    ┆ …     ┆ …     │\n",
       "│ 2018 ┆ 1     ┆ 1     │\n",
       "│ 2014 ┆ 11    ┆ 3     │\n",
       "│ 2023 ┆ 12    ┆ 3     │\n",
       "│ 2024 ┆ 9     ┆ 1     │\n",
       "│ 2019 ┆ 4     ┆ 5     │\n",
       "└──────┴───────┴───────┘"
      ]
     },
     "execution_count": 18,
     "metadata": {},
     "output_type": "execute_result"
    }
   ],
   "source": [
    "counts = (\n",
    "    counts.with_columns([\n",
    "        pl.col(\"Posting Date\").dt.month().alias(\"month\"),\n",
    "        pl.col(\"Posting Date\").dt.year().alias(\"year\"),\n",
    "    ])\n",
    "    .group_by([\"year\", \"month\"]).agg(pl.col(\"count\").sum())\n",
    ")\n",
    "counts"
   ]
  },
  {
   "cell_type": "code",
   "execution_count": 19,
   "id": "29ef6d8c",
   "metadata": {},
   "outputs": [
    {
     "data": {
      "text/html": [
       "<div><style>\n",
       ".dataframe > thead > tr,\n",
       ".dataframe > tbody > tr {\n",
       "  text-align: right;\n",
       "  white-space: pre-wrap;\n",
       "}\n",
       "</style>\n",
       "<small>shape: (9, 8)</small><table border=\"1\" class=\"dataframe\"><thead><tr><th>month</th><th>2000</th><th>2014</th><th>2018</th><th>2019</th><th>2023</th><th>2024</th><th>2025</th></tr><tr><td>i8</td><td>u32</td><td>u32</td><td>u32</td><td>u32</td><td>u32</td><td>u32</td><td>u32</td></tr></thead><tbody><tr><td>1</td><td>1</td><td>null</td><td>1</td><td>null</td><td>null</td><td>8</td><td>35693</td></tr><tr><td>2</td><td>null</td><td>null</td><td>null</td><td>null</td><td>null</td><td>null</td><td>33053</td></tr><tr><td>3</td><td>null</td><td>4</td><td>null</td><td>null</td><td>null</td><td>null</td><td>17306</td></tr><tr><td>4</td><td>null</td><td>null</td><td>null</td><td>5</td><td>null</td><td>null</td><td>4310</td></tr><tr><td>7</td><td>null</td><td>null</td><td>null</td><td>null</td><td>null</td><td>2</td><td>null</td></tr><tr><td>9</td><td>null</td><td>null</td><td>null</td><td>null</td><td>null</td><td>1</td><td>null</td></tr><tr><td>10</td><td>null</td><td>null</td><td>null</td><td>null</td><td>null</td><td>12</td><td>null</td></tr><tr><td>11</td><td>null</td><td>3</td><td>null</td><td>null</td><td>null</td><td>1742</td><td>null</td></tr><tr><td>12</td><td>null</td><td>null</td><td>null</td><td>null</td><td>3</td><td>18100</td><td>null</td></tr></tbody></table></div>"
      ],
      "text/plain": [
       "shape: (9, 8)\n",
       "┌───────┬──────┬──────┬──────┬──────┬──────┬───────┬───────┐\n",
       "│ month ┆ 2000 ┆ 2014 ┆ 2018 ┆ 2019 ┆ 2023 ┆ 2024  ┆ 2025  │\n",
       "│ ---   ┆ ---  ┆ ---  ┆ ---  ┆ ---  ┆ ---  ┆ ---   ┆ ---   │\n",
       "│ i8    ┆ u32  ┆ u32  ┆ u32  ┆ u32  ┆ u32  ┆ u32   ┆ u32   │\n",
       "╞═══════╪══════╪══════╪══════╪══════╪══════╪═══════╪═══════╡\n",
       "│ 1     ┆ 1    ┆ null ┆ 1    ┆ null ┆ null ┆ 8     ┆ 35693 │\n",
       "│ 2     ┆ null ┆ null ┆ null ┆ null ┆ null ┆ null  ┆ 33053 │\n",
       "│ 3     ┆ null ┆ 4    ┆ null ┆ null ┆ null ┆ null  ┆ 17306 │\n",
       "│ 4     ┆ null ┆ null ┆ null ┆ 5    ┆ null ┆ null  ┆ 4310  │\n",
       "│ 7     ┆ null ┆ null ┆ null ┆ null ┆ null ┆ 2     ┆ null  │\n",
       "│ 9     ┆ null ┆ null ┆ null ┆ null ┆ null ┆ 1     ┆ null  │\n",
       "│ 10    ┆ null ┆ null ┆ null ┆ null ┆ null ┆ 12    ┆ null  │\n",
       "│ 11    ┆ null ┆ 3    ┆ null ┆ null ┆ null ┆ 1742  ┆ null  │\n",
       "│ 12    ┆ null ┆ null ┆ null ┆ null ┆ 3    ┆ 18100 ┆ null  │\n",
       "└───────┴──────┴──────┴──────┴──────┴──────┴───────┴───────┘"
      ]
     },
     "execution_count": 19,
     "metadata": {},
     "output_type": "execute_result"
    }
   ],
   "source": [
    "pivot_table = counts.pivot(\n",
    "    on=\"year\",\n",
    "    index=\"month\",\n",
    "    values=\"count\",\n",
    "    aggregate_function=\"sum\",\n",
    "    sort_columns=True,\n",
    ").sort(\"month\")\n",
    "pivot_table"
   ]
  },
  {
   "cell_type": "code",
   "execution_count": 20,
   "id": "519c63b6",
   "metadata": {},
   "outputs": [
    {
     "data": {
      "text/html": [
       "<div><style>\n",
       ".dataframe > thead > tr,\n",
       ".dataframe > tbody > tr {\n",
       "  text-align: right;\n",
       "  white-space: pre-wrap;\n",
       "}\n",
       "</style>\n",
       "<small>shape: (12, 8)</small><table border=\"1\" class=\"dataframe\"><thead><tr><th>month</th><th>2000</th><th>2014</th><th>2018</th><th>2019</th><th>2023</th><th>2024</th><th>2025</th></tr><tr><td>i8</td><td>u32</td><td>u32</td><td>u32</td><td>u32</td><td>u32</td><td>u32</td><td>u32</td></tr></thead><tbody><tr><td>1</td><td>1</td><td>null</td><td>1</td><td>null</td><td>null</td><td>8</td><td>35693</td></tr><tr><td>2</td><td>null</td><td>null</td><td>null</td><td>null</td><td>null</td><td>null</td><td>33053</td></tr><tr><td>3</td><td>null</td><td>4</td><td>null</td><td>null</td><td>null</td><td>null</td><td>17306</td></tr><tr><td>4</td><td>null</td><td>null</td><td>null</td><td>5</td><td>null</td><td>null</td><td>4310</td></tr><tr><td>5</td><td>null</td><td>null</td><td>null</td><td>null</td><td>null</td><td>null</td><td>null</td></tr><tr><td>&hellip;</td><td>&hellip;</td><td>&hellip;</td><td>&hellip;</td><td>&hellip;</td><td>&hellip;</td><td>&hellip;</td><td>&hellip;</td></tr><tr><td>8</td><td>null</td><td>null</td><td>null</td><td>null</td><td>null</td><td>null</td><td>null</td></tr><tr><td>9</td><td>null</td><td>null</td><td>null</td><td>null</td><td>null</td><td>1</td><td>null</td></tr><tr><td>10</td><td>null</td><td>null</td><td>null</td><td>null</td><td>null</td><td>12</td><td>null</td></tr><tr><td>11</td><td>null</td><td>3</td><td>null</td><td>null</td><td>null</td><td>1742</td><td>null</td></tr><tr><td>12</td><td>null</td><td>null</td><td>null</td><td>null</td><td>3</td><td>18100</td><td>null</td></tr></tbody></table></div>"
      ],
      "text/plain": [
       "shape: (12, 8)\n",
       "┌───────┬──────┬──────┬──────┬──────┬──────┬───────┬───────┐\n",
       "│ month ┆ 2000 ┆ 2014 ┆ 2018 ┆ 2019 ┆ 2023 ┆ 2024  ┆ 2025  │\n",
       "│ ---   ┆ ---  ┆ ---  ┆ ---  ┆ ---  ┆ ---  ┆ ---   ┆ ---   │\n",
       "│ i8    ┆ u32  ┆ u32  ┆ u32  ┆ u32  ┆ u32  ┆ u32   ┆ u32   │\n",
       "╞═══════╪══════╪══════╪══════╪══════╪══════╪═══════╪═══════╡\n",
       "│ 1     ┆ 1    ┆ null ┆ 1    ┆ null ┆ null ┆ 8     ┆ 35693 │\n",
       "│ 2     ┆ null ┆ null ┆ null ┆ null ┆ null ┆ null  ┆ 33053 │\n",
       "│ 3     ┆ null ┆ 4    ┆ null ┆ null ┆ null ┆ null  ┆ 17306 │\n",
       "│ 4     ┆ null ┆ null ┆ null ┆ 5    ┆ null ┆ null  ┆ 4310  │\n",
       "│ 5     ┆ null ┆ null ┆ null ┆ null ┆ null ┆ null  ┆ null  │\n",
       "│ …     ┆ …    ┆ …    ┆ …    ┆ …    ┆ …    ┆ …     ┆ …     │\n",
       "│ 8     ┆ null ┆ null ┆ null ┆ null ┆ null ┆ null  ┆ null  │\n",
       "│ 9     ┆ null ┆ null ┆ null ┆ null ┆ null ┆ 1     ┆ null  │\n",
       "│ 10    ┆ null ┆ null ┆ null ┆ null ┆ null ┆ 12    ┆ null  │\n",
       "│ 11    ┆ null ┆ 3    ┆ null ┆ null ┆ null ┆ 1742  ┆ null  │\n",
       "│ 12    ┆ null ┆ null ┆ null ┆ null ┆ 3    ┆ 18100 ┆ null  │\n",
       "└───────┴──────┴──────┴──────┴──────┴──────┴───────┴───────┘"
      ]
     },
     "execution_count": 20,
     "metadata": {},
     "output_type": "execute_result"
    }
   ],
   "source": [
    "def insert_missing_month(df, months: list):\n",
    "    # Create a new row with the missing month\n",
    "    for month in months:\n",
    "\n",
    "        if month in df[\"month\"].to_list():\n",
    "            continue\n",
    "        new_row = pl.DataFrame(\n",
    "            {\n",
    "                \"month\": month,\n",
    "                \"2000\": None,\n",
    "                \"2014\": None,\n",
    "                \"2018\": None,\n",
    "                \"2019\": None,\n",
    "                \"2023\": None,\n",
    "                \"2024\": None,\n",
    "                \"2025\": None,\n",
    "            },\n",
    "            schema=df.schema,\n",
    "        )\n",
    "        df = df.vstack(new_row)\n",
    "\n",
    "    return df\n",
    "\n",
    "\n",
    "pivot_table = insert_missing_month(pivot_table, [5, 6, 8]).sort(\"month\")\n",
    "pivot_table"
   ]
  },
  {
   "cell_type": "code",
   "execution_count": 21,
   "id": "68c64816",
   "metadata": {},
   "outputs": [
    {
     "data": {
      "image/png": "[encoded data removed]",
      "text/plain": [
       "<Figure size 400x250 with 2 Axes>"
      ]
     },
     "metadata": {},
     "output_type": "display_data"
    }
   ],
   "source": [
    "plt.style.use(MPL_STYLE_DIR / \"iragca_ml.mplstyle\")\n",
    "# plt.style.use(MPL_STYLE_DIR / \"iragca_cmr10.mplstyle\")\n",
    "plt.style.reload_library()\n",
    "fig, ax = plt.subplots()\n",
    "\n",
    "MONTHS = [\n",
    "    \"Jan\",\n",
    "    \"Feb\",\n",
    "    \"Mar\",\n",
    "    \"Apr\",\n",
    "    \"May\",\n",
    "    \"Jun\",\n",
    "    \"Jul\",\n",
    "    \"Aug\",\n",
    "    \"Sep\",\n",
    "    \"Oct\",\n",
    "    \"Nov\",\n",
    "    \"Dec\",\n",
    "]\n",
    "\n",
    "YEARS = [\n",
    "    \"2000\",\n",
    "    \"2014\",\n",
    "    \"2018\",\n",
    "    \"2019\",\n",
    "    \"2023\",\n",
    "    \"2024\",\n",
    "    \"2025\",\n",
    "]\n",
    "\n",
    "\n",
    "# plt.style.reload_library()\n",
    "sns.heatmap(\n",
    "    data=pivot_table.drop(\"month\"),\n",
    "    annot=True,\n",
    "    fmt=\".0f\",\n",
    "    cmap=\"YlGnBu\",\n",
    "    cbar_kws={\"label\": \"Job Postings\"},\n",
    "    xticklabels=YEARS,\n",
    "    yticklabels=MONTHS,\n",
    ")\n",
    "plt.title(\"Job Posting Frequency by Month and Year\")\n",
    "plt.xlabel(\"Year\")\n",
    "plt.ylabel(\"Month\")\n",
    "\n",
    "ax.spines[\"left\"].set_visible(True)\n",
    "ax.spines[\"bottom\"].set_visible(True)\n",
    "ax.spines[\"right\"].set_visible(True)\n",
    "ax.spines[\"top\"].set_visible(True)"
   ]
  },
  {
   "cell_type": "code",
   "execution_count": 22,
   "id": "6a3cb0bc",
   "metadata": {},
   "outputs": [
    {
     "data": {
      "text/plain": [
       "<Axes: xlabel='Posting Date', ylabel='MonthlySalary'>"
      ]
     },
     "execution_count": 22,
     "metadata": {},
     "output_type": "execute_result"
    },
    {
     "data": {
      "image/png": "[encoded data removed]",
      "text/plain": [
       "<Figure size 400x250 with 1 Axes>"
      ]
     },
     "metadata": {},
     "output_type": "display_data"
    }
   ],
   "source": [
    "plt.style.reload_library()\n",
    "plt.style.use(MPL_STYLE_DIR / \"iragca_cmr10.mplstyle\")\n",
    "\n",
    "sns.lineplot(pl_data, x=\"Posting Date\", y=\"MonthlySalary\")"
   ]
  }
 ],
 "metadata": {
  "kernelspec": {
   "display_name": ".venv",
   "language": "python",
   "name": "python3"
  },
  "language_info": {
   "codemirror_mode": {
    "name": "ipython",
    "version": 3
   },
   "file_extension": ".py",
   "mimetype": "text/x-python",
   "name": "python",
   "nbconvert_exporter": "python",
   "pygments_lexer": "ipython3",
   "version": "3.12.9"
  }
 },
 "nbformat": 4,
 "nbformat_minor": 5
}
